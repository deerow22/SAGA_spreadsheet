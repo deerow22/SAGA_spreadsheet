{
 "cells": [
  {
   "cell_type": "markdown",
   "metadata": {},
   "source": [
    "# SAGA ancillary data collation\n",
    "###  Importing programs and reading in SAGA spectral data"
   ]
  },
  {
   "cell_type": "code",
   "execution_count": 2,
   "metadata": {},
   "outputs": [
    {
     "data": {
      "text/html": [
       "&lt;Table masked=True length=68635&gt;\n",
       "<table id=\"table4682379104\" class=\"table-striped table-bordered table-condensed\">\n",
       "<thead><tr><th>OBJID</th><th>RA</th><th>DEC</th><th>PHOTPTYPE</th><th>PHOT_SG</th><th>FLAGS</th><th>clean</th><th>SATURATED</th><th>BAD_COUNTS_ERROR</th><th>BINNED1</th><th>TOO_FEW_GOOD_DETECTIONS</th><th>u</th><th>g</th><th>r</th><th>i</th><th>z</th><th>u_err</th><th>g_err</th><th>r_err</th><th>i_err</th><th>z_err</th><th>MODELMAGERR_U</th><th>MODELMAGERR_G</th><th>MODELMAGERR_R</th><th>MODELMAGERR_I</th><th>MODELMAGERR_Z</th><th>EXTINCTION_U</th><th>EXTINCTION_G</th><th>EXTINCTION_R</th><th>EXTINCTION_I</th><th>EXTINCTION_Z</th><th>DERED_U</th><th>DERED_G</th><th>DERED_R</th><th>DERED_I</th><th>DERED_Z</th><th>PETRORAD_U</th><th>PETRORAD_G</th><th>PETRORAD_R</th><th>PETRORAD_I</th><th>PETRORAD_Z</th><th>PETRORADERR_U</th><th>PETRORADERR_G</th><th>PETRORADERR_R</th><th>PETRORADERR_I</th><th>PETRORADERR_Z</th><th>DEVRAD_U</th><th>DEVRADERR_U</th><th>DEVRAD_G</th><th>DEVRADERR_G</th><th>DEVRAD_R</th><th>DEVRADERR_R</th><th>DEVRAD_I</th><th>DEVRADERR_I</th><th>DEVRAD_Z</th><th>DEVRADERR_Z</th><th>DEVAB_U</th><th>DEVAB_G</th><th>DEVAB_R</th><th>DEVAB_I</th><th>DEVAB_Z</th><th>CMODELMAG_U</th><th>CMODELMAGERR_U</th><th>CMODELMAG_G</th><th>CMODELMAGERR_G</th><th>CMODELMAG_R</th><th>CMODELMAGERR_R</th><th>CMODELMAG_I</th><th>CMODELMAGERR_I</th><th>CMODELMAG_Z</th><th>CMODELMAGERR_Z</th><th>PSFMAG_U</th><th>PSFMAGERR_U</th><th>PSFMAG_G</th><th>PSFMAGERR_G</th><th>PSFMAG_R</th><th>PSFMAGERR_R</th><th>PSFMAG_I</th><th>PSFMAGERR_I</th><th>PSFMAG_Z</th><th>PSFMAGERR_Z</th><th>FIBERMAG_U</th><th>FIBERMAGERR_U</th><th>FIBERMAG_G</th><th>FIBERMAGERR_G</th><th>FIBERMAG_R</th><th>FIBERMAGERR_R</th><th>FIBERMAG_I</th><th>FIBERMAGERR_I</th><th>FIBERMAG_Z</th><th>FIBERMAGERR_Z</th><th>FRACDEV_U</th><th>FRACDEV_G</th><th>FRACDEV_R</th><th>FRACDEV_I</th><th>FRACDEV_Z</th><th>Q_U</th><th>U_U</th><th>Q_G</th><th>U_G</th><th>Q_R</th><th>U_R</th><th>Q_I</th><th>U_I</th><th>Q_Z</th><th>U_Z</th><th>EXPAB_U</th><th>EXPRAD_U</th><th>EXPPHI_U</th><th>EXPAB_G</th><th>EXPRAD_G</th><th>EXPPHI_G</th><th>EXPAB_R</th><th>EXPRAD_R</th><th>EXPPHI_R</th><th>EXPAB_I</th><th>EXPRAD_I</th><th>EXPPHI_I</th><th>EXPAB_Z</th><th>EXPRAD_Z</th><th>EXPPHI_Z</th><th>FIBER2MAG_R</th><th>FIBER2MAGERR_R</th><th>EXPMAG_R</th><th>EXPMAGERR_R</th><th>PETROR50_R</th><th>PETROR90_R</th><th>PETROMAG_R</th><th>SB_EXP_R</th><th>SB_PETRO_R</th><th>J</th><th>JERR</th><th>H</th><th>HERR</th><th>K</th><th>KERR</th><th>survey</th><th>SPEC_Z</th><th>SPEC_Z_ERR</th><th>SPEC_Z_WARN</th><th>PHOTOZ</th><th>PHOTOZ_ERR</th><th>W1</th><th>W1ERR</th><th>W2</th><th>W2ERR</th><th>HOST_RA</th><th>HOST_DEC</th><th>HOST_DIST</th><th>HOST_VHOST</th><th>HOST_MK</th><th>HOST_MR</th><th>HOST_MG</th><th>HOST_NSAID</th><th>HOST_SAGA_NAME</th><th>HOST_NGC_NAME</th><th>RHOST_ARCM</th><th>RHOST_KPC</th><th>OBJ_NSAID</th><th>SATS</th><th>PROBABILITY_CLASS1</th><th>RESCALED_PROBABILITY_CLASS1</th><th>REMOVE</th><th>TELNAME</th><th>MASKNAME</th><th>ZQUALITY</th><th>SPEC_CLASS</th><th>SPECOBJID</th><th>SPEC_REPEAT</th><th>SPEC_SN</th><th>SPEC_HA_EW</th><th>SPEC_HA_EWERR</th></tr></thead>\n",
       "<thead><tr><th>int64</th><th>float64</th><th>float64</th><th>int16</th><th>str40</th><th>int64</th><th>int32</th><th>int64</th><th>int64</th><th>int64</th><th>int64</th><th>float32</th><th>float32</th><th>float32</th><th>float32</th><th>float32</th><th>float32</th><th>float32</th><th>float32</th><th>float32</th><th>float32</th><th>float32</th><th>float32</th><th>float32</th><th>float32</th><th>float32</th><th>float32</th><th>float32</th><th>float32</th><th>float32</th><th>float32</th><th>float32</th><th>float32</th><th>float32</th><th>float32</th><th>float32</th><th>float32</th><th>float32</th><th>float32</th><th>float32</th><th>float32</th><th>float32</th><th>float32</th><th>float32</th><th>float32</th><th>float32</th><th>float32</th><th>float32</th><th>float32</th><th>float32</th><th>float32</th><th>float32</th><th>float32</th><th>float32</th><th>float32</th><th>float32</th><th>float32</th><th>float32</th><th>float32</th><th>float32</th><th>float32</th><th>float32</th><th>float32</th><th>float32</th><th>float32</th><th>float32</th><th>float32</th><th>float32</th><th>float32</th><th>float32</th><th>float32</th><th>float32</th><th>float32</th><th>float32</th><th>float32</th><th>float32</th><th>float32</th><th>float32</th><th>float32</th><th>float32</th><th>float32</th><th>float32</th><th>float32</th><th>float32</th><th>float32</th><th>float32</th><th>float32</th><th>float32</th><th>float32</th><th>float32</th><th>float32</th><th>float32</th><th>float32</th><th>float32</th><th>float32</th><th>float32</th><th>float32</th><th>float32</th><th>float32</th><th>float32</th><th>float32</th><th>float32</th><th>float32</th><th>float32</th><th>float32</th><th>float32</th><th>float32</th><th>float32</th><th>float32</th><th>float32</th><th>float32</th><th>float32</th><th>float32</th><th>float32</th><th>float32</th><th>float32</th><th>float32</th><th>float32</th><th>float32</th><th>float32</th><th>float32</th><th>float32</th><th>float32</th><th>float32</th><th>float32</th><th>float32</th><th>float32</th><th>float32</th><th>float64</th><th>float64</th><th>float32</th><th>float32</th><th>float32</th><th>float32</th><th>float32</th><th>float32</th><th>str32</th><th>float32</th><th>float32</th><th>int32</th><th>float32</th><th>float32</th><th>float64</th><th>float64</th><th>float64</th><th>float64</th><th>float64</th><th>float64</th><th>float64</th><th>float64</th><th>float64</th><th>float64</th><th>float64</th><th>int64</th><th>str48</th><th>str48</th><th>float64</th><th>float64</th><th>int64</th><th>int64</th><th>float64</th><th>float64</th><th>int64</th><th>str6</th><th>str48</th><th>int64</th><th>str2</th><th>str48</th><th>str48</th><th>float64</th><th>float64</th><th>float64</th></tr></thead>\n",
       "<tr><td>1237648721752687341</td><td>145.879343509</td><td>0.299512600817</td><td>3</td><td>GALAXY</td><td>68988047616</td><td>1</td><td>0</td><td>0</td><td>268435456</td><td>0</td><td>26.2849</td><td>22.8829</td><td>21.4835</td><td>20.4214</td><td>19.5881</td><td>0.54475</td><td>0.27093</td><td>0.11369</td><td>0.0660681</td><td>0.139156</td><td>0.54475</td><td>0.27093</td><td>0.11369</td><td>0.0660681</td><td>0.139156</td><td>0.558482</td><td>0.410926</td><td>0.298038</td><td>0.225993</td><td>0.160232</td><td>25.7264</td><td>22.4719</td><td>21.1854</td><td>20.1954</td><td>19.4279</td><td>0.250865</td><td>2.96889</td><td>11.3054</td><td>11.3039</td><td>2.52692</td><td>0.141509</td><td>-1000.0</td><td>-1000.0</td><td>-1000.0</td><td>0.347782</td><td>3.78751</td><td>15.6917</td><td>0.777427</td><td>1.54706</td><td>1.49026</td><td>0.999064</td><td>2.06841</td><td>0.925185</td><td>0.92104</td><td>0.000487111</td><td>0.998406</td><td>0.299973</td><td>0.112841</td><td>0.500171</td><td>0.265029</td><td>26.8997</td><td>0.547248</td><td>23.3724</td><td>0.316338</td><td>21.4835</td><td>0.122613</td><td>20.0087</td><td>0.0655948</td><td>19.4732</td><td>0.126404</td><td>24.9845</td><td>0.720876</td><td>23.3809</td><td>0.229851</td><td>22.1688</td><td>0.116657</td><td>21.1972</td><td>0.0706272</td><td>20.2621</td><td>0.138189</td><td>25.5319</td><td>0.736673</td><td>23.5322</td><td>0.362969</td><td>22.3808</td><td>0.177323</td><td>21.1575</td><td>0.0920874</td><td>20.2236</td><td>0.171448</td><td>0.0</td><td>0.0</td><td>1.0</td><td>1.0</td><td>0.37336</td><td>-8.03106</td><td>-5.4241</td><td>-0.544542</td><td>0.186754</td><td>0.0366371</td><td>-0.136146</td><td>0.465579</td><td>-0.0800503</td><td>-0.570126</td><td>0.208437</td><td>0.998062</td><td>1.92864</td><td>136.282</td><td>0.249659</td><td>0.212195</td><td>152.984</td><td>0.0917893</td><td>1.02338</td><td>144.444</td><td>0.567795</td><td>1.01643</td><td>0.0335347</td><td>0.626707</td><td>1.18859</td><td>53.396</td><td>22.9117</td><td>0.19026</td><td>21.7252</td><td>0.118612</td><td>2.91659</td><td>6.41308</td><td>21.0227</td><td>23.7708607492</td><td>25.3424863989</td><td>9999.0</td><td>9999.0</td><td>9999.0</td><td>9999.0</td><td>9999.0</td><td>9999.0</td><td>boss</td><td>0.586617</td><td>0.000220982</td><td>0</td><td>0.583909</td><td>0.04969</td><td>-1.0</td><td>-1.0</td><td>-1.0</td><td>-1.0</td><td>145.513690377</td><td>0.336451585096</td><td>30.0373516083</td><td>1912.34655762</td><td>-23.5218249121</td><td>-21.2755714191</td><td>-20.7350530517</td><td>32</td><td></td><td></td><td>22.0505166047</td><td>192.665319136</td><td>-1</td><td>0</td><td>-1.0</td><td>-1.0</td><td>-1</td><td>SDSS</td><td>SDSS</td><td>4</td><td></td><td>1.23764872175e+18</td><td>SDSS</td><td>-99.0</td><td>-99.0</td><td>-99.0</td></tr>\n",
       "<tr><td>1237648721215750163</td><td>145.737188848</td><td>-0.0610042046456</td><td>3</td><td>GALAXY</td><td>35255508144432</td><td>1</td><td>0</td><td>0</td><td>268435456</td><td>0</td><td>20.2007</td><td>18.2087</td><td>17.1018</td><td>16.594</td><td>16.2278</td><td>0.0890257</td><td>0.00992963</td><td>0.00585766</td><td>0.00567208</td><td>0.0136106</td><td>0.0890257</td><td>0.00992963</td><td>0.00585766</td><td>0.00567208</td><td>0.0136106</td><td>0.345405</td><td>0.254146</td><td>0.184328</td><td>0.13977</td><td>0.0990987</td><td>19.8553</td><td>17.9545</td><td>16.9174</td><td>16.4543</td><td>16.1287</td><td>18.0172</td><td>5.46885</td><td>5.74807</td><td>5.5735</td><td>5.22623</td><td>-1000.0</td><td>0.135565</td><td>0.101479</td><td>0.104613</td><td>0.266375</td><td>4.90222</td><td>2.14544</td><td>3.23396</td><td>0.194648</td><td>2.70337</td><td>0.0638021</td><td>2.37749</td><td>0.0647151</td><td>2.0853</td><td>0.179903</td><td>0.999753</td><td>0.814373</td><td>0.819551</td><td>0.836895</td><td>0.790449</td><td>19.6329</td><td>0.0840153</td><td>18.1228</td><td>0.00994851</td><td>17.1017</td><td>0.00585766</td><td>16.656</td><td>0.00566859</td><td>16.3996</td><td>0.0135672</td><td>21.691</td><td>0.115595</td><td>19.6037</td><td>0.0251025</td><td>18.5529</td><td>0.0187677</td><td>18.0888</td><td>0.0213761</td><td>17.761</td><td>0.0223499</td><td>21.7656</td><td>0.13571</td><td>19.6901</td><td>0.013575</td><td>18.5338</td><td>0.0074579</td><td>18.0189</td><td>0.00703042</td><td>17.6564</td><td>0.0143401</td><td>1.0</td><td>0.919106</td><td>1.0</td><td>1.0</td><td>1.0</td><td>-0.00729851</td><td>-0.0229355</td><td>-0.0441405</td><td>0.0350743</td><td>-0.0714721</td><td>0.00751124</td><td>-0.0447449</td><td>0.0240575</td><td>-0.0815533</td><td>-7.77024e-06</td><td>0.921089</td><td>3.8298</td><td>101.964</td><td>0.828844</td><td>1.90576</td><td>74.0105</td><td>0.826105</td><td>1.55706</td><td>93.581</td><td>0.807314</td><td>1.48063</td><td>91.076</td><td>0.738471</td><td>1.2104</td><td>97.5049</td><td>19.1631</td><td>0.00946161</td><td>17.5011</td><td>0.0060757</td><td>2.39602</td><td>6.31935</td><td>17.1932</td><td>20.4581090484</td><td>21.0860797677</td><td>15.89</td><td>0.096</td><td>15.122</td><td>0.126</td><td>14.537</td><td>0.115</td><td>sdss</td><td>0.143917</td><td>2.3065e-05</td><td>0</td><td>0.13857</td><td>0.015088</td><td>-1.0</td><td>-1.0</td><td>-1.0</td><td>-1.0</td><td>145.513690377</td><td>0.336451585096</td><td>30.0373516083</td><td>1912.34655762</td><td>-23.5218249121</td><td>-21.2755714191</td><td>-20.7350530517</td><td>32</td><td></td><td></td><td>27.3590909211</td><td>239.047845446</td><td>-1</td><td>0</td><td>0.000126353028815</td><td>-1.0</td><td>-1</td><td>SDSS</td><td>SDSS</td><td>4</td><td></td><td>1.23764872122e+18</td><td>SDSS</td><td>-99.0</td><td>-99.0</td><td>-99.0</td></tr>\n",
       "<tr><td>1237650796219728076</td><td>145.49930471</td><td>0.121501897719</td><td>3</td><td>GALAXY</td><td>68987912192</td><td>1</td><td>0</td><td>0</td><td>268435456</td><td>0</td><td>20.5639</td><td>18.4957</td><td>17.4088</td><td>16.9423</td><td>16.5608</td><td>0.0873996</td><td>0.00886066</td><td>0.0058309</td><td>0.00552607</td><td>0.0128018</td><td>0.0873996</td><td>0.00886066</td><td>0.0058309</td><td>0.00552607</td><td>0.0128018</td><td>0.33356</td><td>0.24543</td><td>0.178007</td><td>0.134977</td><td>0.0957004</td><td>20.2303</td><td>18.2502</td><td>17.2308</td><td>16.8073</td><td>16.4651</td><td>3.58784</td><td>3.19422</td><td>3.1074</td><td>2.963</td><td>3.17024</td><td>0.915048</td><td>0.27757</td><td>0.218555</td><td>0.207947</td><td>0.399625</td><td>1.59041</td><td>0.920418</td><td>2.05508</td><td>0.108492</td><td>1.88951</td><td>0.0505217</td><td>1.7736</td><td>0.0377388</td><td>1.81787</td><td>0.110982</td><td>0.349994</td><td>0.294569</td><td>0.316504</td><td>0.308809</td><td>0.320228</td><td>20.6438</td><td>0.0872293</td><td>18.4887</td><td>0.00887199</td><td>17.4192</td><td>0.00583852</td><td>16.9881</td><td>0.00553364</td><td>16.5789</td><td>0.0128054</td><td>21.3759</td><td>0.0930523</td><td>19.3737</td><td>0.0205858</td><td>18.3587</td><td>0.0171157</td><td>17.8952</td><td>0.011909</td><td>17.4554</td><td>0.0212299</td><td>21.4448</td><td>0.103737</td><td>19.4783</td><td>0.010823</td><td>18.3892</td><td>0.00676948</td><td>17.9204</td><td>0.00629228</td><td>17.5455</td><td>0.0160642</td><td>0.918983</td><td>0.90904</td><td>0.946762</td><td>0.926245</td><td>1.0</td><td>0.0452115</td><td>0.1511</td><td>0.118829</td><td>0.156653</td><td>0.125689</td><td>0.126791</td><td>0.143068</td><td>0.132315</td><td>0.0859773</td><td>0.133049</td><td>0.514055</td><td>1.1581</td><td>39.2983</td><td>0.359352</td><td>1.54778</td><td>27.6094</td><td>0.408628</td><td>1.36488</td><td>25.6288</td><td>0.388642</td><td>1.32407</td><td>25.2316</td><td>0.412823</td><td>1.24213</td><td>29.1483</td><td>18.9975</td><td>0.00854066</td><td>17.6232</td><td>0.00590732</td><td>1.40557</td><td>3.88572</td><td>17.5182</td><td>20.2941189528</td><td>20.2529083378</td><td>15.664</td><td>0.09</td><td>15.066</td><td>0.082</td><td>14.49</td><td>0.105</td><td>sdss</td><td>0.123034</td><td>2.58521e-05</td><td>0</td><td>0.124237</td><td>0.009408</td><td>-1.0</td><td>-1.0</td><td>-1.0</td><td>-1.0</td><td>145.513690377</td><td>0.336451585096</td><td>30.0373516083</td><td>1912.34655762</td><td>-23.5218249121</td><td>-21.2755714191</td><td>-20.7350530517</td><td>32</td><td></td><td></td><td>12.9258316214</td><td>112.939335066</td><td>-1</td><td>0</td><td>0.000248687207647</td><td>-1.0</td><td>-1</td><td>SDSS</td><td>SDSS</td><td>4</td><td></td><td>1.23765079622e+18</td><td>SDSS</td><td>-99.0</td><td>-99.0</td><td>-99.0</td></tr>\n",
       "<tr><td>1237648721752359009</td><td>145.145128066</td><td>0.266898859598</td><td>3</td><td>GALAXY</td><td>35253360132112</td><td>1</td><td>0</td><td>0</td><td>268435456</td><td>0</td><td>18.2546</td><td>16.9831</td><td>16.1312</td><td>15.6553</td><td>15.323</td><td>0.0347784</td><td>0.00564499</td><td>0.00399836</td><td>0.00424013</td><td>0.0120071</td><td>0.0338785</td><td>0.0057337</td><td>0.00425585</td><td>0.00420984</td><td>0.0110988</td><td>0.354232</td><td>0.260641</td><td>0.189038</td><td>0.143342</td><td>0.101631</td><td>18.2324</td><td>16.8954</td><td>16.1292</td><td>15.6985</td><td>15.4301</td><td>8.77016</td><td>8.31867</td><td>8.09965</td><td>8.0001</td><td>6.60961</td><td>0.308915</td><td>0.169458</td><td>0.123411</td><td>0.156363</td><td>0.130182</td><td>13.7308</td><td>2.16652</td><td>11.7705</td><td>0.311011</td><td>9.44243</td><td>0.188877</td><td>9.88596</td><td>0.14968</td><td>9.88717</td><td>0.442966</td><td>0.742936</td><td>0.749975</td><td>0.735174</td><td>0.693082</td><td>0.642283</td><td>18.349</td><td>0.0333849</td><td>17.0085</td><td>0.00582993</td><td>16.2272</td><td>0.00436324</td><td>15.7462</td><td>0.00432758</td><td>15.4873</td><td>0.0114438</td><td>21.0358</td><td>0.0712332</td><td>19.6388</td><td>0.0183271</td><td>18.5948</td><td>0.0193947</td><td>18.1711</td><td>0.0230698</td><td>17.9683</td><td>0.0268398</td><td>20.9247</td><td>0.062732</td><td>19.3668</td><td>0.00969934</td><td>18.4507</td><td>0.00726794</td><td>17.9833</td><td>0.00633569</td><td>17.6429</td><td>0.0187808</td><td>0.0</td><td>0.0709947</td><td>0.15613</td><td>0.17699</td><td>0.194271</td><td>-0.1087</td><td>0.000675334</td><td>-0.0864795</td><td>0.000486681</td><td>-0.0990272</td><td>0.0029389</td><td>-0.125044</td><td>-0.00595437</td><td>-0.149043</td><td>0.00491957</td><td>0.742933</td><td>5.09526</td><td>81.5507</td><td>0.76722</td><td>4.41878</td><td>78.8663</td><td>0.742385</td><td>4.01101</td><td>81.3658</td><td>0.694779</td><td>4.08414</td><td>83.1131</td><td>0.644249</td><td>3.8597</td><td>85.8503</td><td>19.1894</td><td>0.00991666</td><td>16.3182</td><td>0.00425585</td><td>4.40541</td><td>12.5547</td><td>16.3103</td><td>21.3465698592</td><td>21.2133674765</td><td>14.675</td><td>9999.0</td><td>14.072</td><td>9999.0</td><td>14.378</td><td>0.154</td><td></td><td>0.0497902</td><td>-1.0</td><td>-1</td><td>0.095146</td><td>0.016463</td><td>-1.0</td><td>-1.0</td><td>-1.0</td><td>-1.0</td><td>145.513690377</td><td>0.336451585096</td><td>30.0373516083</td><td>1912.34655762</td><td>-23.5218249121</td><td>-21.2755714191</td><td>-20.7350530517</td><td>32</td><td></td><td></td><td>22.504971305</td><td>196.636038884</td><td>12306</td><td>0</td><td>0.00370364593575</td><td>-1.0</td><td>-1</td><td>NSA</td><td>sdss</td><td>4</td><td></td><td>1.23764872175e+18</td><td>SDSS+NSA</td><td>-99.0</td><td>0.0</td><td>0.0</td></tr>\n",
       "<tr><td>1237650796756730414</td><td>145.816662813</td><td>0.551376290182</td><td>3</td><td>GALAXY</td><td>35191083110672</td><td>1</td><td>0</td><td>0</td><td>268435456</td><td>0</td><td>23.1905</td><td>21.7876</td><td>20.6007</td><td>19.7094</td><td>19.0501</td><td>0.813083</td><td>0.127437</td><td>0.0619693</td><td>0.0436983</td><td>0.0834485</td><td>0.813083</td><td>0.127437</td><td>0.0619693</td><td>0.0436983</td><td>0.0834485</td><td>0.588206</td><td>0.432796</td><td>0.3139</td><td>0.238021</td><td>0.16876</td><td>22.6023</td><td>21.3548</td><td>20.2868</td><td>19.4713</td><td>18.8813</td><td>2.96922</td><td>2.97019</td><td>2.81423</td><td>3.18205</td><td>3.32778</td><td>-1000.0</td><td>-1000.0</td><td>0.0530022</td><td>0.35017</td><td>0.481647</td><td>12.1813</td><td>43.3906</td><td>7.1785</td><td>4.81266</td><td>2.24436</td><td>0.778251</td><td>2.75088</td><td>0.598452</td><td>1.71272</td><td>0.657936</td><td>0.0999973</td><td>0.297463</td><td>0.933106</td><td>0.711975</td><td>0.262168</td><td>21.9536</td><td>0.565231</td><td>21.067</td><td>0.140398</td><td>20.5488</td><td>0.0689626</td><td>19.5151</td><td>0.0443335</td><td>19.0486</td><td>0.0798095</td><td>24.1297</td><td>0.760174</td><td>22.7486</td><td>0.148243</td><td>21.6206</td><td>0.0748153</td><td>20.6492</td><td>0.0523361</td><td>19.77</td><td>0.0848302</td><td>24.0305</td><td>0.776689</td><td>22.7117</td><td>0.149482</td><td>21.5292</td><td>0.0713179</td><td>20.631</td><td>0.0556047</td><td>19.9668</td><td>0.10366</td><td>0.0</td><td>0.49034</td><td>0.125131</td><td>0.405769</td><td>1.0</td><td>0.167926</td><td>0.346792</td><td>-0.155916</td><td>-0.166819</td><td>0.0501428</td><td>0.00429799</td><td>0.0213017</td><td>-0.0446963</td><td>-0.110567</td><td>0.0987786</td><td>0.150004</td><td>6.03243</td><td>37.7801</td><td>0.364763</td><td>3.23511</td><td>95.6723</td><td>0.896621</td><td>1.2637</td><td>21.9648</td><td>0.746358</td><td>1.38538</td><td>139.103</td><td>0.38629</td><td>1.18637</td><td>57.7763</td><td>22.2033</td><td>0.0854372</td><td>20.6007</td><td>0.0693741</td><td>1.50231</td><td>2.76261</td><td>20.6305</td><td>23.1043382446</td><td>23.5097881912</td><td>9999.0</td><td>9999.0</td><td>9999.0</td><td>9999.0</td><td>9999.0</td><td>9999.0</td><td>boss</td><td>0.592935</td><td>8.90638e-05</td><td>0</td><td>0.578115</td><td>0.053479</td><td>-1.0</td><td>-1.0</td><td>-1.0</td><td>-1.0</td><td>145.513690377</td><td>0.336451585096</td><td>30.0373516083</td><td>1912.34655762</td><td>-23.5218249121</td><td>-21.2755714191</td><td>-20.7350530517</td><td>32</td><td></td><td></td><td>22.2873396787</td><td>194.73452042</td><td>-1</td><td>0</td><td>9.78267505758e-05</td><td>-1.0</td><td>-1</td><td>SDSS</td><td>SDSS</td><td>4</td><td></td><td>1.23765079676e+18</td><td>SDSS</td><td>-99.0</td><td>-99.0</td><td>-99.0</td></tr>\n",
       "<tr><td>1237648722289361071</td><td>145.445194354</td><td>0.703085609044</td><td>3</td><td>GALAXY</td><td>72321547964125968</td><td>1</td><td>0</td><td>0</td><td>268435456</td><td>0</td><td>24.9194</td><td>22.2361</td><td>20.1589</td><td>19.0897</td><td>18.463</td><td>1.67001</td><td>0.223852</td><td>0.0518764</td><td>0.030539</td><td>0.05648</td><td>1.67001</td><td>0.223852</td><td>0.0518764</td><td>0.030539</td><td>0.05648</td><td>0.682769</td><td>0.502375</td><td>0.364364</td><td>0.276286</td><td>0.195891</td><td>24.2366</td><td>21.7337</td><td>19.7945</td><td>18.8134</td><td>18.2671</td><td>2.96796</td><td>0.997977</td><td>11.3011</td><td>6.95108</td><td>5.7092</td><td>-1000.0</td><td>0.950104</td><td>-1000.0</td><td>0.922709</td><td>5.53009</td><td>0.0152245</td><td>467.156</td><td>0.000256578</td><td>1.05306</td><td>2.33728</td><td>0.698769</td><td>0.00233211</td><td>0.269123</td><td>0.000425413</td><td>0.101531</td><td>0.115336</td><td>0.563137</td><td>0.218637</td><td>0.323173</td><td>0.397482</td><td>24.7114</td><td>3.09482</td><td>22.9265</td><td>0.389299</td><td>20.1586</td><td>0.0518765</td><td>19.7991</td><td>0.0275257</td><td>19.2522</td><td>0.0527968</td><td>24.7001</td><td>1.01755</td><td>22.8939</td><td>3.85979</td><td>20.9684</td><td>1.33511</td><td>19.7637</td><td>0.599933</td><td>19.2442</td><td>0.608941</td><td>23.6209</td><td>0.451646</td><td>22.0661</td><td>2.20781</td><td>20.6532</td><td>1.09842</td><td>19.7659</td><td>0.774611</td><td>19.2227</td><td>0.496464</td><td>1.0</td><td>1.0</td><td>1.0</td><td>1.0</td><td>1.0</td><td>-0.498649</td><td>-0.0828432</td><td>-0.560683</td><td>-0.209038</td><td>-0.390031</td><td>-0.216824</td><td>-0.364176</td><td>-0.128512</td><td>-0.421158</td><td>-0.081504</td><td>0.279243</td><td>0.0370532</td><td>136.386</td><td>0.05</td><td>0.00555744</td><td>42.7057</td><td>0.167792</td><td>2.32187</td><td>113.575</td><td>0.264135</td><td>0.000102357</td><td>70.9164</td><td>0.407442</td><td>0.000983269</td><td>75.5746</td><td>21.3405</td><td>1.37733</td><td>20.2812</td><td>0.0549489</td><td>3.48628</td><td>6.10461</td><td>19.8329</td><td>24.1058143981</td><td>24.5401707431</td><td>15.137</td><td>0.053</td><td>14.679</td><td>0.067</td><td>14.524</td><td>0.104</td><td>boss</td><td>0.000112403</td><td>3.76671e-05</td><td>0</td><td>0.532423</td><td>0.027146</td><td>-1.0</td><td>-1.0</td><td>-1.0</td><td>-1.0</td><td>145.513690377</td><td>0.336451585096</td><td>30.0373516083</td><td>1912.34655762</td><td>-23.5218249121</td><td>-21.2755714191</td><td>-20.7350530517</td><td>32</td><td></td><td></td><td>22.3786174331</td><td>195.532044011</td><td>-1</td><td>2</td><td>0.000132037663377</td><td>-1.0</td><td>-1</td><td>SDSS</td><td>SDSS</td><td>4</td><td></td><td>1.23764872229e+18</td><td>SDSS</td><td>-99.0</td><td>-99.0</td><td>-99.0</td></tr>\n",
       "<tr><td>1237650795682922788</td><td>145.669169134</td><td>-0.421001653512</td><td>3</td><td>GALAXY</td><td>35253360132112</td><td>1</td><td>0</td><td>0</td><td>268435456</td><td>0</td><td>18.7642</td><td>17.6628</td><td>17.2651</td><td>17.058</td><td>16.9304</td><td>0.0293424</td><td>0.00619651</td><td>0.00588947</td><td>0.00611352</td><td>0.0231267</td><td>0.038632</td><td>0.00784771</td><td>0.00802349</td><td>0.00932657</td><td>0.0315026</td><td>0.284641</td><td>0.209436</td><td>0.151901</td><td>0.115182</td><td>0.0816652</td><td>18.6668</td><td>17.6097</td><td>17.2869</td><td>17.1092</td><td>17.0383</td><td>7.91927</td><td>8.0793</td><td>7.58429</td><td>7.52166</td><td>7.86749</td><td>1.27571</td><td>0.168475</td><td>0.256114</td><td>0.239047</td><td>0.660612</td><td>5.36163</td><td>0.968979</td><td>9.54825</td><td>0.377554</td><td>8.32704</td><td>0.274249</td><td>9.29561</td><td>0.425972</td><td>8.38691</td><td>1.16654</td><td>0.999878</td><td>0.767864</td><td>0.753923</td><td>0.67554</td><td>0.735537</td><td>18.7293</td><td>0.0384656</td><td>17.5436</td><td>0.00811527</td><td>17.2562</td><td>0.00832083</td><td>17.0518</td><td>0.00973593</td><td>16.9542</td><td>0.0334549</td><td>20.9067</td><td>0.0642074</td><td>19.8089</td><td>0.0169179</td><td>19.5892</td><td>0.0197097</td><td>19.3901</td><td>0.0182341</td><td>19.152</td><td>0.0514361</td><td>20.8927</td><td>0.0662733</td><td>19.724</td><td>0.013088</td><td>19.2963</td><td>0.0110498</td><td>19.0842</td><td>0.0131022</td><td>18.9575</td><td>0.0474606</td><td>0.129734</td><td>0.232608</td><td>0.26663</td><td>0.242802</td><td>0.292245</td><td>0.0526809</td><td>0.0278026</td><td>0.0269807</td><td>0.00416463</td><td>0.0324041</td><td>-0.0247157</td><td>0.0415198</td><td>-0.0400324</td><td>0.0959056</td><td>0.00911822</td><td>0.853012</td><td>3.87412</td><td>163.582</td><td>0.808937</td><td>3.65898</td><td>152.781</td><td>0.797824</td><td>3.23609</td><td>150.127</td><td>0.735474</td><td>3.31251</td><td>147.253</td><td>0.781256</td><td>3.05818</td><td>167.925</td><td>20.0298</td><td>0.0145648</td><td>17.4388</td><td>0.00802349</td><td>3.49368</td><td>8.00084</td><td>17.3728</td><td>21.9769333248</td><td>21.9954738462</td><td>9999.0</td><td>9999.0</td><td>9999.0</td><td>9999.0</td><td>9999.0</td><td>9999.0</td><td>sdss</td><td>0.0303626</td><td>1.24284e-05</td><td>0</td><td>0.032012</td><td>0.009104</td><td>-1.0</td><td>-1.0</td><td>-1.0</td><td>-1.0</td><td>145.513690377</td><td>0.336451585096</td><td>30.0373516083</td><td>1912.34655762</td><td>-23.5218249121</td><td>-21.2755714191</td><td>-20.7350530517</td><td>32</td><td></td><td></td><td>46.3949463283</td><td>405.364067127</td><td>25</td><td>0</td><td>0.0382791769027</td><td>-1.0</td><td>-1</td><td>NSA</td><td>sdss</td><td>4</td><td></td><td>1.23765079568e+18</td><td>SDSS+NSA</td><td>-99.0</td><td>9.84451770782</td><td>0.768112957478</td></tr>\n",
       "<tr><td>1237650795682988326</td><td>145.892442886</td><td>-0.33627952917</td><td>3</td><td>GALAXY</td><td>35253360132184</td><td>0</td><td>0</td><td>0</td><td>268435456</td><td>0</td><td>20.5072</td><td>18.5868</td><td>17.6363</td><td>17.1914</td><td>16.9011</td><td>0.0905877</td><td>0.00992449</td><td>0.00676065</td><td>0.00649135</td><td>0.016221</td><td>0.0905877</td><td>0.00992449</td><td>0.00676065</td><td>0.00649135</td><td>0.016221</td><td>0.316335</td><td>0.232756</td><td>0.168814</td><td>0.128007</td><td>0.0907583</td><td>20.1908</td><td>18.3541</td><td>17.4675</td><td>17.0634</td><td>16.8103</td><td>3.05323</td><td>3.11641</td><td>3.05574</td><td>3.23311</td><td>3.53582</td><td>0.421203</td><td>0.104576</td><td>0.065741</td><td>0.103948</td><td>0.35721</td><td>2.15764</td><td>0.882703</td><td>1.66059</td><td>0.107259</td><td>1.4984</td><td>0.0499084</td><td>1.50056</td><td>0.0483815</td><td>1.51409</td><td>0.13966</td><td>0.322833</td><td>0.781766</td><td>0.817253</td><td>0.789436</td><td>0.76538</td><td>20.6357</td><td>0.0974395</td><td>18.5992</td><td>0.00996392</td><td>17.6602</td><td>0.00678096</td><td>17.2193</td><td>0.00650732</td><td>16.9123</td><td>0.016221</td><td>21.3896</td><td>0.0996273</td><td>19.5295</td><td>0.0159105</td><td>18.6947</td><td>0.0201263</td><td>18.2344</td><td>0.0132886</td><td>17.8908</td><td>0.0292644</td><td>21.4804</td><td>0.107621</td><td>19.6154</td><td>0.0123069</td><td>18.667</td><td>0.00681154</td><td>18.2205</td><td>0.00797005</td><td>17.9346</td><td>0.0208666</td><td>0.0</td><td>0.779596</td><td>0.901592</td><td>0.915584</td><td>0.996233</td><td>0.164809</td><td>0.0658364</td><td>0.00478371</td><td>-0.0348441</td><td>0.0127959</td><td>-0.0642894</td><td>0.0199658</td><td>-0.0628447</td><td>0.00537206</td><td>-0.0583224</td><td>0.549985</td><td>1.44807</td><td>19.9387</td><td>0.784653</td><td>1.2034</td><td>139.946</td><td>0.807045</td><td>1.05771</td><td>140.104</td><td>0.781193</td><td>1.05075</td><td>144.585</td><td>0.766985</td><td>1.00786</td><td>139.363</td><td>19.2881</td><td>0.00827066</td><td>17.9068</td><td>0.00684174</td><td>1.4759</td><td>4.07425</td><td>17.7433</td><td>20.0241311028</td><td>20.584006757</td><td>16.457</td><td>0.151</td><td>15.422</td><td>0.131</td><td>14.505</td><td>9999.0</td><td>sdss</td><td>0.0979884</td><td>2.49131e-05</td><td>0</td><td>0.103528</td><td>0.022826</td><td>-1.0</td><td>-1.0</td><td>-1.0</td><td>-1.0</td><td>145.513690377</td><td>0.336451585096</td><td>30.0373516083</td><td>1912.34655762</td><td>-23.5218249121</td><td>-21.2755714191</td><td>-20.7350530517</td><td>32</td><td></td><td></td><td>46.3213588185</td><td>404.721153881</td><td>-1</td><td>0</td><td>0.000713987111854</td><td>-1.0</td><td>-1</td><td>SDSS</td><td>SDSS</td><td>4</td><td></td><td>1.23765079568e+18</td><td>SDSS</td><td>-99.0</td><td>-99.0</td><td>-99.0</td></tr>\n",
       "<tr><td>1237650796219728040</td><td>145.464543343</td><td>0.10704776921</td><td>3</td><td>GALAXY</td><td>35219000393848</td><td>0</td><td>0</td><td>0</td><td>268435456</td><td>0</td><td>20.3119</td><td>18.3645</td><td>17.3249</td><td>16.8825</td><td>16.5004</td><td>0.0933512</td><td>0.00976398</td><td>0.00646972</td><td>0.00619666</td><td>0.0154218</td><td>0.0933512</td><td>0.00976398</td><td>0.00646972</td><td>0.00619666</td><td>0.0154218</td><td>0.33072</td><td>0.243341</td><td>0.176491</td><td>0.133828</td><td>0.0948855</td><td>19.9812</td><td>18.1211</td><td>17.1484</td><td>16.7486</td><td>16.4055</td><td>4.42116</td><td>6.18239</td><td>6.19751</td><td>6.49083</td><td>8.96837</td><td>1.74899</td><td>0.35802</td><td>0.331578</td><td>0.574758</td><td>0.995317</td><td>2.17706</td><td>0.892283</td><td>2.69455</td><td>0.110983</td><td>2.32174</td><td>0.0695559</td><td>2.23763</td><td>0.0601248</td><td>2.08391</td><td>0.213246</td><td>0.166233</td><td>0.79609</td><td>0.840637</td><td>0.832892</td><td>0.875702</td><td>20.6075</td><td>0.0893466</td><td>18.299</td><td>0.00975861</td><td>17.325</td><td>0.00646973</td><td>16.9075</td><td>0.00619608</td><td>16.5611</td><td>0.0154154</td><td>21.4081</td><td>0.0927264</td><td>19.5971</td><td>0.0215097</td><td>18.632</td><td>0.0175022</td><td>18.1954</td><td>0.0125443</td><td>17.7745</td><td>0.023648</td><td>21.5823</td><td>0.0999574</td><td>19.6834</td><td>0.0108782</td><td>18.6417</td><td>0.00668291</td><td>18.1943</td><td>0.00759447</td><td>17.8175</td><td>0.0198212</td><td>1.0</td><td>1.0</td><td>1.0</td><td>1.0</td><td>1.0</td><td>0.16563</td><td>-0.115809</td><td>0.0769558</td><td>-0.0133165</td><td>0.0517302</td><td>0.00716262</td><td>0.058617</td><td>0.00973693</td><td>0.0235766</td><td>-4.83379e-05</td><td>0.0905005</td><td>1.32267</td><td>153.921</td><td>0.882752</td><td>1.30682</td><td>14.1858</td><td>0.87572</td><td>1.25138</td><td>5.07593</td><td>0.835656</td><td>1.22883</td><td>11.2696</td><td>0.91546</td><td>1.02081</td><td>22.3951</td><td>19.2636</td><td>0.00821216</td><td>17.75</td><td>0.00668702</td><td>2.38852</td><td>7.8537</td><td>17.317</td><td>20.2323730957</td><td>21.2030669897</td><td>15.76</td><td>0.105</td><td>15.314</td><td>0.113</td><td>14.923</td><td>0.165</td><td>sdss</td><td>0.122822</td><td>2.86846e-05</td><td>0</td><td>0.112875</td><td>0.00985</td><td>-1.0</td><td>-1.0</td><td>-1.0</td><td>-1.0</td><td>145.513690377</td><td>0.336451585096</td><td>30.0373516083</td><td>1912.34655762</td><td>-23.5218249121</td><td>-21.2755714191</td><td>-20.7350530517</td><td>32</td><td></td><td></td><td>14.0765552712</td><td>122.99371849</td><td>-1</td><td>0</td><td>0.000544652480686</td><td>-1.0</td><td>-1</td><td>SDSS</td><td>SDSS</td><td>4</td><td></td><td>1.23765079622e+18</td><td>SDSS</td><td>-99.0</td><td>-99.0</td><td>-99.0</td></tr>\n",
       "<tr><td>1237650796219793814</td><td>145.600551406</td><td>0.119208524354</td><td>3</td><td>GALAXY</td><td>68987912960</td><td>1</td><td>0</td><td>0</td><td>268435456</td><td>0</td><td>25.8734</td><td>22.006</td><td>20.1716</td><td>19.3121</td><td>18.806</td><td>0.800105</td><td>0.125262</td><td>0.0379827</td><td>0.0258919</td><td>0.0680238</td><td>0.800105</td><td>0.125262</td><td>0.0379827</td><td>0.0258919</td><td>0.0680238</td><td>0.338555</td><td>0.249105</td><td>0.180672</td><td>0.136998</td><td>0.0971334</td><td>25.5349</td><td>21.7569</td><td>19.991</td><td>19.1751</td><td>18.7088</td><td>2.96986</td><td>1.93974</td><td>2.47512</td><td>2.09173</td><td>4.29495</td><td>-1000.0</td><td>0.305807</td><td>0.412649</td><td>0.168094</td><td>2.11631</td><td>4.22559e-07</td><td>0.0</td><td>0.478968</td><td>0.341031</td><td>1.17172</td><td>0.293826</td><td>0.886515</td><td>0.141027</td><td>1.91533</td><td>0.806943</td><td>0.183341</td><td>0.05</td><td>0.524346</td><td>0.583417</td><td>0.503737</td><td>25.328</td><td>0.650372</td><td>22.3846</td><td>0.125646</td><td>20.1837</td><td>0.0420532</td><td>19.5276</td><td>0.0473064</td><td>18.7658</td><td>0.0678841</td><td>25.0425</td><td>0.731447</td><td>22.5335</td><td>0.115379</td><td>20.903</td><td>0.0421591</td><td>20.0427</td><td>0.029811</td><td>19.5526</td><td>0.0756381</td><td>25.3789</td><td>0.705161</td><td>22.7562</td><td>0.152141</td><td>20.9745</td><td>0.049823</td><td>20.0888</td><td>0.0330662</td><td>19.5923</td><td>0.0877254</td><td>1.0</td><td>0.0</td><td>0.93781</td><td>0.11996</td><td>0.305242</td><td>-2.77131</td><td>0.0931228</td><td>-0.173821</td><td>0.020921</td><td>-0.108809</td><td>0.00847271</td><td>-0.0818886</td><td>-0.0232068</td><td>-0.124609</td><td>0.037407</td><td>0.22376</td><td>0.000544039</td><td>130.826</td><td>0.0611028</td><td>0.556968</td><td>110.332</td><td>0.600036</td><td>0.851563</td><td>92.1312</td><td>0.627568</td><td>0.782604</td><td>92.0566</td><td>0.548111</td><td>1.10301</td><td>67.5522</td><td>21.5632</td><td>0.0580432</td><td>20.3842</td><td>0.0381599</td><td>1.20483</td><td>3.33677</td><td>20.2522</td><td>22.0307720336</td><td>22.6522520914</td><td>9999.0</td><td>9999.0</td><td>9999.0</td><td>9999.0</td><td>9999.0</td><td>9999.0</td><td>boss</td><td>0.465285</td><td>0.000125975</td><td>0</td><td>0.467741</td><td>0.023518</td><td>-1.0</td><td>-1.0</td><td>-1.0</td><td>-1.0</td><td>145.513690377</td><td>0.336451585096</td><td>30.0373516083</td><td>1912.34655762</td><td>-23.5218249121</td><td>-21.2755714191</td><td>-20.7350530517</td><td>32</td><td></td><td></td><td>14.0378533672</td><td>122.655562989</td><td>-1</td><td>0</td><td>2.1533480596e-05</td><td>-1.0</td><td>-1</td><td>SDSS</td><td>SDSS</td><td>4</td><td></td><td>1.23765079622e+18</td><td>SDSS</td><td>-99.0</td><td>-99.0</td><td>-99.0</td></tr>\n",
       "<tr><td>...</td><td>...</td><td>...</td><td>...</td><td>...</td><td>...</td><td>...</td><td>...</td><td>...</td><td>...</td><td>...</td><td>...</td><td>...</td><td>...</td><td>...</td><td>...</td><td>...</td><td>...</td><td>...</td><td>...</td><td>...</td><td>...</td><td>...</td><td>...</td><td>...</td><td>...</td><td>...</td><td>...</td><td>...</td><td>...</td><td>...</td><td>...</td><td>...</td><td>...</td><td>...</td><td>...</td><td>...</td><td>...</td><td>...</td><td>...</td><td>...</td><td>...</td><td>...</td><td>...</td><td>...</td><td>...</td><td>...</td><td>...</td><td>...</td><td>...</td><td>...</td><td>...</td><td>...</td><td>...</td><td>...</td><td>...</td><td>...</td><td>...</td><td>...</td><td>...</td><td>...</td><td>...</td><td>...</td><td>...</td><td>...</td><td>...</td><td>...</td><td>...</td><td>...</td><td>...</td><td>...</td><td>...</td><td>...</td><td>...</td><td>...</td><td>...</td><td>...</td><td>...</td><td>...</td><td>...</td><td>...</td><td>...</td><td>...</td><td>...</td><td>...</td><td>...</td><td>...</td><td>...</td><td>...</td><td>...</td><td>...</td><td>...</td><td>...</td><td>...</td><td>...</td><td>...</td><td>...</td><td>...</td><td>...</td><td>...</td><td>...</td><td>...</td><td>...</td><td>...</td><td>...</td><td>...</td><td>...</td><td>...</td><td>...</td><td>...</td><td>...</td><td>...</td><td>...</td><td>...</td><td>...</td><td>...</td><td>...</td><td>...</td><td>...</td><td>...</td><td>...</td><td>...</td><td>...</td><td>...</td><td>...</td><td>...</td><td>...</td><td>...</td><td>...</td><td>...</td><td>...</td><td>...</td><td>...</td><td>...</td><td>...</td><td>...</td><td>...</td><td>...</td><td>...</td><td>...</td><td>...</td><td>...</td><td>...</td><td>...</td><td>...</td><td>...</td><td>...</td><td>...</td><td>...</td><td>...</td><td>...</td><td>...</td><td>...</td><td>...</td><td>...</td><td>...</td><td>...</td><td>...</td><td>...</td><td>...</td><td>...</td><td>...</td><td>...</td><td>...</td><td>...</td><td>...</td><td>...</td><td>...</td><td>...</td><td>...</td><td>...</td><td>...</td></tr>\n",
       "<tr><td>1237668336320971571</td><td>234.465631623</td><td>16.5323709306</td><td>3</td><td>GALAXY</td><td>105624251797848</td><td>0</td><td>0</td><td>0</td><td>268435456</td><td>0</td><td>22.3374</td><td>21.551</td><td>20.8236</td><td>20.345</td><td>19.9977</td><td>0.465211</td><td>0.10429</td><td>0.0869806</td><td>0.0952714</td><td>0.303617</td><td>0.465211</td><td>0.10429</td><td>0.0869806</td><td>0.0952714</td><td>0.303617</td><td>0.23513</td><td>0.173007</td><td>0.125479</td><td>0.0951468</td><td>0.0674603</td><td>22.1022</td><td>21.378</td><td>20.6982</td><td>20.2498</td><td>19.9302</td><td>18.0207</td><td>2.97023</td><td>18.0206</td><td>2.14313</td><td>4.27692</td><td>-1000.0</td><td>-1000.0</td><td>-1000.0</td><td>0.444662</td><td>4.17943</td><td>29.6677</td><td>30.4488</td><td>1.36732</td><td>1.1049</td><td>2.69757</td><td>1.04261</td><td>1.70021</td><td>1.06967</td><td>5.0922</td><td>12.8576</td><td>0.298881</td><td>0.153805</td><td>0.203917</td><td>0.05</td><td>0.05</td><td>19.8609</td><td>0.299242</td><td>21.9546</td><td>0.0989221</td><td>20.9513</td><td>0.0878467</td><td>20.7311</td><td>0.0945995</td><td>19.9425</td><td>0.384375</td><td>23.3394</td><td>0.453864</td><td>22.5488</td><td>0.112505</td><td>22.0801</td><td>0.104045</td><td>21.5823</td><td>0.109934</td><td>21.1951</td><td>0.32048</td><td>23.2873</td><td>0.541665</td><td>22.6271</td><td>0.106588</td><td>21.942</td><td>0.126645</td><td>21.5032</td><td>0.146936</td><td>21.0639</td><td>0.419238</td><td>1.0</td><td>0.0</td><td>0.561839</td><td>0.0</td><td>0.0</td><td>-1.39457</td><td>0.00862969</td><td>-1.51191</td><td>-0.211321</td><td>-0.181045</td><td>-0.476973</td><td>-0.590774</td><td>-0.815375</td><td>-0.453272</td><td>0.156426</td><td>0.295046</td><td>11.8338</td><td>94.7298</td><td>0.232547</td><td>1.1369</td><td>182.698</td><td>0.227404</td><td>1.51913</td><td>168.304</td><td>0.128872</td><td>1.38571</td><td>167.762</td><td>0.05</td><td>2.9601</td><td>185.468</td><td>22.5626</td><td>0.148824</td><td>21.1406</td><td>0.0869878</td><td>3.50906</td><td>9.09099</td><td>20.4234</td><td>24.0439749739</td><td>25.1448166439</td><td>9999.0</td><td>9999.0</td><td>9999.0</td><td>9999.0</td><td>9999.0</td><td>9999.0</td><td></td><td>0.346597</td><td>-1.0</td><td>-1</td><td>0.47808</td><td>0.154141</td><td>-1.0</td><td>-1.0</td><td>-1.0</td><td>-1.0</td><td>234.132011282</td><td>16.6077737961</td><td>28.020401001</td><td>1967.37255859</td><td>-23.7079536397</td><td>-21.1887440467</td><td>-20.5059088315</td><td>166313</td><td>166313</td><td>5962</td><td>19.7121339451</td><td>160.668864757</td><td>-1</td><td>0</td><td>0.000204579393619</td><td>-1.0</td><td>-1</td><td>MMT</td><td>/Spectra/Final/MMT/spHect-2014.0620_5.zlog</td><td>4</td><td></td><td>174.0</td><td>MMT</td><td>-99.0</td><td>-99.0</td><td>-99.0</td></tr>\n",
       "<tr><td>1237665565541597964</td><td>233.801791932</td><td>16.5193458878</td><td>3</td><td>GALAXY</td><td>17809417568328</td><td>1</td><td>0</td><td>0</td><td>268435456</td><td>0</td><td>21.2755</td><td>20.3491</td><td>19.4571</td><td>19.2273</td><td>18.9502</td><td>0.177833</td><td>0.0352504</td><td>0.0244664</td><td>0.0276827</td><td>0.0802502</td><td>0.177833</td><td>0.0352504</td><td>0.0244664</td><td>0.0276827</td><td>0.0802502</td><td>0.244555</td><td>0.179941</td><td>0.130508</td><td>0.0989605</td><td>0.0701643</td><td>21.031</td><td>20.1691</td><td>19.3266</td><td>19.1283</td><td>18.88</td><td>2.56293</td><td>2.62687</td><td>2.82212</td><td>2.70539</td><td>2.28652</td><td>2.46349</td><td>0.120372</td><td>0.0912334</td><td>0.151876</td><td>0.25297</td><td>2.23188</td><td>0.000543584</td><td>2.7754</td><td>0.483314</td><td>2.6491</td><td>0.283633</td><td>2.68295</td><td>0.341951</td><td>2.21917</td><td>0.872037</td><td>0.216448</td><td>0.772092</td><td>0.88568</td><td>0.821779</td><td>0.576725</td><td>21.3396</td><td>0.169907</td><td>20.3635</td><td>0.0352441</td><td>19.4571</td><td>0.0244664</td><td>19.2556</td><td>0.0276224</td><td>19.0878</td><td>0.0788993</td><td>22.3067</td><td>0.21343</td><td>21.6753</td><td>0.0476795</td><td>20.8541</td><td>0.0345778</td><td>20.5955</td><td>0.0398096</td><td>20.1634</td><td>0.0950078</td><td>22.1345</td><td>0.206182</td><td>21.3226</td><td>0.0417862</td><td>20.4375</td><td>0.0246073</td><td>20.2121</td><td>0.0339711</td><td>19.8602</td><td>0.0799915</td><td>0.0</td><td>0.0</td><td>0.0</td><td>0.0</td><td>0.0</td><td>0.152595</td><td>0.158546</td><td>0.0466545</td><td>0.0018259</td><td>0.0501182</td><td>-0.0048997</td><td>0.010049</td><td>-0.0436255</td><td>0.0741084</td><td>0.000316662</td><td>0.339585</td><td>1.76429</td><td>18.5769</td><td>0.840705</td><td>1.41625</td><td>27.9896</td><td>0.877355</td><td>1.41634</td><td>20.4211</td><td>0.878339</td><td>1.33378</td><td>159.969</td><td>0.69999</td><td>1.22296</td><td>197.938</td><td>21.1582</td><td>0.0318014</td><td>19.4571</td><td>0.0244664</td><td>1.44575</td><td>2.71499</td><td>19.5277</td><td>22.2084242755</td><td>22.3236024498</td><td>9999.0</td><td>9999.0</td><td>9999.0</td><td>9999.0</td><td>9999.0</td><td>9999.0</td><td></td><td>0.272336</td><td>-1.0</td><td>-1</td><td>0.31449</td><td>0.039228</td><td>-1.0</td><td>-1.0</td><td>-1.0</td><td>-1.0</td><td>234.132011282</td><td>16.6077737961</td><td>28.020401001</td><td>1967.37255859</td><td>-23.7079536397</td><td>-21.1887440467</td><td>-20.5059088315</td><td>166313</td><td>166313</td><td>5962</td><td>19.7182130257</td><td>160.718413338</td><td>-1</td><td>0</td><td>0.000994458712251</td><td>-1.0</td><td>-1</td><td>MMT</td><td>/Spectra/Final/MMT/spHect-2014.0601_2.zlog</td><td>4</td><td></td><td>42.0</td><td>MMT</td><td>-99.0</td><td>-99.0</td><td>-99.0</td></tr>\n",
       "<tr><td>1237665566078468677</td><td>233.937756668</td><td>16.8788718251</td><td>3</td><td>GALAXY</td><td>35219000263000</td><td>0</td><td>0</td><td>0</td><td>268435456</td><td>0</td><td>20.6618</td><td>19.9531</td><td>19.411</td><td>19.2327</td><td>19.0739</td><td>0.114209</td><td>0.0247965</td><td>0.0226785</td><td>0.0284663</td><td>0.0936776</td><td>0.114209</td><td>0.0247965</td><td>0.0226785</td><td>0.0284663</td><td>0.0936776</td><td>0.256346</td><td>0.188617</td><td>0.136801</td><td>0.103732</td><td>0.0735471</td><td>20.4054</td><td>19.7644</td><td>19.2742</td><td>19.129</td><td>19.0003</td><td>3.36922</td><td>2.96971</td><td>4.77161</td><td>3.24329</td><td>2.95282</td><td>0.106582</td><td>-1000.0</td><td>0.880071</td><td>0.193914</td><td>0.49931</td><td>5.39707</td><td>2.80074</td><td>6.37346</td><td>0.59205</td><td>6.36878</td><td>0.828905</td><td>3.98608</td><td>0.640404</td><td>4.10754</td><td>1.42912</td><td>0.104611</td><td>0.16939</td><td>0.20995</td><td>0.186427</td><td>0.0603836</td><td>20.5489</td><td>0.113498</td><td>19.9432</td><td>0.0251076</td><td>19.2592</td><td>0.023249</td><td>19.3788</td><td>0.0281866</td><td>19.2279</td><td>0.0918221</td><td>21.9935</td><td>0.149823</td><td>21.4415</td><td>0.0398464</td><td>20.9877</td><td>0.0358265</td><td>20.7411</td><td>0.039441</td><td>20.4962</td><td>0.122909</td><td>21.9218</td><td>0.172135</td><td>21.2227</td><td>0.0372654</td><td>20.6517</td><td>0.0329615</td><td>20.4107</td><td>0.0387029</td><td>20.1802</td><td>0.124467</td><td>0.0</td><td>0.102999</td><td>0.278773</td><td>0.0</td><td>0.0</td><td>0.376695</td><td>0.767244</td><td>0.249859</td><td>0.456687</td><td>0.185911</td><td>0.387651</td><td>0.218835</td><td>0.472178</td><td>0.237316</td><td>0.597787</td><td>0.199986</td><td>3.41049</td><td>48.8963</td><td>0.156245</td><td>2.91247</td><td>51.0356</td><td>0.226784</td><td>2.80416</td><td>51.3778</td><td>0.243222</td><td>2.19794</td><td>50.8193</td><td>0.0904026</td><td>2.75101</td><td>58.0487</td><td>21.3282</td><td>0.0418212</td><td>19.411</td><td>0.0226785</td><td>2.3582</td><td>7.37143</td><td>19.2386</td><td>23.6455095865</td><td>23.0969198267</td><td>9999.0</td><td>9999.0</td><td>9999.0</td><td>9999.0</td><td>9999.0</td><td>9999.0</td><td></td><td>0.147361</td><td>-1.0</td><td>-1</td><td>0.228177</td><td>0.05273</td><td>-1.0</td><td>-1.0</td><td>-1.0</td><td>-1.0</td><td>234.132011282</td><td>16.6077737961</td><td>28.020401001</td><td>1967.37255859</td><td>-23.7079536397</td><td>-21.1887440467</td><td>-20.5059088315</td><td>166313</td><td>166313</td><td>5962</td><td>19.7268823542</td><td>160.789074175</td><td>-1</td><td>0</td><td>0.000878584394394</td><td>-1.0</td><td>-1</td><td>MMT</td><td>/Spectra/Final/MMT/spHect-2014.0620_5.zlog</td><td>4</td><td></td><td>98.0</td><td>MMT</td><td>-99.0</td><td>-99.0</td><td>-99.0</td></tr>\n",
       "<tr><td>1237665566078599695</td><td>234.309236917</td><td>16.8913602724</td><td>3</td><td>GALAXY</td><td>105658611532120</td><td>0</td><td>0</td><td>0</td><td>268435456</td><td>0</td><td>22.3156</td><td>20.6287</td><td>20.3225</td><td>20.0025</td><td>20.23</td><td>0.540446</td><td>0.0486876</td><td>0.070068</td><td>0.0618558</td><td>0.302299</td><td>0.540446</td><td>0.0486876</td><td>0.070068</td><td>0.0618558</td><td>0.302299</td><td>0.267643</td><td>0.196929</td><td>0.142829</td><td>0.108303</td><td>0.0767884</td><td>22.048</td><td>20.4318</td><td>20.1797</td><td>19.8942</td><td>20.1532</td><td>2.96983</td><td>4.16129</td><td>3.55472</td><td>4.12171</td><td>3.76741</td><td>-1000.0</td><td>0.341897</td><td>0.190661</td><td>0.395178</td><td>3.66637</td><td>29.6695</td><td>8.09392</td><td>4.68529</td><td>1.26256</td><td>5.74893</td><td>2.04185</td><td>4.84549</td><td>1.70314</td><td>5.00403</td><td>12.6592</td><td>0.05</td><td>0.900472</td><td>0.688677</td><td>0.767441</td><td>0.253835</td><td>21.023</td><td>0.482465</td><td>20.5766</td><td>0.0485833</td><td>20.3225</td><td>0.070068</td><td>19.9643</td><td>0.0614677</td><td>19.9238</td><td>0.395333</td><td>23.8215</td><td>0.598036</td><td>22.3669</td><td>0.0851073</td><td>22.2399</td><td>0.100926</td><td>21.8357</td><td>0.101013</td><td>21.4091</td><td>0.253032</td><td>22.6043</td><td>0.306313</td><td>21.9779</td><td>0.0682063</td><td>21.6166</td><td>0.0810537</td><td>21.3454</td><td>0.0718048</td><td>21.2819</td><td>0.321709</td><td>0.495406</td><td>0.0</td><td>0.0</td><td>0.0</td><td>1.0</td><td>-5.11224</td><td>3.51291</td><td>0.0194435</td><td>0.0117691</td><td>0.000251649</td><td>-0.0373507</td><td>-0.0571897</td><td>-0.0504823</td><td>-0.0163242</td><td>-0.0222891</td><td>0.099986</td><td>6.58578</td><td>198.066</td><td>0.849997</td><td>2.09487</td><td>35.8798</td><td>0.900012</td><td>1.90655</td><td>174.375</td><td>0.790669</td><td>2.1155</td><td>116.613</td><td>0.253281</td><td>2.59784</td><td>109.461</td><td>22.3843</td><td>0.109104</td><td>20.3225</td><td>0.070068</td><td>1.82153</td><td>3.08973</td><td>20.3658</td><td>23.7191943734</td><td>23.6634323759</td><td>9999.0</td><td>9999.0</td><td>9999.0</td><td>9999.0</td><td>9999.0</td><td>9999.0</td><td></td><td>0.071463</td><td>-1.0</td><td>-1</td><td>0.062235</td><td>0.047835</td><td>-1.0</td><td>-1.0</td><td>-1.0</td><td>-1.0</td><td>234.132011282</td><td>16.6077737961</td><td>28.020401001</td><td>1967.37255859</td><td>-23.7079536397</td><td>-21.1887440467</td><td>-20.5059088315</td><td>166313</td><td>166313</td><td>5962</td><td>19.829208961</td><td>161.623104514</td><td>-1</td><td>0</td><td>0.00217659879655</td><td>-1.0</td><td>-1</td><td>MMT</td><td>/Spectra/Final/MMT/spHect-2014.0605_4.zlog</td><td>3</td><td></td><td>278.0</td><td>MMT</td><td>-99.0</td><td>-99.0</td><td>-99.0</td></tr>\n",
       "<tr><td>1237665566078665629</td><td>234.426728971</td><td>16.7783416382</td><td>3</td><td>GALAXY</td><td>68988043520</td><td>1</td><td>0</td><td>0</td><td>268435456</td><td>0</td><td>21.827</td><td>21.2069</td><td>20.7331</td><td>20.4344</td><td>20.0482</td><td>0.254549</td><td>0.0597985</td><td>0.0592982</td><td>0.0722368</td><td>0.185119</td><td>0.254549</td><td>0.0597985</td><td>0.0592982</td><td>0.0722368</td><td>0.185119</td><td>0.279466</td><td>0.205628</td><td>0.149139</td><td>0.113087</td><td>0.0801804</td><td>21.5476</td><td>21.0012</td><td>20.5839</td><td>20.3213</td><td>19.968</td><td>7.35955</td><td>3.07294</td><td>2.74394</td><td>2.8323</td><td>1.36563</td><td>-1000.0</td><td>0.537182</td><td>0.371745</td><td>0.334825</td><td>1.32762</td><td>25.5441</td><td>41.5487</td><td>3.05573</td><td>1.10153</td><td>4.66185</td><td>1.67693</td><td>3.32496</td><td>1.00359</td><td>2.38622</td><td>3.01224</td><td>0.149959</td><td>0.05</td><td>0.136984</td><td>0.113585</td><td>0.05</td><td>20.9815</td><td>0.318237</td><td>21.3307</td><td>0.0880133</td><td>20.7331</td><td>0.0656595</td><td>20.5088</td><td>0.0885265</td><td>20.2466</td><td>0.212589</td><td>23.007</td><td>0.330945</td><td>22.2719</td><td>0.0746079</td><td>21.9859</td><td>0.0750792</td><td>21.7152</td><td>0.0844063</td><td>21.0167</td><td>0.190775</td><td>22.738</td><td>0.340875</td><td>22.2317</td><td>0.0681984</td><td>21.7206</td><td>0.0820788</td><td>21.4315</td><td>0.0935892</td><td>21.1803</td><td>0.293894</td><td>0.0</td><td>0.0</td><td>0.0</td><td>0.0</td><td>0.0</td><td>0.42596</td><td>0.0233415</td><td>0.462354</td><td>0.131276</td><td>0.343207</td><td>-0.0161274</td><td>0.411449</td><td>0.0357248</td><td>1.23371</td><td>0.0252866</td><td>0.203027</td><td>5.47684</td><td>43.3051</td><td>0.05</td><td>1.96607</td><td>23.9972</td><td>0.223832</td><td>2.0585</td><td>198.694</td><td>0.173338</td><td>1.90558</td><td>198.694</td><td>0.05</td><td>1.60633</td><td>18.7562</td><td>22.3661</td><td>0.0994417</td><td>20.7331</td><td>0.0656595</td><td>1.2405</td><td>2.50656</td><td>20.9473</td><td>24.2962681882</td><td>23.4107121178</td><td>9999.0</td><td>9999.0</td><td>9999.0</td><td>9999.0</td><td>9999.0</td><td>9999.0</td><td></td><td>0.131955</td><td>-1.0</td><td>-1</td><td>0.318255</td><td>0.134259</td><td>-1.0</td><td>-1.0</td><td>-1.0</td><td>-1.0</td><td>234.132011282</td><td>16.6077737961</td><td>28.020401001</td><td>1967.37255859</td><td>-23.7079536397</td><td>-21.1887440467</td><td>-20.5059088315</td><td>166313</td><td>166313</td><td>5962</td><td>19.7895584497</td><td>161.299926323</td><td>-1</td><td>0</td><td>0.000331303684293</td><td>-1.0</td><td>-1</td><td>MMT</td><td>/Spectra/Final/MMT/spHect-2014.0530_1.zlog</td><td>4</td><td></td><td>219.0</td><td>MMT</td><td>-99.0</td><td>-99.0</td><td>-99.0</td></tr>\n",
       "<tr><td>1237668336320971566</td><td>234.470851598</td><td>16.5485499861</td><td>3</td><td>GALAXY</td><td>68987912448</td><td>1</td><td>0</td><td>0</td><td>268435456</td><td>0</td><td>22.2313</td><td>21.3852</td><td>20.5233</td><td>20.099</td><td>19.2755</td><td>0.260735</td><td>0.0557591</td><td>0.0417907</td><td>0.0472353</td><td>0.0961255</td><td>0.260735</td><td>0.0557591</td><td>0.0417907</td><td>0.0472353</td><td>0.0961255</td><td>0.239156</td><td>0.175969</td><td>0.127627</td><td>0.0967758</td><td>0.0686153</td><td>21.9921</td><td>21.2092</td><td>20.3957</td><td>20.0022</td><td>19.2068</td><td>11.3071</td><td>1.71209</td><td>1.9119</td><td>1.6404</td><td>18.0232</td><td>-1000.0</td><td>0.193337</td><td>0.205988</td><td>0.143345</td><td>-1000.0</td><td>8.11584</td><td>7.91969</td><td>0.578216</td><td>0.188812</td><td>1.01885</td><td>0.294903</td><td>0.88192</td><td>0.311666</td><td>1.73013</td><td>0.957891</td><td>0.498158</td><td>0.113267</td><td>0.408585</td><td>0.398658</td><td>0.299148</td><td>20.5033</td><td>0.233389</td><td>21.4812</td><td>0.0624528</td><td>20.5233</td><td>0.048293</td><td>20.1286</td><td>0.0584027</td><td>18.8718</td><td>0.118523</td><td>22.7306</td><td>0.282212</td><td>21.753</td><td>0.0563971</td><td>21.1179</td><td>0.0463942</td><td>20.7354</td><td>0.0527588</td><td>19.868</td><td>0.103578</td><td>22.6055</td><td>0.311141</td><td>21.9284</td><td>0.0724439</td><td>21.0564</td><td>0.0568282</td><td>20.6384</td><td>0.0657298</td><td>19.8709</td><td>0.145446</td><td>1.0</td><td>0.228771</td><td>0.0</td><td>0.0</td><td>1.0</td><td>-0.24985</td><td>-0.0404411</td><td>0.102975</td><td>0.0131706</td><td>0.106933</td><td>-0.0100006</td><td>0.112008</td><td>-0.0483192</td><td>0.146157</td><td>0.0238951</td><td>0.649889</td><td>3.43098</td><td>58.6575</td><td>0.234031</td><td>0.640299</td><td>24.0475</td><td>0.482571</td><td>0.774648</td><td>197.489</td><td>0.498021</td><td>0.73254</td><td>189.39</td><td>0.360244</td><td>0.835009</td><td>198.709</td><td>21.6438</td><td>0.0660185</td><td>20.5233</td><td>0.048293</td><td>0.924304</td><td>2.00402</td><td>20.5227</td><td>21.9642675062</td><td>22.3471970666</td><td>9999.0</td><td>9999.0</td><td>9999.0</td><td>9999.0</td><td>9999.0</td><td>9999.0</td><td></td><td>0.36294</td><td>-1.0</td><td>-1</td><td>0.453033</td><td>0.146452</td><td>-1.0</td><td>-1.0</td><td>-1.0</td><td>-1.0</td><td>234.132011282</td><td>16.6077737961</td><td>28.020401001</td><td>1967.37255859</td><td>-23.7079536397</td><td>-21.1887440467</td><td>-20.5059088315</td><td>166313</td><td>166313</td><td>5962</td><td>19.8066679896</td><td>161.439380521</td><td>-1</td><td>0</td><td>0.000297045717395</td><td>-1.0</td><td>-1</td><td>MMT</td><td>/Spectra/Final/MMT/spHect-2014.0530_1.zlog</td><td>4</td><td></td><td>299.0</td><td>MMT</td><td>-99.0</td><td>-99.0</td><td>-99.0</td></tr>\n",
       "<tr><td>1237668336320971184</td><td>234.474859737</td><td>16.6215531336</td><td>3</td><td>GALAXY</td><td>68987912192</td><td>1</td><td>0</td><td>0</td><td>268435456</td><td>0</td><td>21.774</td><td>20.9039</td><td>19.7806</td><td>19.3757</td><td>19.062</td><td>0.17989</td><td>0.0365339</td><td>0.0220932</td><td>0.0246092</td><td>0.0760212</td><td>0.17989</td><td>0.0365339</td><td>0.0220932</td><td>0.0246092</td><td>0.0760212</td><td>0.24839</td><td>0.182763</td><td>0.132555</td><td>0.100512</td><td>0.0712644</td><td>21.5256</td><td>20.7211</td><td>19.6481</td><td>19.2752</td><td>18.9907</td><td>2.54416</td><td>1.97126</td><td>1.7252</td><td>1.70621</td><td>1.91984</td><td>0.967589</td><td>0.164791</td><td>0.0714631</td><td>0.0906279</td><td>0.20229</td><td>0.568482</td><td>0.77372</td><td>0.814499</td><td>0.205386</td><td>0.793459</td><td>0.112216</td><td>0.841329</td><td>0.151687</td><td>1.10673</td><td>0.432698</td><td>0.69448</td><td>0.338553</td><td>0.468949</td><td>0.415318</td><td>0.415211</td><td>21.6354</td><td>0.176844</td><td>20.838</td><td>0.0364447</td><td>19.7806</td><td>0.0220932</td><td>19.3691</td><td>0.02891</td><td>18.9577</td><td>0.0801194</td><td>22.1182</td><td>0.179415</td><td>21.2732</td><td>0.0387015</td><td>20.3111</td><td>0.0266347</td><td>19.9567</td><td>0.0305303</td><td>19.6112</td><td>0.082682</td><td>22.1139</td><td>0.205568</td><td>21.3873</td><td>0.0460318</td><td>20.2793</td><td>0.0293054</td><td>19.8868</td><td>0.0340049</td><td>19.5461</td><td>0.108568</td><td>0.0</td><td>0.554969</td><td>0.0</td><td>0.0</td><td>0.293783</td><td>0.109329</td><td>-0.0873965</td><td>0.0517551</td><td>-0.0326972</td><td>0.036074</td><td>-0.124052</td><td>0.0461733</td><td>-0.125367</td><td>0.00557824</td><td>-0.066925</td><td>0.726283</td><td>0.81006</td><td>73.4124</td><td>0.420878</td><td>0.74843</td><td>176.77</td><td>0.488895</td><td>0.719996</td><td>160.069</td><td>0.491906</td><td>0.732686</td><td>162.887</td><td>0.557223</td><td>0.748198</td><td>151.825</td><td>20.8568</td><td>0.0342796</td><td>19.7806</td><td>0.0220932</td><td>0.878697</td><td>1.73521</td><td>19.8167</td><td>21.0627209499</td><td>21.5313448748</td><td>9999.0</td><td>9999.0</td><td>9999.0</td><td>9999.0</td><td>9999.0</td><td>9999.0</td><td></td><td>0.31415</td><td>-1.0</td><td>-1</td><td>0.358595</td><td>0.059028</td><td>-1.0</td><td>-1.0</td><td>-1.0</td><td>-1.0</td><td>234.132011282</td><td>16.6077737961</td><td>28.020401001</td><td>1967.37255859</td><td>-23.7079536397</td><td>-21.1887440467</td><td>-20.5059088315</td><td>166313</td><td>166313</td><td>5962</td><td>19.7293880015</td><td>160.80949688</td><td>-1</td><td>0</td><td>0.000296577969346</td><td>-1.0</td><td>-1</td><td>AAT</td><td>/Spectra/Final/AAT/Gilgamesh2016_1_MG.mz</td><td>4</td><td></td><td>395.0</td><td>AAT</td><td>-99.0</td><td>-99.0</td><td>-99.0</td></tr>\n",
       "<tr><td>1237665565541597409</td><td>233.793232948</td><td>16.549942888</td><td>3</td><td>GALAXY</td><td>105622137864208</td><td>0</td><td>0</td><td>0</td><td>268435456</td><td>0</td><td>15.1757</td><td>14.3026</td><td>13.9253</td><td>13.7293</td><td>13.7287</td><td>0.0101765</td><td>0.0021091</td><td>0.00199484</td><td>0.00193495</td><td>0.00828719</td><td>0.335099</td><td>0.108082</td><td>0.147649</td><td>0.369577</td><td>0.276781</td><td>0.242088</td><td>0.178126</td><td>0.129192</td><td>0.0979621</td><td>0.0694564</td><td>22.2273</td><td>21.9516</td><td>22.0907</td><td>22.8654</td><td>21.2386</td><td>1.09465</td><td>1.06668</td><td>1.01276</td><td>0.960798</td><td>1.03067</td><td>0.900519</td><td>0.12789</td><td>0.135512</td><td>0.808993</td><td>0.278932</td><td>0.000648918</td><td>2.8891</td><td>0.139364</td><td>0.387445</td><td>0.102663</td><td>0.428514</td><td>0.0425952</td><td>86.5329</td><td>0.141799</td><td>1.30471</td><td>0.253706</td><td>0.107429</td><td>0.300542</td><td>0.0503657</td><td>0.130309</td><td>22.4877</td><td>0.550569</td><td>22.1125</td><td>0.171255</td><td>22.2228</td><td>0.284642</td><td>22.9914</td><td>0.711498</td><td>21.2868</td><td>0.472596</td><td>22.4562</td><td>0.446798</td><td>22.1679</td><td>0.204535</td><td>22.2632</td><td>0.244572</td><td>22.9933</td><td>0.461683</td><td>21.3262</td><td>0.362175</td><td>20.1427</td><td>0.0667355</td><td>19.4523</td><td>0.0232955</td><td>19.1333</td><td>0.0201989</td><td>19.0139</td><td>0.0193262</td><td>18.9046</td><td>0.0563217</td><td>1.0</td><td>1.0</td><td>0.748936</td><td>1.0</td><td>1.0</td><td>-0.0191195</td><td>-0.0228134</td><td>-0.0069837</td><td>0.023321</td><td>-0.00254954</td><td>0.00702761</td><td>-0.024907</td><td>0.0507355</td><td>-0.0796971</td><td>0.00549133</td><td>0.257151</td><td>0.000554206</td><td>149.982</td><td>0.0500492</td><td>0.211949</td><td>121.033</td><td>0.674746</td><td>0.147935</td><td>105.356</td><td>0.208092</td><td>0.00597466</td><td>91.0714</td><td>0.174426</td><td>0.239293</td><td>155.789</td><td>19.9896</td><td>0.0296757</td><td>22.2199</td><td>0.284685</td><td>22.5494</td><td>50.9079</td><td>22.4161</td><td>22.6863944817</td><td>23.1373345704</td><td>9999.0</td><td>9999.0</td><td>9999.0</td><td>9999.0</td><td>9999.0</td><td>9999.0</td><td></td><td>0.00344239</td><td>-1.0</td><td>-1</td><td>-1.0</td><td>-1.0</td><td>-1.0</td><td>-1.0</td><td>-1.0</td><td>-1.0</td><td>234.132011282</td><td>16.6077737961</td><td>28.020401001</td><td>1967.37255859</td><td>-23.7079536397</td><td>-21.1887440467</td><td>-20.5059088315</td><td>166313</td><td>166313</td><td>5962</td><td>19.8164612871</td><td>161.519202446</td><td>146253</td><td>2</td><td>-1.0</td><td>-1.0</td><td>-1</td><td>NSA</td><td>ned</td><td>4</td><td></td><td>1.23766556554e+18</td><td>SDSS+SDSS+NSA</td><td>-99.0</td><td>0.0</td><td>0.0</td></tr>\n",
       "<tr><td>1237665566078468569</td><td>233.953447622</td><td>16.8897070144</td><td>3</td><td>GALAXY</td><td>35287720923480</td><td>0</td><td>0</td><td>0</td><td>268435456</td><td>0</td><td>21.7275</td><td>20.8752</td><td>20.0808</td><td>19.7517</td><td>19.6285</td><td>0.195766</td><td>0.0386262</td><td>0.0280388</td><td>0.0300691</td><td>0.104822</td><td>0.195766</td><td>0.0386262</td><td>0.0280388</td><td>0.0300691</td><td>0.104822</td><td>0.258696</td><td>0.190346</td><td>0.138055</td><td>0.104683</td><td>0.0742214</td><td>21.4688</td><td>20.6849</td><td>19.9428</td><td>19.647</td><td>19.5543</td><td>2.96979</td><td>2.16568</td><td>2.18978</td><td>2.02298</td><td>2.72092</td><td>-1000.0</td><td>0.232158</td><td>0.211548</td><td>0.960398</td><td>1.23606</td><td>1.16219</td><td>1.25307</td><td>1.64773</td><td>0.444152</td><td>1.50182</td><td>0.236003</td><td>1.27431</td><td>0.253849</td><td>0.568538</td><td>0.402606</td><td>0.127093</td><td>0.794992</td><td>0.877466</td><td>0.888559</td><td>0.61322</td><td>21.7674</td><td>0.194436</td><td>20.8003</td><td>0.0389497</td><td>19.9857</td><td>0.0283962</td><td>19.7451</td><td>0.0302642</td><td>19.8249</td><td>0.121251</td><td>22.2565</td><td>0.184381</td><td>21.697</td><td>0.046238</td><td>20.9756</td><td>0.0353943</td><td>20.6213</td><td>0.0351134</td><td>20.3558</td><td>0.109158</td><td>22.4496</td><td>0.267417</td><td>21.5255</td><td>0.0365177</td><td>20.7539</td><td>0.0277238</td><td>20.4367</td><td>0.0282677</td><td>20.2996</td><td>0.138044</td><td>0.764976</td><td>0.163161</td><td>0.259079</td><td>0.199223</td><td>0.0</td><td>0.958017</td><td>0.509693</td><td>-0.014376</td><td>0.0855307</td><td>-0.0450815</td><td>0.0286169</td><td>-0.0119452</td><td>0.0165519</td><td>-0.107631</td><td>0.0990215</td><td>0.291674</td><td>1.34768</td><td>86.8667</td><td>0.803249</td><td>0.951572</td><td>61.4801</td><td>0.878814</td><td>0.904768</td><td>94.7868</td><td>0.969322</td><td>0.766257</td><td>58.9476</td><td>0.576285</td><td>0.732694</td><td>83.8578</td><td>21.3815</td><td>0.0319608</td><td>20.0808</td><td>0.0280388</td><td>1.17006</td><td>3.10418</td><td>20.0213</td><td>21.8589817353</td><td>22.3578153347</td><td>9999.0</td><td>9999.0</td><td>9999.0</td><td>9999.0</td><td>9999.0</td><td>9999.0</td><td></td><td>0.209066</td><td>-1.0</td><td>-1</td><td>0.283742</td><td>0.062725</td><td>-1.0</td><td>-1.0</td><td>-1.0</td><td>-1.0</td><td>234.132011282</td><td>16.6077737961</td><td>28.020401001</td><td>1967.37255859</td><td>-23.7079536397</td><td>-21.1887440467</td><td>-20.5059088315</td><td>166313</td><td>166313</td><td>5962</td><td>19.7839349698</td><td>161.254091199</td><td>-1</td><td>0</td><td>0.000591763566886</td><td>-1.0</td><td>-1</td><td>MMT</td><td>/Spectra/Final/MMT/spHect-2014.0601_2.zlog</td><td>4</td><td></td><td>89.0</td><td>MMT</td><td>-99.0</td><td>-99.0</td><td>-99.0</td></tr>\n",
       "<tr><td>1237665566078665274</td><td>234.339336362</td><td>16.8708249374</td><td>3</td><td>GALAXY</td><td>68987912192</td><td>1</td><td>0</td><td>0</td><td>268435456</td><td>0</td><td>22.6924</td><td>21.7794</td><td>20.9166</td><td>20.4718</td><td>20.0491</td><td>0.363714</td><td>0.0652784</td><td>0.0440084</td><td>0.0431137</td><td>0.118717</td><td>0.363714</td><td>0.0652784</td><td>0.0440084</td><td>0.0431137</td><td>0.118717</td><td>0.279369</td><td>0.205557</td><td>0.149087</td><td>0.113048</td><td>0.0801525</td><td>22.4131</td><td>21.5738</td><td>20.7675</td><td>20.3588</td><td>19.969</td><td>1.01936</td><td>1.84765</td><td>1.61191</td><td>1.55481</td><td>1.72214</td><td>0.392371</td><td>0.178356</td><td>0.79858</td><td>0.119008</td><td>0.313039</td><td>0.0105142</td><td>3.66804</td><td>0.886002</td><td>0.280804</td><td>0.953205</td><td>0.301343</td><td>0.708229</td><td>0.164734</td><td>0.568511</td><td>0.4041</td><td>0.195133</td><td>0.170098</td><td>0.168449</td><td>0.385851</td><td>0.05</td><td>22.7055</td><td>0.278968</td><td>21.7098</td><td>0.0650648</td><td>20.8525</td><td>0.0579975</td><td>20.4258</td><td>0.0504726</td><td>20.0457</td><td>0.132425</td><td>22.5947</td><td>0.242962</td><td>22.2161</td><td>0.0693847</td><td>21.4085</td><td>0.0480891</td><td>20.9671</td><td>0.0467131</td><td>20.4358</td><td>0.115815</td><td>23.362</td><td>0.557586</td><td>22.2224</td><td>0.0859434</td><td>21.4133</td><td>0.0628821</td><td>20.937</td><td>0.0606804</td><td>20.4919</td><td>0.163216</td><td>0.0</td><td>0.40152</td><td>0.49704</td><td>0.528086</td><td>0.0</td><td>-0.292411</td><td>-0.0803445</td><td>-0.0432456</td><td>-0.108441</td><td>0.104018</td><td>-0.129092</td><td>0.0227505</td><td>-0.0951425</td><td>-0.0822156</td><td>-0.22199</td><td>0.05</td><td>0.0221571</td><td>131.833</td><td>0.303961</td><td>0.84964</td><td>155.082</td><td>0.202855</td><td>0.809563</td><td>167.858</td><td>0.509825</td><td>0.633809</td><td>156.112</td><td>0.160551</td><td>0.732665</td><td>128.42</td><td>21.9831</td><td>0.0719561</td><td>20.9166</td><td>0.0604646</td><td>0.864072</td><td>2.1552</td><td>20.9258</td><td>22.4533337862</td><td>22.6040347989</td><td>9999.0</td><td>9999.0</td><td>9999.0</td><td>9999.0</td><td>9999.0</td><td>9999.0</td><td></td><td>0.27554</td><td>-1.0</td><td>-1</td><td>0.41163</td><td>0.121893</td><td>-1.0</td><td>-1.0</td><td>-1.0</td><td>-1.0</td><td>234.132011282</td><td>16.6077737961</td><td>28.020401001</td><td>1967.37255859</td><td>-23.7079536397</td><td>-21.1887440467</td><td>-20.5059088315</td><td>166313</td><td>166313</td><td>5962</td><td>19.7739674011</td><td>161.172848842</td><td>-1</td><td>0</td><td>0.000189638357379</td><td>-1.0</td><td>-1</td><td>MMT</td><td>/Spectra/Final/MMT/spHect-2014.0620_5.zlog</td><td>4</td><td></td><td>134.0</td><td>MMT</td><td>-99.0</td><td>-99.0</td><td>-99.0</td></tr>\n",
       "</table>"
      ],
      "text/plain": [
       "<Table masked=True length=68635>\n",
       "       OBJID              RA      ...   SPEC_HA_EW  SPEC_HA_EWERR \n",
       "       int64           float64    ...    float64       float64    \n",
       "------------------- ------------- ... ------------- --------------\n",
       "1237648721752687341 145.879343509 ...         -99.0          -99.0\n",
       "1237648721215750163 145.737188848 ...         -99.0          -99.0\n",
       "1237650796219728076  145.49930471 ...         -99.0          -99.0\n",
       "1237648721752359009 145.145128066 ...           0.0            0.0\n",
       "1237650796756730414 145.816662813 ...         -99.0          -99.0\n",
       "1237648722289361071 145.445194354 ...         -99.0          -99.0\n",
       "1237650795682922788 145.669169134 ... 9.84451770782 0.768112957478\n",
       "1237650795682988326 145.892442886 ...         -99.0          -99.0\n",
       "1237650796219728040 145.464543343 ...         -99.0          -99.0\n",
       "1237650796219793814 145.600551406 ...         -99.0          -99.0\n",
       "                ...           ... ...           ...            ...\n",
       "1237668336320971571 234.465631623 ...         -99.0          -99.0\n",
       "1237665565541597964 233.801791932 ...         -99.0          -99.0\n",
       "1237665566078468677 233.937756668 ...         -99.0          -99.0\n",
       "1237665566078599695 234.309236917 ...         -99.0          -99.0\n",
       "1237665566078665629 234.426728971 ...         -99.0          -99.0\n",
       "1237668336320971566 234.470851598 ...         -99.0          -99.0\n",
       "1237668336320971184 234.474859737 ...         -99.0          -99.0\n",
       "1237665565541597409 233.793232948 ...           0.0            0.0\n",
       "1237665566078468569 233.953447622 ...         -99.0          -99.0\n",
       "1237665566078665274 234.339336362 ...         -99.0          -99.0"
      ]
     },
     "execution_count": 2,
     "metadata": {},
     "output_type": "execute_result"
    }
   ],
   "source": [
    "import matplotlib.pyplot as plt\n",
    "%matplotlib inline\n",
    "import numpy as np\n",
    "from astropy.table import Table, join , Column, vstack\n",
    "import astropy\n",
    "from astropy.io import ascii\n",
    "import csv\n",
    "from astropy.coordinates import SkyCoord\n",
    "from astropy import units as u\n",
    "import os\n",
    "import pandas as pd\n",
    "\n",
    "\n",
    "#opening spectral data\n",
    "spec_data_all = Table.read('saga_spectra_clean.fits')\n",
    "spec_data_all #table name for spec data"
   ]
  },
  {
   "cell_type": "code",
   "execution_count": 3,
   "metadata": {},
   "outputs": [
    {
     "data": {
      "text/html": [
       "&lt;Table masked=True length=167&gt;\n",
       "<table id=\"table4445156408\" class=\"table-striped table-bordered table-condensed\">\n",
       "<thead><tr><th>OBJID</th><th>RA</th><th>DEC</th><th>PHOTPTYPE</th><th>PHOT_SG</th><th>FLAGS</th><th>clean</th><th>SATURATED</th><th>BAD_COUNTS_ERROR</th><th>BINNED1</th><th>TOO_FEW_GOOD_DETECTIONS</th><th>u</th><th>g</th><th>r</th><th>i</th><th>z</th><th>u_err</th><th>g_err</th><th>r_err</th><th>i_err</th><th>z_err</th><th>MODELMAGERR_U</th><th>MODELMAGERR_G</th><th>MODELMAGERR_R</th><th>MODELMAGERR_I</th><th>MODELMAGERR_Z</th><th>EXTINCTION_U</th><th>EXTINCTION_G</th><th>EXTINCTION_R</th><th>EXTINCTION_I</th><th>EXTINCTION_Z</th><th>DERED_U</th><th>DERED_G</th><th>DERED_R</th><th>DERED_I</th><th>DERED_Z</th><th>PETRORAD_U</th><th>PETRORAD_G</th><th>PETRORAD_R</th><th>PETRORAD_I</th><th>PETRORAD_Z</th><th>PETRORADERR_U</th><th>PETRORADERR_G</th><th>PETRORADERR_R</th><th>PETRORADERR_I</th><th>PETRORADERR_Z</th><th>DEVRAD_U</th><th>DEVRADERR_U</th><th>DEVRAD_G</th><th>DEVRADERR_G</th><th>DEVRAD_R</th><th>DEVRADERR_R</th><th>DEVRAD_I</th><th>DEVRADERR_I</th><th>DEVRAD_Z</th><th>DEVRADERR_Z</th><th>DEVAB_U</th><th>DEVAB_G</th><th>DEVAB_R</th><th>DEVAB_I</th><th>DEVAB_Z</th><th>CMODELMAG_U</th><th>CMODELMAGERR_U</th><th>CMODELMAG_G</th><th>CMODELMAGERR_G</th><th>CMODELMAG_R</th><th>CMODELMAGERR_R</th><th>CMODELMAG_I</th><th>CMODELMAGERR_I</th><th>CMODELMAG_Z</th><th>CMODELMAGERR_Z</th><th>PSFMAG_U</th><th>PSFMAGERR_U</th><th>PSFMAG_G</th><th>PSFMAGERR_G</th><th>PSFMAG_R</th><th>PSFMAGERR_R</th><th>PSFMAG_I</th><th>PSFMAGERR_I</th><th>PSFMAG_Z</th><th>PSFMAGERR_Z</th><th>FIBERMAG_U</th><th>FIBERMAGERR_U</th><th>FIBERMAG_G</th><th>FIBERMAGERR_G</th><th>FIBERMAG_R</th><th>FIBERMAGERR_R</th><th>FIBERMAG_I</th><th>FIBERMAGERR_I</th><th>FIBERMAG_Z</th><th>FIBERMAGERR_Z</th><th>FRACDEV_U</th><th>FRACDEV_G</th><th>FRACDEV_R</th><th>FRACDEV_I</th><th>FRACDEV_Z</th><th>Q_U</th><th>U_U</th><th>Q_G</th><th>U_G</th><th>Q_R</th><th>U_R</th><th>Q_I</th><th>U_I</th><th>Q_Z</th><th>U_Z</th><th>EXPAB_U</th><th>EXPRAD_U</th><th>EXPPHI_U</th><th>EXPAB_G</th><th>EXPRAD_G</th><th>EXPPHI_G</th><th>EXPAB_R</th><th>EXPRAD_R</th><th>EXPPHI_R</th><th>EXPAB_I</th><th>EXPRAD_I</th><th>EXPPHI_I</th><th>EXPAB_Z</th><th>EXPRAD_Z</th><th>EXPPHI_Z</th><th>FIBER2MAG_R</th><th>FIBER2MAGERR_R</th><th>EXPMAG_R</th><th>EXPMAGERR_R</th><th>PETROR50_R</th><th>PETROR90_R</th><th>PETROMAG_R</th><th>SB_EXP_R</th><th>SB_PETRO_R</th><th>J</th><th>JERR</th><th>H</th><th>HERR</th><th>K</th><th>KERR</th><th>survey</th><th>SPEC_Z</th><th>SPEC_Z_ERR</th><th>SPEC_Z_WARN</th><th>PHOTOZ</th><th>PHOTOZ_ERR</th><th>W1</th><th>W1ERR</th><th>W2</th><th>W2ERR</th><th>HOST_RA</th><th>HOST_DEC</th><th>HOST_DIST</th><th>HOST_VHOST</th><th>HOST_MK</th><th>HOST_MR</th><th>HOST_MG</th><th>HOST_NSAID</th><th>HOST_SAGA_NAME</th><th>HOST_NGC_NAME</th><th>RHOST_ARCM</th><th>RHOST_KPC</th><th>OBJ_NSAID</th><th>SATS</th><th>PROBABILITY_CLASS1</th><th>RESCALED_PROBABILITY_CLASS1</th><th>REMOVE</th><th>TELNAME</th><th>MASKNAME</th><th>ZQUALITY</th><th>SPEC_CLASS</th><th>SPECOBJID</th><th>SPEC_REPEAT</th><th>SPEC_SN</th><th>SPEC_HA_EW</th><th>SPEC_HA_EWERR</th></tr></thead>\n",
       "<thead><tr><th>int64</th><th>float64</th><th>float64</th><th>int16</th><th>str40</th><th>int64</th><th>int32</th><th>int64</th><th>int64</th><th>int64</th><th>int64</th><th>float32</th><th>float32</th><th>float32</th><th>float32</th><th>float32</th><th>float32</th><th>float32</th><th>float32</th><th>float32</th><th>float32</th><th>float32</th><th>float32</th><th>float32</th><th>float32</th><th>float32</th><th>float32</th><th>float32</th><th>float32</th><th>float32</th><th>float32</th><th>float32</th><th>float32</th><th>float32</th><th>float32</th><th>float32</th><th>float32</th><th>float32</th><th>float32</th><th>float32</th><th>float32</th><th>float32</th><th>float32</th><th>float32</th><th>float32</th><th>float32</th><th>float32</th><th>float32</th><th>float32</th><th>float32</th><th>float32</th><th>float32</th><th>float32</th><th>float32</th><th>float32</th><th>float32</th><th>float32</th><th>float32</th><th>float32</th><th>float32</th><th>float32</th><th>float32</th><th>float32</th><th>float32</th><th>float32</th><th>float32</th><th>float32</th><th>float32</th><th>float32</th><th>float32</th><th>float32</th><th>float32</th><th>float32</th><th>float32</th><th>float32</th><th>float32</th><th>float32</th><th>float32</th><th>float32</th><th>float32</th><th>float32</th><th>float32</th><th>float32</th><th>float32</th><th>float32</th><th>float32</th><th>float32</th><th>float32</th><th>float32</th><th>float32</th><th>float32</th><th>float32</th><th>float32</th><th>float32</th><th>float32</th><th>float32</th><th>float32</th><th>float32</th><th>float32</th><th>float32</th><th>float32</th><th>float32</th><th>float32</th><th>float32</th><th>float32</th><th>float32</th><th>float32</th><th>float32</th><th>float32</th><th>float32</th><th>float32</th><th>float32</th><th>float32</th><th>float32</th><th>float32</th><th>float32</th><th>float32</th><th>float32</th><th>float32</th><th>float32</th><th>float32</th><th>float32</th><th>float32</th><th>float32</th><th>float32</th><th>float32</th><th>float32</th><th>float32</th><th>float64</th><th>float64</th><th>float32</th><th>float32</th><th>float32</th><th>float32</th><th>float32</th><th>float32</th><th>str32</th><th>float32</th><th>float32</th><th>int32</th><th>float32</th><th>float32</th><th>float64</th><th>float64</th><th>float64</th><th>float64</th><th>float64</th><th>float64</th><th>float64</th><th>float64</th><th>float64</th><th>float64</th><th>float64</th><th>int64</th><th>str48</th><th>str48</th><th>float64</th><th>float64</th><th>int64</th><th>int64</th><th>float64</th><th>float64</th><th>int64</th><th>str6</th><th>str48</th><th>int64</th><th>str2</th><th>str48</th><th>str48</th><th>float64</th><th>float64</th><th>float64</th></tr></thead>\n",
       "<tr><td>1237648722289295527</td><td>145.320962664</td><td>0.771102651396</td><td>3</td><td>GALAXY</td><td>68988043776</td><td>1</td><td>0</td><td>0</td><td>268435456</td><td>0</td><td>18.7395</td><td>17.6063</td><td>17.1605</td><td>16.9516</td><td>16.7769</td><td>0.0283063</td><td>0.00646028</td><td>0.00594115</td><td>0.00720908</td><td>0.0171965</td><td>0.0273266</td><td>0.0062947</td><td>0.00570953</td><td>0.00689574</td><td>0.0178854</td><td>0.608006</td><td>0.447365</td><td>0.324466</td><td>0.246033</td><td>0.174441</td><td>18.2627</td><td>17.2831</td><td>16.9258</td><td>16.7912</td><td>16.6819</td><td>3.77931</td><td>4.4029</td><td>4.98527</td><td>5.1239</td><td>24.9092</td><td>0.217144</td><td>0.111835</td><td>0.141186</td><td>0.116695</td><td>8.51344</td><td>2.57427</td><td>0.425552</td><td>3.45923</td><td>0.0851165</td><td>4.06205</td><td>0.12706</td><td>4.24132</td><td>0.119345</td><td>5.17283</td><td>0.379126</td><td>0.670546</td><td>0.681586</td><td>0.688063</td><td>0.712973</td><td>0.707609</td><td>18.9483</td><td>0.0272871</td><td>17.6245</td><td>0.00638381</td><td>17.0989</td><td>0.00582051</td><td>16.8696</td><td>0.00705032</td><td>16.6378</td><td>0.0185209</td><td>20.0718</td><td>0.0352348</td><td>19.106</td><td>0.0140474</td><td>18.602</td><td>0.0193119</td><td>18.4885</td><td>0.0157263</td><td>18.4235</td><td>0.0277232</td><td>20.0572</td><td>0.0323801</td><td>18.96</td><td>0.00819829</td><td>18.549</td><td>0.00751242</td><td>18.3379</td><td>0.00918833</td><td>18.148</td><td>0.024217</td><td>0.251249</td><td>0.395446</td><td>0.344743</td><td>0.334241</td><td>0.323474</td><td>0.0608646</td><td>0.0327015</td><td>0.0777924</td><td>0.0654216</td><td>0.0742687</td><td>0.0610308</td><td>0.0632748</td><td>0.0512498</td><td>0.0413077</td><td>0.105914</td><td>0.71549</td><td>1.59726</td><td>14.1018</td><td>0.710982</td><td>1.90739</td><td>21.88</td><td>0.731562</td><td>2.04755</td><td>20.5199</td><td>0.758912</td><td>2.02837</td><td>20.178</td><td>0.737766</td><td>2.04899</td><td>30.4873</td><td>19.2578</td><td>0.010051</td><td>17.2503</td><td>0.00570953</td><td>2.28976</td><td>5.87046</td><td>17.1605</td><td>20.9548710435</td><td>20.9041968097</td><td>16.638</td><td>0.145</td><td>16.03</td><td>0.2</td><td>15.33</td><td>9999.0</td><td>sdss</td><td>0.00658949</td><td>6.01168e-06</td><td>0</td><td>0.017868</td><td>0.006357</td><td>-1.0</td><td>-1.0</td><td>-1.0</td><td>-1.0</td><td>145.513690377</td><td>0.336451585096</td><td>30.0373516083</td><td>1912.34655762</td><td>-23.5218249121</td><td>-21.2755714191</td><td>-20.7350530517</td><td>32</td><td></td><td></td><td>28.5287841155</td><td>249.26771538</td><td>30</td><td>1</td><td>0.666416895163</td><td>-1.0</td><td>-1</td><td>NSA</td><td>sdss</td><td>4</td><td></td><td>1.23764872229e+18</td><td>SDSS+NSA</td><td>-99.0</td><td>26.0362949371</td><td>0.72926735878</td></tr>\n",
       "<tr><td>1237653612647678107</td><td>139.49713703</td><td>52.7427116605</td><td>3</td><td>GALAXY</td><td>105656464052312</td><td>0</td><td>0</td><td>0</td><td>268435456</td><td>0</td><td>15.9736</td><td>14.8912</td><td>14.4537</td><td>14.2214</td><td>14.0957</td><td>0.0146398</td><td>0.00471771</td><td>0.0461497</td><td>0.0023442</td><td>0.00891875</td><td>0.0149247</td><td>0.00332935</td><td>0.00335232</td><td>0.00394758</td><td>0.0118248</td><td>0.0700311</td><td>0.0515282</td><td>0.0373726</td><td>0.0283385</td><td>0.0200923</td><td>16.3897</td><td>15.0769</td><td>14.6336</td><td>14.3843</td><td>14.305</td><td>19.8463</td><td>24.4874</td><td>23.7626</td><td>23.2343</td><td>20.3614</td><td>1.00869</td><td>1.96718</td><td>2.17022</td><td>1.82488</td><td>1.39401</td><td>29.6691</td><td>1.39908</td><td>29.6811</td><td>0.204404</td><td>29.6806</td><td>0.519559</td><td>29.6909</td><td>0.807684</td><td>29.6769</td><td>1.41787</td><td>0.503872</td><td>0.532021</td><td>0.501362</td><td>0.530124</td><td>0.492683</td><td>16.4666</td><td>0.0149241</td><td>15.0965</td><td>0.00332673</td><td>14.671</td><td>0.00335232</td><td>14.4141</td><td>0.00394777</td><td>14.3644</td><td>0.0118063</td><td>20.2212</td><td>0.0698294</td><td>19.3131</td><td>0.0166888</td><td>18.7949</td><td>0.0219506</td><td>18.5116</td><td>0.0242411</td><td>18.5845</td><td>0.03897</td><td>20.5047</td><td>0.0685074</td><td>19.2191</td><td>0.0120617</td><td>18.7225</td><td>0.00962553</td><td>18.4587</td><td>0.0104538</td><td>18.2787</td><td>0.0303292</td><td>0.0</td><td>0.0</td><td>0.0</td><td>0.0</td><td>0.0</td><td>-0.261544</td><td>-0.00132623</td><td>-0.258105</td><td>-0.00814401</td><td>-0.262315</td><td>-0.00958174</td><td>-0.256495</td><td>-0.0125349</td><td>-0.290762</td><td>-0.0151937</td><td>0.383497</td><td>15.8793</td><td>71.9599</td><td>0.390633</td><td>16.3734</td><td>70.2695</td><td>0.383483</td><td>15.9691</td><td>70.5642</td><td>0.37952</td><td>16.0024</td><td>70.806</td><td>0.35889</td><td>15.6147</td><td>70.397</td><td>19.5716</td><td>0.0140277</td><td>14.671</td><td>0.00335232</td><td>13.5243</td><td>35.1696</td><td>14.7451</td><td>22.104679974</td><td>21.8406624612</td><td>9999.0</td><td>9999.0</td><td>9999.0</td><td>9999.0</td><td>9999.0</td><td>9999.0</td><td>sdss</td><td>0.00784852</td><td>1.10209e-05</td><td>0</td><td>0.01555</td><td>0.007905</td><td>-1.0</td><td>-1.0</td><td>-1.0</td><td>-1.0</td><td>139.41631164</td><td>52.9929649839</td><td>36.2141456604</td><td>2274.03808594</td><td>-23.372601145</td><td>-20.5827118837</td><td>-19.7930517428</td><td>16235</td><td></td><td></td><td>15.3029408393</td><td>161.204746981</td><td>16242</td><td>1</td><td>0.838893311133</td><td>-1.0</td><td>-1</td><td>NSA</td><td>sdss</td><td>4</td><td></td><td>1.23765361265e+18</td><td>SDSS+NSA</td><td>-99.0</td><td>9.95044326782</td><td>0.490148693323</td></tr>\n",
       "<tr><td>1237653613184680084</td><td>139.44430792</td><td>53.2935206629</td><td>3</td><td>GALAXY</td><td>105555565871120</td><td>1</td><td>0</td><td>0</td><td>268435456</td><td>0</td><td>16.6658</td><td>15.7208</td><td>15.4323</td><td>15.2741</td><td>15.1524</td><td>0.0139382</td><td>0.00301873</td><td>0.00342679</td><td>0.00504487</td><td>0.0588319</td><td>0.224526</td><td>0.0267989</td><td>0.027004</td><td>0.0319874</td><td>0.125845</td><td>0.079182</td><td>0.0582614</td><td>0.042256</td><td>0.0320415</td><td>0.0227178</td><td>21.855</td><td>20.2264</td><td>19.8335</td><td>19.6385</td><td>19.7003</td><td>1.68306</td><td>1.59926</td><td>1.62416</td><td>1.52557</td><td>1.60032</td><td>1.5113</td><td>0.0503589</td><td>0.0521055</td><td>0.071807</td><td>0.453671</td><td>0.36649</td><td>2.05729</td><td>0.236029</td><td>0.065414</td><td>0.23625</td><td>0.0549392</td><td>0.317591</td><td>0.0937302</td><td>0.52313</td><td>1.13303</td><td>0.259253</td><td>0.668257</td><td>0.819082</td><td>0.823623</td><td>0.847132</td><td>21.9067</td><td>0.781104</td><td>20.2957</td><td>0.0267861</td><td>19.8758</td><td>0.027004</td><td>19.6106</td><td>0.0338507</td><td>19.5537</td><td>0.237065</td><td>22.0595</td><td>0.322107</td><td>20.4211</td><td>0.086609</td><td>20.0201</td><td>0.0889908</td><td>19.8619</td><td>0.0850723</td><td>19.9473</td><td>0.165663</td><td>20.7537</td><td>0.0978331</td><td>19.6555</td><td>0.0420921</td><td>19.3308</td><td>0.0427019</td><td>19.127</td><td>0.0439952</td><td>19.0318</td><td>0.081404</td><td>0.0</td><td>0.0</td><td>0.0</td><td>0.0</td><td>0.0</td><td>-0.0275073</td><td>-0.00578819</td><td>-0.00171337</td><td>-0.00332499</td><td>0.0108761</td><td>0.00965585</td><td>0.0183231</td><td>0.0196789</td><td>0.0410074</td><td>0.019253</td><td>0.370165</td><td>0.534264</td><td>-7.79206</td><td>0.744048</td><td>0.3789</td><td>104.479</td><td>0.877404</td><td>0.379294</td><td>121.647</td><td>0.885477</td><td>0.472141</td><td>-23.7637</td><td>0.935289</td><td>0.588303</td><td>-0.700703</td><td>20.1955</td><td>0.0631348</td><td>19.8758</td><td>0.027004</td><td>9.53912</td><td>23.4265</td><td>20.0937</td><td>22.325336473</td><td>21.7258138691</td><td>9999.0</td><td>9999.0</td><td>9999.0</td><td>9999.0</td><td>9999.0</td><td>9999.0</td><td></td><td>0.00754025</td><td>-1.0</td><td>-1</td><td>0.095635</td><td>0.049909</td><td>-1.0</td><td>-1.0</td><td>-1.0</td><td>-1.0</td><td>139.41631164</td><td>52.9929649839</td><td>36.2141456604</td><td>2274.03808594</td><td>-23.372601145</td><td>-20.5827118837</td><td>-19.7930517428</td><td>16235</td><td></td><td></td><td>18.0307074666</td><td>189.939433104</td><td>16265</td><td>1</td><td>0.146734888189</td><td>-1.0</td><td>-1</td><td>NSA</td><td>sdss</td><td>4</td><td></td><td>1.23765361318e+18</td><td>SDSS+NSA</td><td>-99.0</td><td>0.0</td><td>0.0</td></tr>\n",
       "<tr><td>1237654382515388427</td><td>139.189595559</td><td>53.4429759655</td><td>3</td><td>GALAXY</td><td>35221147877392</td><td>1</td><td>0</td><td>0</td><td>268435456</td><td>0</td><td>15.5164</td><td>14.7015</td><td>14.473</td><td>14.427</td><td>14.2914</td><td>0.00351711</td><td>0.00116962</td><td>0.00125147</td><td>0.00136037</td><td>0.00345746</td><td>0.0053826</td><td>0.00228078</td><td>0.00225714</td><td>0.00237891</td><td>0.00471555</td><td>0.107488</td><td>0.0790884</td><td>0.0573615</td><td>0.0434955</td><td>0.0308389</td><td>15.9019</td><td>15.0013</td><td>14.7184</td><td>14.6278</td><td>14.5515</td><td>5.89147</td><td>6.68506</td><td>7.45339</td><td>7.93435</td><td>7.24157</td><td>0.301966</td><td>0.299628</td><td>0.258699</td><td>0.2574</td><td>0.211361</td><td>4.05203</td><td>0.09561</td><td>4.39775</td><td>0.0272571</td><td>5.37999</td><td>0.0333996</td><td>6.46851</td><td>0.0416386</td><td>7.12012</td><td>0.138939</td><td>0.537946</td><td>0.616781</td><td>0.63965</td><td>0.651147</td><td>0.617887</td><td>15.9313</td><td>0.00524741</td><td>15.0413</td><td>0.0022709</td><td>14.697</td><td>0.00227094</td><td>14.5139</td><td>0.00239248</td><td>14.4299</td><td>0.00483326</td><td>17.3698</td><td>0.0202814</td><td>16.7577</td><td>0.0144343</td><td>16.6371</td><td>0.0178261</td><td>16.6176</td><td>0.014728</td><td>16.4722</td><td>0.0157453</td><td>17.5177</td><td>0.0129414</td><td>16.7524</td><td>0.00562665</td><td>16.5957</td><td>0.00503166</td><td>16.5518</td><td>0.00412867</td><td>16.4493</td><td>0.00837047</td><td>0.732036</td><td>0.559755</td><td>0.504387</td><td>0.524038</td><td>0.442977</td><td>0.00951311</td><td>0.132904</td><td>-0.0151261</td><td>0.122054</td><td>-0.0269645</td><td>0.106391</td><td>-0.0436789</td><td>0.0938986</td><td>-0.0491651</td><td>0.0864963</td><td>0.588776</td><td>2.69154</td><td>4.3085</td><td>0.63554</td><td>3.23314</td><td>8.73973</td><td>0.628071</td><td>3.69859</td><td>11.9785</td><td>0.637062</td><td>3.77951</td><td>14.5626</td><td>0.665896</td><td>3.28135</td><td>14.0042</td><td>17.334</td><td>0.00671326</td><td>14.7758</td><td>0.00225714</td><td>4.08956</td><td>10.4538</td><td>14.7426</td><td>19.5268611638</td><td>19.3342176872</td><td>15.875</td><td>0.12</td><td>13.935</td><td>9999.0</td><td>13.756</td><td>9999.0</td><td>sdss</td><td>0.00746484</td><td>5.01368e-06</td><td>0</td><td>0.007807</td><td>0.006366</td><td>-1.0</td><td>-1.0</td><td>-1.0</td><td>-1.0</td><td>139.41631164</td><td>52.9929649839</td><td>36.2141456604</td><td>2274.03808594</td><td>-23.372601145</td><td>-20.5827118837</td><td>-19.7930517428</td><td>16235</td><td></td><td></td><td>28.2000717583</td><td>297.063780767</td><td>157152</td><td>1</td><td>0.693869512461</td><td>-1.0</td><td>-1</td><td>NSA</td><td>sdss</td><td>4</td><td></td><td>1.23765438252e+18</td><td>SDSS+SDSS+NSA</td><td>-99.0</td><td>80.882850647</td><td>1.08989155293</td></tr>\n",
       "<tr><td>1237654381982777375</td><td>154.231241268</td><td>58.3949131454</td><td>3</td><td>GALAXY</td><td>1161121054724184</td><td>0</td><td>0</td><td>0</td><td>268435456</td><td>0</td><td>15.8787</td><td>15.1285</td><td>14.939</td><td>14.8546</td><td>14.8655</td><td>0.0113269</td><td>0.00242546</td><td>0.0028305</td><td>0.00403012</td><td>0.0142265</td><td>0.0116545</td><td>0.00338663</td><td>0.00383601</td><td>0.00458371</td><td>0.0183108</td><td>0.0492185</td><td>0.0362145</td><td>0.0262658</td><td>0.0199166</td><td>0.0141211</td><td>16.2678</td><td>15.3373</td><td>15.1262</td><td>15.0205</td><td>15.2443</td><td>18.2447</td><td>23.0718</td><td>21.4317</td><td>22.2034</td><td>17.3019</td><td>0.673451</td><td>2.14628</td><td>1.45466</td><td>1.55369</td><td>0.554916</td><td>29.6714</td><td>1.27172</td><td>29.6742</td><td>0.266767</td><td>29.6734</td><td>0.710614</td><td>29.674</td><td>0.544587</td><td>29.6697</td><td>2.54586</td><td>0.574496</td><td>0.65075</td><td>0.703629</td><td>0.791788</td><td>0.637573</td><td>16.3339</td><td>0.0118528</td><td>15.3473</td><td>0.00341309</td><td>15.1411</td><td>0.00385898</td><td>15.0142</td><td>0.00458085</td><td>15.3825</td><td>0.0184029</td><td>19.8522</td><td>0.0464501</td><td>19.3812</td><td>0.025835</td><td>19.3349</td><td>0.0266619</td><td>19.4574</td><td>0.0365136</td><td>19.5265</td><td>0.0636252</td><td>19.8239</td><td>0.0352038</td><td>19.2142</td><td>0.0214475</td><td>19.0999</td><td>0.0198397</td><td>19.199</td><td>0.0229381</td><td>19.1258</td><td>0.0556786</td><td>0.142589</td><td>0.0595947</td><td>0.0355276</td><td>0.0</td><td>0.0575883</td><td>-0.145451</td><td>0.00719412</td><td>-0.120104</td><td>0.00890526</td><td>-0.111458</td><td>0.00929654</td><td>-0.102879</td><td>0.0093793</td><td>-0.141793</td><td>0.0168834</td><td>0.549937</td><td>13.4465</td><td>35.7284</td><td>0.499992</td><td>15.6295</td><td>30.1459</td><td>0.505991</td><td>15.3413</td><td>29.8997</td><td>0.528992</td><td>15.412</td><td>28.328</td><td>0.54996</td><td>12.6994</td><td>34.186</td><td>19.8805</td><td>0.0269105</td><td>15.1525</td><td>0.00383601</td><td>13.1029</td><td>32.6502</td><td>15.1818</td><td>22.5213351371</td><td>22.3356177192</td><td>9999.0</td><td>9999.0</td><td>9999.0</td><td>9999.0</td><td>9999.0</td><td>9999.0</td><td>boss</td><td>0.00752522</td><td>5.10935e-06</td><td>0</td><td>0.055724</td><td>0.076186</td><td>-1.0</td><td>-1.0</td><td>-1.0</td><td>-1.0</td><td>154.887594727</td><td>58.2057929366</td><td>34.4950637817</td><td>2099.41015625</td><td>-23.2068662847</td><td>-21.099767139</td><td>-20.340329375</td><td>16559</td><td></td><td></td><td>23.6054155738</td><td>236.859772229</td><td>136957</td><td>1</td><td>-1.0</td><td>-1.0</td><td>-1</td><td>NSA</td><td>ned</td><td>4</td><td></td><td>1.23765438198e+18</td><td>SDSS+NSA</td><td>-99.0</td><td>0.0</td><td>0.0</td></tr>\n",
       "<tr><td>1237655368744632621</td><td>155.66592215</td><td>58.0900769045</td><td>3</td><td>GALAXY</td><td>35255507619888</td><td>1</td><td>0</td><td>0</td><td>268435456</td><td>0</td><td>18.1088</td><td>17.2602</td><td>16.9617</td><td>16.7779</td><td>16.8152</td><td>0.13591</td><td>0.015449</td><td>0.00657507</td><td>0.0085953</td><td>0.0337375</td><td>0.0318773</td><td>0.00865825</td><td>0.0116869</td><td>0.0143658</td><td>0.0504644</td><td>0.0500261</td><td>0.0368087</td><td>0.0266968</td><td>0.0202434</td><td>0.0143528</td><td>18.3153</td><td>17.4147</td><td>17.1797</td><td>17.0181</td><td>16.9609</td><td>8.09863</td><td>9.57642</td><td>10.1302</td><td>10.7851</td><td>9.6585</td><td>0.938483</td><td>0.593751</td><td>0.604083</td><td>0.49888</td><td>0.866765</td><td>19.1752</td><td>2.31815</td><td>19.1161</td><td>0.612509</td><td>22.9234</td><td>1.23091</td><td>23.8143</td><td>1.37182</td><td>22.1677</td><td>5.17094</td><td>0.35321</td><td>0.370475</td><td>0.379092</td><td>0.420371</td><td>0.352961</td><td>18.4411</td><td>0.0323945</td><td>17.5031</td><td>0.00865351</td><td>17.2064</td><td>0.0116869</td><td>16.9953</td><td>0.0143518</td><td>16.9701</td><td>0.0521838</td><td>20.8103</td><td>0.06398</td><td>20.0821</td><td>0.0220376</td><td>20.0657</td><td>0.0269211</td><td>19.8806</td><td>0.0329196</td><td>19.8584</td><td>0.103907</td><td>20.879</td><td>0.0621806</td><td>20.1041</td><td>0.0173513</td><td>19.9364</td><td>0.0217418</td><td>19.8087</td><td>0.0290553</td><td>19.6882</td><td>0.098768</td><td>0.0546165</td><td>0.0</td><td>0.0</td><td>0.0</td><td>0.0</td><td>0.337432</td><td>0.0442225</td><td>0.272525</td><td>0.0527048</td><td>0.273914</td><td>0.0432047</td><td>0.254312</td><td>0.0318912</td><td>0.263629</td><td>0.034161</td><td>0.389009</td><td>6.18766</td><td>-19.0674</td><td>0.434478</td><td>6.49304</td><td>-18.1126</td><td>0.425633</td><td>6.89964</td><td>-17.9583</td><td>0.455078</td><td>7.01333</td><td>-17.2175</td><td>0.418459</td><td>6.97079</td><td>-15.4312</td><td>20.7577</td><td>0.031078</td><td>17.2064</td><td>0.0116869</td><td>12.7976</td><td>36.3879</td><td>17.2472</td><td>24.4927760879</td><td>22.6441662566</td><td>9999.0</td><td>9999.0</td><td>9999.0</td><td>9999.0</td><td>9999.0</td><td>9999.0</td><td>sdss</td><td>0.00675755</td><td>5.85553e-06</td><td>0</td><td>0.036006</td><td>0.011221</td><td>-1.0</td><td>-1.0</td><td>-1.0</td><td>-1.0</td><td>154.887594727</td><td>58.2057929366</td><td>34.4950637817</td><td>2099.41015625</td><td>-23.2068662847</td><td>-21.099767139</td><td>-20.340329375</td><td>16559</td><td></td><td></td><td>25.6197827333</td><td>257.071831587</td><td>16544</td><td>1</td><td>0.577171762731</td><td>-1.0</td><td>-1</td><td>NSA</td><td>sdss</td><td>4</td><td></td><td>1.23765536874e+18</td><td>SDSS+NSA</td><td>-99.0</td><td>43.444606781</td><td>1.84664130211</td></tr>\n",
       "<tr><td>1237654381982777687</td><td>154.300660995</td><td>58.5392741055</td><td>3</td><td>GALAXY</td><td>105555532321368</td><td>0</td><td>0</td><td>0</td><td>268435456</td><td>0</td><td>18.5376</td><td>17.7102</td><td>17.4582</td><td>17.3738</td><td>17.3917</td><td>0.0229088</td><td>0.00697469</td><td>0.00625486</td><td>0.0494695</td><td>0.0358835</td><td>0.0411633</td><td>0.009732</td><td>0.0122612</td><td>0.0165264</td><td>0.0531301</td><td>0.0483243</td><td>0.0355565</td><td>0.0257886</td><td>0.0195547</td><td>0.0138645</td><td>18.5118</td><td>17.6441</td><td>17.4211</td><td>17.3075</td><td>17.3424</td><td>7.90489</td><td>9.45046</td><td>9.96037</td><td>9.65947</td><td>22.9486</td><td>0.766706</td><td>0.454416</td><td>0.413069</td><td>0.390776</td><td>1.45836</td><td>15.3519</td><td>2.2732</td><td>19.1247</td><td>0.681015</td><td>19.9777</td><td>0.936011</td><td>20.5993</td><td>1.35518</td><td>29.6687</td><td>7.49384</td><td>0.376179</td><td>0.417696</td><td>0.450004</td><td>0.450095</td><td>0.423683</td><td>18.707</td><td>0.0406958</td><td>17.7192</td><td>0.0097158</td><td>17.4468</td><td>0.0122612</td><td>17.3313</td><td>0.016522</td><td>17.2564</td><td>0.0529603</td><td>21.0796</td><td>0.0767127</td><td>20.5252</td><td>0.0289076</td><td>20.3916</td><td>0.0330139</td><td>20.4217</td><td>0.0425738</td><td>20.4987</td><td>0.132979</td><td>20.9373</td><td>0.0681592</td><td>20.2588</td><td>0.0225183</td><td>20.0833</td><td>0.0252898</td><td>20.0455</td><td>0.0290579</td><td>19.99</td><td>0.110548</td><td>0.0209734</td><td>0.0</td><td>0.0</td><td>0.0</td><td>0.0</td><td>-0.12473</td><td>0.133176</td><td>-0.178947</td><td>0.0665444</td><td>-0.160778</td><td>0.0599701</td><td>-0.165203</td><td>0.0797821</td><td>-0.260787</td><td>0.0912758</td><td>0.400006</td><td>5.64074</td><td>34.3992</td><td>0.44426</td><td>6.4434</td><td>37.9929</td><td>0.481337</td><td>6.56775</td><td>38.6094</td><td>0.47123</td><td>6.59417</td><td>36.8409</td><td>0.462135</td><td>7.26794</td><td>42.4106</td><td>20.9163</td><td>0.0364413</td><td>17.4468</td><td>0.0122612</td><td>5.35722</td><td>11.7613</td><td>17.5112</td><td>23.0983262358</td><td>22.8373312519</td><td>9999.0</td><td>9999.0</td><td>9999.0</td><td>9999.0</td><td>9999.0</td><td>9999.0</td><td></td><td>0.007625</td><td>-1.0</td><td>-1</td><td>0.024138</td><td>0.011549</td><td>-1.0</td><td>-1.0</td><td>-1.0</td><td>-1.0</td><td>154.887594727</td><td>58.2057929366</td><td>34.4950637817</td><td>2099.41015625</td><td>-23.2068662847</td><td>-21.099767139</td><td>-20.340329375</td><td>16559</td><td></td><td></td><td>27.2352044401</td><td>273.280828777</td><td>16572</td><td>1</td><td>0.414566374504</td><td>-1.0</td><td>-1</td><td>NSA</td><td>sdss</td><td>4</td><td></td><td></td><td>SDSS+NSA</td><td>-99.0</td><td>0.0</td><td>0.0</td></tr>\n",
       "<tr><td>1237657607497318756</td><td>123.243173206</td><td>36.198359966</td><td>3</td><td>GALAXY</td><td>35221147877464</td><td>0</td><td>0</td><td>0</td><td>268435456</td><td>0</td><td>17.0102</td><td>15.9737</td><td>15.5962</td><td>15.3805</td><td>15.2124</td><td>0.0149297</td><td>0.00303814</td><td>0.00303846</td><td>0.00452418</td><td>0.00876429</td><td>0.0168938</td><td>0.00411193</td><td>0.0041772</td><td>0.00657538</td><td>0.0201789</td><td>0.359776</td><td>0.26472</td><td>0.191997</td><td>0.145585</td><td>0.103222</td><td>16.7781</td><td>15.8109</td><td>15.4825</td><td>15.3434</td><td>15.283</td><td>11.9335</td><td>12.3445</td><td>12.5388</td><td>12.3528</td><td>11.26</td><td>0.747773</td><td>0.509558</td><td>0.506007</td><td>0.457721</td><td>0.504848</td><td>22.3252</td><td>1.59252</td><td>19.8711</td><td>0.266748</td><td>22.5553</td><td>0.383635</td><td>19.2597</td><td>0.362845</td><td>19.9295</td><td>1.21126</td><td>0.356391</td><td>0.449938</td><td>0.455954</td><td>0.499809</td><td>0.448981</td><td>17.2644</td><td>0.0167353</td><td>16.1089</td><td>0.00410651</td><td>15.6745</td><td>0.0041772</td><td>15.4842</td><td>0.00656445</td><td>15.403</td><td>0.0201486</td><td>20.2841</td><td>0.0501853</td><td>19.2806</td><td>0.0174014</td><td>19.0122</td><td>0.0335117</td><td>19.2813</td><td>0.0261314</td><td>18.9874</td><td>0.0393772</td><td>19.9874</td><td>0.0368224</td><td>18.988</td><td>0.00837371</td><td>18.669</td><td>0.00870647</td><td>18.4646</td><td>0.0103734</td><td>18.315</td><td>0.0273005</td><td>0.0</td><td>0.0</td><td>0.0</td><td>0.0</td><td>0.0</td><td>-0.099913</td><td>-0.127407</td><td>-0.090796</td><td>-0.116202</td><td>-0.0781184</td><td>-0.0959727</td><td>-0.0678528</td><td>-0.0927406</td><td>-0.0646098</td><td>-0.0855914</td><td>0.352588</td><td>7.3933</td><td>76.4076</td><td>0.426767</td><td>7.66431</td><td>80.3409</td><td>0.432268</td><td>8.11663</td><td>79.4671</td><td>0.482528</td><td>7.8065</td><td>80.363</td><td>0.449453</td><td>7.71702</td><td>81.7983</td><td>19.5017</td><td>0.0126292</td><td>15.6745</td><td>0.0041772</td><td>6.54693</td><td>16.1428</td><td>15.6621</td><td>21.6718595532</td><td>21.5052126839</td><td>15.604</td><td>9999.0</td><td>15.026</td><td>9999.0</td><td>15.257</td><td>0.168</td><td>sdss</td><td>0.00830376</td><td>6.30124e-06</td><td>0</td><td>0.013712</td><td>0.007986</td><td>-1.0</td><td>-1.0</td><td>-1.0</td><td>-1.0</td><td>123.241350605</td><td>36.2546358801</td><td>37.7379264832</td><td>2469.69848633</td><td>-23.4569367617</td><td>-21.2786442751</td><td>-20.5611395172</td><td>33446</td><td>33446</td><td>2543</td><td>3.38160374217</td><td>37.1216093989</td><td>33445</td><td>1</td><td>0.638412701658</td><td>-1.0</td><td>-1</td><td>NSA</td><td>sdss</td><td>4</td><td></td><td>1.2376576075e+18</td><td>SDSS+NSA</td><td>-99.0</td><td>16.3851947784</td><td>0.566546261311</td></tr>\n",
       "<tr><td>1237657607497515484</td><td>123.649897556</td><td>36.4343553979</td><td>3</td><td>GALAXY</td><td>35219000397912</td><td>0</td><td>0</td><td>0</td><td>268435456</td><td>0</td><td>17.6626</td><td>16.9239</td><td>16.5202</td><td>16.3665</td><td>16.3185</td><td>0.0455763</td><td>0.00937477</td><td>0.0104596</td><td>0.0156836</td><td>0.0379105</td><td>0.0445142</td><td>0.0108243</td><td>0.0107398</td><td>0.0126143</td><td>0.0407962</td><td>0.285853</td><td>0.210328</td><td>0.152547</td><td>0.115672</td><td>0.0820128</td><td>18.2104</td><td>17.504</td><td>17.1596</td><td>17.0493</td><td>16.9558</td><td>11.4262</td><td>12.2075</td><td>12.9355</td><td>12.6973</td><td>12.6384</td><td>2.739</td><td>1.25131</td><td>1.29702</td><td>0.645978</td><td>1.49627</td><td>21.6314</td><td>4.00815</td><td>21.3209</td><td>0.987101</td><td>23.818</td><td>1.0741</td><td>26.588</td><td>1.4568</td><td>26.4563</td><td>4.66992</td><td>0.349964</td><td>0.381352</td><td>0.423702</td><td>0.428574</td><td>0.459274</td><td>18.058</td><td>0.0447614</td><td>17.6139</td><td>0.0112459</td><td>17.1619</td><td>0.0112734</td><td>17.0445</td><td>0.013078</td><td>16.9674</td><td>0.0413383</td><td>21.0901</td><td>0.0906867</td><td>20.4688</td><td>0.031174</td><td>20.341</td><td>0.0556895</td><td>20.3394</td><td>0.16922</td><td>20.2464</td><td>0.242179</td><td>21.1363</td><td>0.0807739</td><td>20.3599</td><td>0.0263112</td><td>19.9941</td><td>0.0461221</td><td>19.9514</td><td>0.142904</td><td>19.8772</td><td>0.230886</td><td>0.69824</td><td>0.175011</td><td>0.159932</td><td>0.0717808</td><td>0.0241759</td><td>0.39012</td><td>0.0510213</td><td>0.274547</td><td>0.0114167</td><td>0.242638</td><td>0.00287352</td><td>0.244007</td><td>-0.00444624</td><td>0.139981</td><td>-0.0289948</td><td>0.362422</td><td>7.09198</td><td>128.95</td><td>0.415298</td><td>7.29842</td><td>123.724</td><td>0.456505</td><td>7.37626</td><td>122.734</td><td>0.464873</td><td>7.66787</td><td>122.621</td><td>0.530588</td><td>7.15116</td><td>125.609</td><td>20.7296</td><td>0.0569446</td><td>17.3121</td><td>0.0107398</td><td>12.7976</td><td>35.2537</td><td>17.3092</td><td>24.0513088027</td><td>23.020403753</td><td>9999.0</td><td>9999.0</td><td>9999.0</td><td>9999.0</td><td>9999.0</td><td>9999.0</td><td>sdss</td><td>0.00821139</td><td>8.11993e-06</td><td>0</td><td>0.015452</td><td>0.006704</td><td>-1.0</td><td>-1.0</td><td>-1.0</td><td>-1.0</td><td>123.241350605</td><td>36.2546358801</td><td>37.7379264832</td><td>2469.69848633</td><td>-23.4569367617</td><td>-21.2786442751</td><td>-20.5611395172</td><td>33446</td><td>33446</td><td>2543</td><td>22.4956774869</td><td>246.9449384</td><td>33448</td><td>1</td><td>0.673408280977</td><td>-1.0</td><td>-1</td><td>NSA</td><td>sdss</td><td>4</td><td></td><td>1.2376576075e+18</td><td>SDSS+NSA</td><td>-99.0</td><td>36.2241401672</td><td>2.03956627846</td></tr>\n",
       "<tr><td>1237658310795591687</td><td>193.681402422</td><td>58.776488573</td><td>3</td><td>GALAXY</td><td>1161189774200848</td><td>1</td><td>0</td><td>0</td><td>268435456</td><td>0</td><td>15.3383</td><td>14.2577</td><td>13.7301</td><td>13.4802</td><td>13.2264</td><td>0.00531298</td><td>0.00117809</td><td>0.00105314</td><td>0.00223073</td><td>0.00249419</td><td>0.00584177</td><td>0.00239732</td><td>0.00218882</td><td>0.00224412</td><td>0.00359698</td><td>0.0465629</td><td>0.0342605</td><td>0.0248486</td><td>0.0188419</td><td>0.0133592</td><td>15.4861</td><td>14.4788</td><td>13.8948</td><td>13.6118</td><td>13.3422</td><td>25.8569</td><td>25.3554</td><td>24.8091</td><td>24.6588</td><td>21.8471</td><td>3.71087</td><td>3.85666</td><td>4.25528</td><td>4.24202</td><td>3.50113</td><td>29.6733</td><td>0.244515</td><td>29.6642</td><td>0.361917</td><td>29.6647</td><td>0.260606</td><td>29.6731</td><td>0.133411</td><td>29.6802</td><td>0.250315</td><td>0.267166</td><td>0.250133</td><td>0.251118</td><td>0.257865</td><td>0.250512</td><td>15.496</td><td>0.00578574</td><td>14.5116</td><td>0.00239559</td><td>13.9149</td><td>0.00219917</td><td>13.6139</td><td>0.00225647</td><td>13.3246</td><td>0.00360768</td><td>19.1159</td><td>0.030984</td><td>17.9277</td><td>0.0179099</td><td>17.2595</td><td>0.0179012</td><td>16.9059</td><td>0.0112818</td><td>16.7865</td><td>0.0212477</td><td>19.3374</td><td>0.0211653</td><td>18.1142</td><td>0.00502271</td><td>17.4513</td><td>0.00383558</td><td>17.0964</td><td>0.00394633</td><td>16.7622</td><td>0.00779663</td><td>0.0</td><td>0.0</td><td>0.0625958</td><td>0.107085</td><td>0.0898007</td><td>-0.0961777</td><td>0.0627406</td><td>-0.0977185</td><td>0.0728041</td><td>-0.0947371</td><td>0.0750529</td><td>-0.0961925</td><td>0.0741838</td><td>-0.0857836</td><td>0.0845554</td><td>0.199966</td><td>16.1698</td><td>59.4915</td><td>0.195793</td><td>15.8797</td><td>61.5641</td><td>0.196769</td><td>15.8786</td><td>61.7066</td><td>0.194595</td><td>15.8804</td><td>61.2845</td><td>0.190627</td><td>15.9473</td><td>60.0688</td><td>18.2233</td><td>0.00543039</td><td>13.9197</td><td>0.00218882</td><td>11.9244</td><td>29.6215</td><td>13.7505</td><td>21.1077715393</td><td>20.9825751698</td><td>13.895</td><td>9999.0</td><td>13.722</td><td>0.134</td><td>12.607</td><td>9999.0</td><td>boss</td><td>0.00838915</td><td>1.26961e-05</td><td>0</td><td>0.019423</td><td>0.006037</td><td>-1.0</td><td>-1.0</td><td>-1.0</td><td>-1.0</td><td>193.84130214</td><td>58.3441767226</td><td>38.4771194458</td><td>2490.63647461</td><td>-23.8605995496</td><td>-21.3065832828</td><td>-20.5922984671</td><td>52773</td><td></td><td></td><td>26.4123791929</td><td>295.618711483</td><td>142510</td><td>1</td><td>0.72734780837</td><td>-1.0</td><td>-1</td><td>NSA</td><td>ned</td><td>4</td><td></td><td>1.2376583108e+18</td><td>SDSS+NSA</td><td>-99.0</td><td>0.0</td><td>0.0</td></tr>\n",
       "<tr><td>...</td><td>...</td><td>...</td><td>...</td><td>...</td><td>...</td><td>...</td><td>...</td><td>...</td><td>...</td><td>...</td><td>...</td><td>...</td><td>...</td><td>...</td><td>...</td><td>...</td><td>...</td><td>...</td><td>...</td><td>...</td><td>...</td><td>...</td><td>...</td><td>...</td><td>...</td><td>...</td><td>...</td><td>...</td><td>...</td><td>...</td><td>...</td><td>...</td><td>...</td><td>...</td><td>...</td><td>...</td><td>...</td><td>...</td><td>...</td><td>...</td><td>...</td><td>...</td><td>...</td><td>...</td><td>...</td><td>...</td><td>...</td><td>...</td><td>...</td><td>...</td><td>...</td><td>...</td><td>...</td><td>...</td><td>...</td><td>...</td><td>...</td><td>...</td><td>...</td><td>...</td><td>...</td><td>...</td><td>...</td><td>...</td><td>...</td><td>...</td><td>...</td><td>...</td><td>...</td><td>...</td><td>...</td><td>...</td><td>...</td><td>...</td><td>...</td><td>...</td><td>...</td><td>...</td><td>...</td><td>...</td><td>...</td><td>...</td><td>...</td><td>...</td><td>...</td><td>...</td><td>...</td><td>...</td><td>...</td><td>...</td><td>...</td><td>...</td><td>...</td><td>...</td><td>...</td><td>...</td><td>...</td><td>...</td><td>...</td><td>...</td><td>...</td><td>...</td><td>...</td><td>...</td><td>...</td><td>...</td><td>...</td><td>...</td><td>...</td><td>...</td><td>...</td><td>...</td><td>...</td><td>...</td><td>...</td><td>...</td><td>...</td><td>...</td><td>...</td><td>...</td><td>...</td><td>...</td><td>...</td><td>...</td><td>...</td><td>...</td><td>...</td><td>...</td><td>...</td><td>...</td><td>...</td><td>...</td><td>...</td><td>...</td><td>...</td><td>...</td><td>...</td><td>...</td><td>...</td><td>...</td><td>...</td><td>...</td><td>...</td><td>...</td><td>...</td><td>...</td><td>...</td><td>...</td><td>...</td><td>...</td><td>...</td><td>...</td><td>...</td><td>...</td><td>...</td><td>...</td><td>...</td><td>...</td><td>...</td><td>...</td><td>...</td><td>...</td><td>...</td><td>...</td><td>...</td><td>...</td><td>...</td><td>...</td><td>...</td><td>...</td><td>...</td></tr>\n",
       "<tr><td>1237654879127666883</td><td>217.818940474</td><td>3.25673766255</td><td>3</td><td>GALAXY</td><td>1161153266978832</td><td>1</td><td>0</td><td>0</td><td>268435456</td><td>0</td><td>17.1792</td><td>15.9429</td><td>15.3802</td><td>15.0792</td><td>14.9292</td><td>0.0286728</td><td>0.00504295</td><td>0.00540028</td><td>0.00493379</td><td>0.0122158</td><td>0.028214</td><td>0.00512472</td><td>0.00438309</td><td>0.00479693</td><td>0.01333</td><td>0.150731</td><td>0.110906</td><td>0.0804384</td><td>0.060994</td><td>0.0432455</td><td>17.5025</td><td>16.2675</td><td>15.7078</td><td>15.424</td><td>15.2803</td><td>25.179</td><td>18.5716</td><td>19.2016</td><td>19.0314</td><td>16.6055</td><td>3.15986</td><td>0.337461</td><td>0.430642</td><td>0.346645</td><td>0.548807</td><td>26.8228</td><td>3.14649</td><td>25.0945</td><td>0.462225</td><td>28.9271</td><td>0.559126</td><td>29.6743</td><td>0.384796</td><td>29.6733</td><td>1.01511</td><td>0.661583</td><td>0.674335</td><td>0.660879</td><td>0.670551</td><td>0.615085</td><td>17.2062</td><td>0.0291629</td><td>16.2904</td><td>0.00539309</td><td>15.624</td><td>0.00461982</td><td>15.3479</td><td>0.00502172</td><td>15.286</td><td>0.0138913</td><td>20.4611</td><td>0.057073</td><td>19.6818</td><td>0.0187247</td><td>19.1307</td><td>0.0192573</td><td>18.9063</td><td>0.0191626</td><td>18.7344</td><td>0.0393412</td><td>20.723</td><td>0.0573679</td><td>19.5587</td><td>0.0117399</td><td>19.0513</td><td>0.0108172</td><td>18.8337</td><td>0.012384</td><td>18.6388</td><td>0.0329186</td><td>0.566902</td><td>0.186902</td><td>0.172664</td><td>0.124631</td><td>0.0907793</td><td>-0.0736541</td><td>-0.026726</td><td>-0.0959799</td><td>-0.0242822</td><td>-0.0925725</td><td>-0.0268028</td><td>-0.100401</td><td>-0.0217422</td><td>-0.127182</td><td>-0.0175324</td><td>0.637515</td><td>8.58701</td><td>122.026</td><td>0.688924</td><td>8.13237</td><td>115.355</td><td>0.666286</td><td>8.9452</td><td>115.865</td><td>0.670913</td><td>9.07377</td><td>114.635</td><td>0.627801</td><td>8.69436</td><td>116.321</td><td>19.8383</td><td>0.0149506</td><td>15.7882</td><td>0.00438309</td><td>11.8564</td><td>33.9825</td><td>15.7403</td><td>22.745416051</td><td>22.3263749318</td><td>9999.0</td><td>9999.0</td><td>9999.0</td><td>9999.0</td><td>9999.0</td><td>9999.0</td><td>sdss</td><td>0.00506237</td><td>2.23035e-05</td><td>0</td><td>0.030987</td><td>0.011544</td><td>-1.0</td><td>-1.0</td><td>-1.0</td><td>-1.0</td><td>217.418221981</td><td>3.23331276841</td><td>24.9139499664</td><td>1622.00256348</td><td>-23.72792848</td><td>-20.9902593754</td><td>-20.2234829752</td><td>165082</td><td></td><td></td><td>24.0430017847</td><td>174.242403586</td><td>18025</td><td>1</td><td>0.617223781917</td><td>-1.0</td><td>-1</td><td>NSA</td><td>sdss</td><td>4</td><td></td><td>1.23765487913e+18</td><td>SDSS+NSA</td><td>-99.0</td><td>6.0990562439</td><td>0.716566503048</td></tr>\n",
       "<tr><td>1237655369832267945</td><td>217.94533575</td><td>58.0087096127</td><td>3</td><td>GALAXY</td><td>193617394274392</td><td>0</td><td>0</td><td>0</td><td>268435456</td><td>0</td><td>16.9431</td><td>15.8456</td><td>15.3844</td><td>15.1581</td><td>15.007</td><td>0.029921</td><td>0.00384011</td><td>0.0037566</td><td>0.0175066</td><td>0.0171543</td><td>0.0222966</td><td>0.00448064</td><td>0.00444744</td><td>0.00579007</td><td>0.0181076</td><td>0.0545957</td><td>0.040171</td><td>0.0291354</td><td>0.0220925</td><td>0.0156638</td><td>17.4537</td><td>16.2423</td><td>15.7784</td><td>15.56</td><td>15.4076</td><td>17.6822</td><td>16.4561</td><td>17.0361</td><td>17.4601</td><td>14.5501</td><td>4.23944</td><td>0.712906</td><td>0.87078</td><td>0.709129</td><td>0.681601</td><td>29.6653</td><td>3.37899</td><td>29.6624</td><td>0.649263</td><td>29.6634</td><td>0.662435</td><td>29.6704</td><td>0.816306</td><td>29.6697</td><td>1.34272</td><td>0.417996</td><td>0.458523</td><td>0.502005</td><td>0.522656</td><td>0.455553</td><td>17.4405</td><td>0.0233947</td><td>16.2283</td><td>0.00460892</td><td>15.7429</td><td>0.00457053</td><td>15.5172</td><td>0.00590213</td><td>15.4561</td><td>0.0180968</td><td>20.4419</td><td>0.0519092</td><td>19.525</td><td>0.0237949</td><td>19.076</td><td>0.0189971</td><td>19.0009</td><td>0.0243701</td><td>18.7541</td><td>0.0539807</td><td>20.6442</td><td>0.0530855</td><td>19.5373</td><td>0.0111511</td><td>19.1165</td><td>0.0106199</td><td>18.9296</td><td>0.0145816</td><td>18.7006</td><td>0.0445885</td><td>0.178629</td><td>0.0841764</td><td>0.0762156</td><td>0.0500963</td><td>0.0</td><td>0.218122</td><td>-0.0402224</td><td>0.192776</td><td>-0.040409</td><td>0.182827</td><td>-0.0356188</td><td>0.170378</td><td>-0.0315868</td><td>0.209678</td><td>-0.0367132</td><td>0.439044</td><td>9.2111</td><td>192.164</td><td>0.490161</td><td>9.63764</td><td>193.227</td><td>0.519688</td><td>9.58259</td><td>193.389</td><td>0.525929</td><td>9.80462</td><td>192.961</td><td>0.494661</td><td>9.47722</td><td>191.421</td><td>19.9402</td><td>0.0153148</td><td>15.8075</td><td>0.00444744</td><td>15.7841</td><td>53.7135</td><td>15.7927</td><td>23.3709365802</td><td>22.2107608668</td><td>9999.0</td><td>9999.0</td><td>9999.0</td><td>9999.0</td><td>9999.0</td><td>9999.0</td><td>sdss</td><td>0.00611507</td><td>1.2363e-05</td><td>0</td><td>0.024297</td><td>0.008166</td><td>-1.0</td><td>-1.0</td><td>-1.0</td><td>-1.0</td><td>218.023327874</td><td>57.9214670755</td><td>31.0084629059</td><td>1898.39074707</td><td>-24.167001517</td><td>-21.4439518351</td><td>-20.7176184494</td><td>165153</td><td></td><td></td><td>5.78616609509</td><td>52.1911717111</td><td>28287</td><td>1</td><td>0.639401594006</td><td>-1.0</td><td>-1</td><td>NSA</td><td>sdss</td><td>4</td><td></td><td>1.23765536983e+18</td><td>SDSS+NSA</td><td>-99.0</td><td>8.07443714142</td><td>0.690588712692</td></tr>\n",
       "<tr><td>1237661386533175309</td><td>219.969004509</td><td>51.4346141811</td><td>3</td><td>GALAXY</td><td>105622104309848</td><td>0</td><td>0</td><td>0</td><td>268435456</td><td>0</td><td>17.6419</td><td>16.594</td><td>16.2219</td><td>16.0006</td><td>15.909</td><td>0.0228516</td><td>0.00394549</td><td>0.00406594</td><td>0.0180674</td><td>0.0119827</td><td>0.0211033</td><td>0.00500522</td><td>0.0072348</td><td>0.00632027</td><td>0.0173404</td><td>0.0735295</td><td>0.0541023</td><td>0.0392395</td><td>0.0297541</td><td>0.0210961</td><td>17.669</td><td>16.6136</td><td>16.2818</td><td>16.0895</td><td>15.9703</td><td>8.47011</td><td>10.1434</td><td>8.69926</td><td>9.67301</td><td>9.10431</td><td>1.56911</td><td>5.80283</td><td>5.02639</td><td>5.40042</td><td>5.09581</td><td>15.7486</td><td>1.23233</td><td>16.5922</td><td>0.314533</td><td>14.0542</td><td>0.385947</td><td>15.8604</td><td>0.326024</td><td>16.2323</td><td>1.05794</td><td>0.256759</td><td>0.275968</td><td>0.301889</td><td>0.326158</td><td>0.327402</td><td>17.7349</td><td>0.0210929</td><td>16.5806</td><td>0.00503907</td><td>16.3207</td><td>0.00723598</td><td>16.0561</td><td>0.00642962</td><td>15.9897</td><td>0.0177835</td><td>20.2261</td><td>0.0913924</td><td>19.1338</td><td>0.227704</td><td>19.0215</td><td>0.593719</td><td>18.9178</td><td>0.61427</td><td>18.7016</td><td>0.553493</td><td>20.0529</td><td>0.0877576</td><td>19.0176</td><td>0.220008</td><td>18.6161</td><td>0.470989</td><td>18.4084</td><td>0.458573</td><td>18.2925</td><td>0.467328</td><td>0.0</td><td>0.0390057</td><td>0.000765389</td><td>0.0704905</td><td>0.0</td><td>-0.357335</td><td>-0.0154293</td><td>-0.369466</td><td>-0.0413106</td><td>-0.37124</td><td>-0.04472</td><td>-0.329478</td><td>-0.0360798</td><td>-0.315916</td><td>-0.0366128</td><td>0.300004</td><td>6.27787</td><td>124.017</td><td>0.302423</td><td>6.74232</td><td>123.586</td><td>0.33638</td><td>5.89532</td><td>124.819</td><td>0.356755</td><td>5.92325</td><td>124.286</td><td>0.353088</td><td>5.81414</td><td>125.127</td><td>19.4026</td><td>0.635796</td><td>16.321</td><td>0.00723479</td><td>4.66488</td><td>12.6267</td><td>16.3277</td><td>21.5615203838</td><td>21.3636059276</td><td>16.501</td><td>0.164</td><td>15.17</td><td>9999.0</td><td>14.827</td><td>9999.0</td><td>sdss</td><td>0.00733604</td><td>9.07693e-06</td><td>0</td><td>0.029898</td><td>0.007703</td><td>-1.0</td><td>-1.0</td><td>-1.0</td><td>-1.0</td><td>219.378245591</td><td>51.5619057983</td><td>33.5779571533</td><td>2184.16748047</td><td>-23.1846724669</td><td>-20.5035363142</td><td>-19.6257772249</td><td>165316</td><td></td><td></td><td>23.3504753009</td><td>228.072421412</td><td>53402</td><td>1</td><td>0.566610702571</td><td>-1.0</td><td>-1</td><td>NSA</td><td>sdss</td><td>4</td><td></td><td>1.23766138653e+18</td><td>SDSS+NSA</td><td>-99.0</td><td>14.6017227173</td><td>0.802008509636</td></tr>\n",
       "<tr><td>1237661416603975998</td><td>219.422236629</td><td>51.4573597124</td><td>3</td><td>GALAXY</td><td>1161118907240792</td><td>0</td><td>0</td><td>0</td><td>268435456</td><td>0</td><td>18.2185</td><td>17.362</td><td>17.0581</td><td>16.7373</td><td>17.1395</td><td>0.0661197</td><td>0.00922372</td><td>0.0257468</td><td>0.0157318</td><td>0.0737486</td><td>0.0516653</td><td>0.0119501</td><td>0.0119401</td><td>0.0204845</td><td>0.0658386</td><td>0.0593883</td><td>0.0436974</td><td>0.031693</td><td>0.0240318</td><td>0.0170389</td><td>18.3433</td><td>17.3623</td><td>17.091</td><td>16.9813</td><td>17.0313</td><td>27.9202</td><td>14.7743</td><td>14.0185</td><td>13.9105</td><td>12.3449</td><td>-1000.0</td><td>0.745001</td><td>0.918336</td><td>0.632386</td><td>7.03076</td><td>24.8521</td><td>5.1198</td><td>29.67</td><td>0.605304</td><td>29.6674</td><td>2.17118</td><td>29.67</td><td>2.56336</td><td>29.6737</td><td>3.71673</td><td>0.450017</td><td>0.452521</td><td>0.426134</td><td>0.463031</td><td>0.359644</td><td>18.1542</td><td>0.053245</td><td>17.3674</td><td>0.0119238</td><td>17.1227</td><td>0.0119401</td><td>16.9983</td><td>0.0204721</td><td>17.1926</td><td>0.06549</td><td>20.9214</td><td>0.0782221</td><td>21.0013</td><td>0.0348452</td><td>20.7192</td><td>0.0374862</td><td>20.6595</td><td>0.0554374</td><td>20.2197</td><td>0.134008</td><td>21.8376</td><td>0.158515</td><td>20.8963</td><td>0.0297843</td><td>20.5136</td><td>0.0314866</td><td>20.3904</td><td>0.047907</td><td>20.2204</td><td>0.125176</td><td>0.470677</td><td>0.0</td><td>0.0</td><td>0.0</td><td>0.0</td><td>-0.0444235</td><td>-0.110984</td><td>-0.0699825</td><td>-0.0814082</td><td>-0.0870474</td><td>-0.0760725</td><td>-0.0804063</td><td>-0.0724967</td><td>-0.133558</td><td>-0.0743927</td><td>0.5</td><td>8.29469</td><td>163.296</td><td>0.466608</td><td>10.2322</td><td>153.782</td><td>0.42386</td><td>10.2323</td><td>152.151</td><td>0.462533</td><td>9.80962</td><td>152.216</td><td>0.400112</td><td>8.99078</td><td>156.244</td><td>21.2922</td><td>0.0412377</td><td>17.1227</td><td>0.0119401</td><td>8.21478</td><td>21.2406</td><td>17.2643</td><td>23.626482137</td><td>23.2337182696</td><td>9999.0</td><td>9999.0</td><td>9999.0</td><td>9999.0</td><td>9999.0</td><td>9999.0</td><td>sdss</td><td>0.00692239</td><td>1.48419e-05</td><td>0</td><td>0.02227</td><td>0.012131</td><td>-1.0</td><td>-1.0</td><td>-1.0</td><td>-1.0</td><td>219.378245591</td><td>51.5619057983</td><td>33.5779571533</td><td>2184.16748047</td><td>-23.1846724669</td><td>-20.5035363142</td><td>-19.6257772249</td><td>165316</td><td></td><td></td><td>6.4844230643</td><td>63.3361225307</td><td>53405</td><td>1</td><td>0.627598847146</td><td>-1.0</td><td>-1</td><td>NSA</td><td>sdss</td><td>4</td><td></td><td>1.2376614166e+18</td><td>SDSS+NSA</td><td>-99.0</td><td>19.5342693329</td><td>2.58787894249</td></tr>\n",
       "<tr><td>1237661385996304558</td><td>219.746469375</td><td>51.1207294493</td><td>3</td><td>GALAXY</td><td>1161118907240464</td><td>1</td><td>0</td><td>0</td><td>268435456</td><td>0</td><td>16.2739</td><td>14.9401</td><td>14.1672</td><td>13.7726</td><td>13.4781</td><td>0.0158723</td><td>0.00386341</td><td>0.00150707</td><td>0.00144601</td><td>0.00392446</td><td>0.01229</td><td>0.00299554</td><td>0.0025278</td><td>0.00250468</td><td>0.0043339</td><td>0.0918041</td><td>0.0675486</td><td>0.0489919</td><td>0.037149</td><td>0.0263391</td><td>16.3013</td><td>14.93</td><td>14.2152</td><td>13.8339</td><td>13.5704</td><td>32.5007</td><td>28.6351</td><td>27.3927</td><td>27.5291</td><td>23.6354</td><td>10.7959</td><td>6.69078</td><td>6.78224</td><td>6.6706</td><td>5.61223</td><td>29.6707</td><td>1.32139</td><td>29.6668</td><td>0.689916</td><td>29.6683</td><td>0.390709</td><td>29.6704</td><td>0.344739</td><td>29.6757</td><td>0.327495</td><td>0.310805</td><td>0.272998</td><td>0.290023</td><td>0.292361</td><td>0.221219</td><td>16.2047</td><td>0.0122126</td><td>14.9456</td><td>0.00301529</td><td>14.2451</td><td>0.00255124</td><td>13.8566</td><td>0.00252822</td><td>13.6261</td><td>0.00438636</td><td>20.2391</td><td>0.0426739</td><td>18.6957</td><td>0.0204522</td><td>18.1611</td><td>0.0121724</td><td>17.7114</td><td>0.0190451</td><td>17.2968</td><td>0.0222477</td><td>20.0652</td><td>0.0341115</td><td>18.5716</td><td>0.00643389</td><td>17.7882</td><td>0.00489462</td><td>17.3732</td><td>0.00458956</td><td>17.0529</td><td>0.00949204</td><td>0.0330692</td><td>0.128521</td><td>0.188184</td><td>0.232002</td><td>0.205618</td><td>-0.247824</td><td>0.049361</td><td>-0.23869</td><td>0.0549395</td><td>-0.245208</td><td>0.0599471</td><td>-0.23527</td><td>0.0582414</td><td>-0.245678</td><td>0.0603007</td><td>0.16326</td><td>23.2964</td><td>88.297</td><td>0.175382</td><td>19.5681</td><td>88.4036</td><td>0.179135</td><td>18.2818</td><td>88.4124</td><td>0.179559</td><td>17.8477</td><td>88.4096</td><td>0.173328</td><td>16.8425</td><td>88.3188</td><td>18.5611</td><td>0.00687529</td><td>14.2642</td><td>0.0025278</td><td>12.6992</td><td>35.3715</td><td>14.2464</td><td>21.681554822</td><td>21.5645481146</td><td>15.001</td><td>0.093</td><td>13.393</td><td>9999.0</td><td>13.186</td><td>9999.0</td><td>sdss</td><td>0.00734741</td><td>1.90168e-05</td><td>0</td><td>0.031587</td><td>0.010282</td><td>-1.0</td><td>-1.0</td><td>-1.0</td><td>-1.0</td><td>219.378245591</td><td>51.5619057983</td><td>33.5779571533</td><td>2184.16748047</td><td>-23.1846724669</td><td>-20.5035363142</td><td>-19.6257772249</td><td>165316</td><td></td><td></td><td>29.8548609444</td><td>291.601652952</td><td>53401</td><td>1</td><td>0.664789585763</td><td>-1.0</td><td>-1</td><td>NSA</td><td>sdss</td><td>4</td><td></td><td>1.237661386e+18</td><td>SDSS+NSA</td><td>-99.0</td><td>4.18224000931</td><td>0.397005200386</td></tr>\n",
       "<tr><td>1237661416603910425</td><td>219.190054522</td><td>51.4603182194</td><td>3</td><td>GALAXY</td><td>35219000397912</td><td>0</td><td>0</td><td>0</td><td>268435456</td><td>0</td><td>16.4842</td><td>15.5695</td><td>15.2115</td><td>14.9816</td><td>14.9091</td><td>0.0190174</td><td>0.00338852</td><td>0.00335294</td><td>0.00866088</td><td>0.0129808</td><td>0.0148548</td><td>0.00353067</td><td>0.00427982</td><td>0.00567</td><td>0.0149917</td><td>0.0553454</td><td>0.0407226</td><td>0.0295354</td><td>0.0223958</td><td>0.0158789</td><td>16.7142</td><td>15.7719</td><td>15.4235</td><td>15.251</td><td>15.1261</td><td>16.5922</td><td>18.5848</td><td>19.2419</td><td>18.0837</td><td>19.0548</td><td>0.916015</td><td>0.462223</td><td>0.502823</td><td>0.209168</td><td>0.854855</td><td>25.769</td><td>1.47312</td><td>23.826</td><td>0.268994</td><td>26.416</td><td>0.408838</td><td>26.142</td><td>0.537933</td><td>29.6733</td><td>1.42819</td><td>0.449978</td><td>0.665655</td><td>0.71787</td><td>0.756545</td><td>0.734676</td><td>16.7927</td><td>0.0152026</td><td>15.7356</td><td>0.00364359</td><td>15.371</td><td>0.00442707</td><td>15.2208</td><td>0.00581058</td><td>15.0899</td><td>0.0153633</td><td>19.7721</td><td>0.0389595</td><td>19.0812</td><td>0.0239487</td><td>19.1432</td><td>0.0227528</td><td>19.0734</td><td>0.0292546</td><td>18.8506</td><td>0.046295</td><td>19.9108</td><td>0.0349197</td><td>19.083</td><td>0.00912351</td><td>18.8289</td><td>0.0120859</td><td>18.6706</td><td>0.0160515</td><td>18.582</td><td>0.0364531</td><td>0.167559</td><td>0.156484</td><td>0.0986585</td><td>0.0613139</td><td>0.0443098</td><td>-0.210879</td><td>-0.0417524</td><td>-0.139909</td><td>-0.0235069</td><td>-0.125238</td><td>-0.0173254</td><td>-0.0948538</td><td>-0.0144265</td><td>-0.10114</td><td>-0.00980445</td><td>0.466432</td><td>8.71964</td><td>120.442</td><td>0.625541</td><td>8.91088</td><td>117.323</td><td>0.683852</td><td>8.97287</td><td>116.9</td><td>0.737528</td><td>8.69893</td><td>114.876</td><td>0.699494</td><td>8.93505</td><td>113.981</td><td>19.6664</td><td>0.0175806</td><td>15.4531</td><td>0.00427982</td><td>10.819</td><td>27.3409</td><td>15.3909</td><td>22.3778688795</td><td>21.963247753</td><td>9999.0</td><td>9999.0</td><td>9999.0</td><td>9999.0</td><td>9999.0</td><td>9999.0</td><td>sdss</td><td>0.0078426</td><td>7.41597e-06</td><td>0</td><td>0.02144</td><td>0.007168</td><td>-1.0</td><td>-1.0</td><td>-1.0</td><td>-1.0</td><td>219.378245591</td><td>51.5619057983</td><td>33.5779571533</td><td>2184.16748047</td><td>-23.1846724669</td><td>-20.5035363142</td><td>-19.6257772249</td><td>165316</td><td></td><td></td><td>9.30447865648</td><td>90.8807498189</td><td>53422</td><td>1</td><td>0.682822370786</td><td>-1.0</td><td>-1</td><td>NSA</td><td>sdss</td><td>4</td><td></td><td>1.2376614166e+18</td><td>SDSS+NSA</td><td>-99.0</td><td>0.0</td><td>0.0</td></tr>\n",
       "<tr><td>1237648721248845970</td><td>221.316115836</td><td>-0.159937082521</td><td>3</td><td>GALAXY</td><td>105587744575576</td><td>0</td><td>0</td><td>0</td><td>268435456</td><td>0</td><td>16.5779</td><td>15.4534</td><td>14.9999</td><td>14.748</td><td>14.6104</td><td>0.0132031</td><td>0.00307767</td><td>0.00244978</td><td>0.00311895</td><td>0.00910513</td><td>0.0146661</td><td>0.00419994</td><td>0.00439184</td><td>0.00559093</td><td>0.17522</td><td>0.193776</td><td>0.142579</td><td>0.10341</td><td>0.0784126</td><td>0.0555955</td><td>16.603</td><td>15.4781</td><td>15.0073</td><td>14.8393</td><td>15.5281</td><td>14.8841</td><td>15.0175</td><td>17.0154</td><td>15.7295</td><td>13.1781</td><td>0.566606</td><td>0.415441</td><td>0.441515</td><td>0.367411</td><td>0.347179</td><td>23.8172</td><td>1.15182</td><td>25.356</td><td>0.350364</td><td>29.6632</td><td>0.529713</td><td>29.6622</td><td>0.69457</td><td>13.5356</td><td>9.47236</td><td>0.715968</td><td>0.629328</td><td>0.64502</td><td>0.59692</td><td>0.422398</td><td>16.8917</td><td>0.0149555</td><td>15.6725</td><td>0.00417691</td><td>15.1107</td><td>0.00439184</td><td>14.938</td><td>0.00558602</td><td>15.4109</td><td>0.253963</td><td>20.394</td><td>0.0570104</td><td>19.6403</td><td>0.0194839</td><td>19.4335</td><td>0.0209814</td><td>19.1559</td><td>0.0217439</td><td>19.2875</td><td>0.0562016</td><td>20.1335</td><td>0.0347685</td><td>19.1235</td><td>0.00861023</td><td>18.7472</td><td>0.00822442</td><td>18.5638</td><td>0.0100939</td><td>18.4445</td><td>0.0323903</td><td>0.08505</td><td>0.0</td><td>0.0</td><td>0.0</td><td>0.0</td><td>0.0433737</td><td>-0.0172328</td><td>0.0648738</td><td>-0.00681728</td><td>0.0495119</td><td>-0.00851707</td><td>0.0577374</td><td>-0.00952559</td><td>0.0486287</td><td>-0.0101198</td><td>0.752951</td><td>7.38484</td><td>146.237</td><td>0.650006</td><td>9.01963</td><td>143.582</td><td>0.653908</td><td>10.0704</td><td>140.209</td><td>0.649841</td><td>9.658</td><td>141.969</td><td>0.605148</td><td>8.21325</td><td>141.068</td><td>19.6061</td><td>0.012202</td><td>15.1107</td><td>0.00439184</td><td>9.56603</td><td>26.3096</td><td>15.1211</td><td>21.8990158424</td><td>21.6236680132</td><td>9999.0</td><td>9999.0</td><td>9999.0</td><td>9999.0</td><td>9999.0</td><td>9999.0</td><td>sdss</td><td>0.00563</td><td>1.43632e-05</td><td>0</td><td>0.062095</td><td>0.033155</td><td>-1.0</td><td>-1.0</td><td>-1.0</td><td>-1.0</td><td>221.546363418</td><td>-0.222941918742</td><td>25.3928050995</td><td>1659.35534668</td><td>-23.5856057576</td><td>-20.9440133043</td><td>-20.1961595424</td><td>165536</td><td>165536</td><td>5750</td><td>14.3430721256</td><td>105.944330002</td><td>2579</td><td>1</td><td>0.728516178787</td><td>-1.0</td><td>-1</td><td>AAT</td><td>/Spectra/Final/AAT/Dune_1_MG.mz</td><td>4</td><td></td><td>201.0</td><td>AAT+GAMA+SDSS+NSA</td><td>-99.0</td><td>6.01830720901</td><td>0.51613008976</td></tr>\n",
       "<tr><td>1237654399164219640</td><td>222.900268358</td><td>58.9548243013</td><td>3</td><td>GALAXY</td><td>246359626223888</td><td>1</td><td>0</td><td>0</td><td>268435456</td><td>0</td><td>16.2135</td><td>15.1842</td><td>14.7287</td><td>14.4799</td><td>14.4513</td><td>0.0154728</td><td>0.00279794</td><td>0.00767134</td><td>0.00670861</td><td>0.0144831</td><td>0.210223</td><td>0.0882673</td><td>0.121128</td><td>0.342634</td><td>0.959964</td><td>0.0548832</td><td>0.0403825</td><td>0.0292888</td><td>0.0222088</td><td>0.0157463</td><td>21.9276</td><td>21.6504</td><td>21.613</td><td>22.3322</td><td>22.6891</td><td>1.83095</td><td>1.75025</td><td>1.74511</td><td>1.68808</td><td>2.96916</td><td>1.66173</td><td>0.24476</td><td>0.248078</td><td>1.5542</td><td>-1000.0</td><td>0.337506</td><td>2.09944</td><td>0.401679</td><td>0.583806</td><td>0.431972</td><td>0.961352</td><td>0.705991</td><td>3.33649</td><td>0.134463</td><td>73.1454</td><td>0.05</td><td>0.0764256</td><td>0.0824584</td><td>0.176216</td><td>0.258864</td><td>22.001</td><td>0.520797</td><td>21.6971</td><td>0.15291</td><td>21.6421</td><td>0.189304</td><td>22.257</td><td>0.436593</td><td>22.707</td><td>0.922095</td><td>22.1033</td><td>0.293623</td><td>21.837</td><td>0.128953</td><td>21.7961</td><td>0.222059</td><td>22.5285</td><td>0.463727</td><td>22.712</td><td>5.07529</td><td>21.1163</td><td>0.107122</td><td>20.2019</td><td>0.0270996</td><td>19.7614</td><td>0.0320023</td><td>19.5866</td><td>0.0380276</td><td>19.4949</td><td>0.159366</td><td>0.0</td><td>0.0</td><td>0.0</td><td>0.0</td><td>1.0</td><td>-0.0389645</td><td>-0.174367</td><td>-0.0410459</td><td>-0.0748844</td><td>-0.0336627</td><td>-0.0888288</td><td>0.0331918</td><td>-0.108366</td><td>-15.2944</td><td>-24.5698</td><td>0.0629588</td><td>0.531296</td><td>157.596</td><td>0.060991</td><td>0.591963</td><td>160.692</td><td>0.0647532</td><td>0.605801</td><td>162.538</td><td>0.298209</td><td>0.799616</td><td>149.101</td><td>0.356118</td><td>0.0840602</td><td>140.143</td><td>20.6099</td><td>0.0466588</td><td>21.6421</td><td>0.189304</td><td>16.6183</td><td>37.6697</td><td>21.7996</td><td>22.8271031228</td><td>23.6893571698</td><td>9999.0</td><td>9999.0</td><td>9999.0</td><td>9999.0</td><td>9999.0</td><td>9999.0</td><td></td><td>0.00735609</td><td>-1.0</td><td>-1</td><td>-1.0</td><td>-1.0</td><td>-1.0</td><td>-1.0</td><td>-1.0</td><td>-1.0</td><td>222.824206904</td><td>58.9780946511</td><td>33.4977912903</td><td>2142.60766602</td><td>-23.3009066724</td><td>-20.3150782097</td><td>-19.4123293614</td><td>165707</td><td></td><td></td><td>2.72851449044</td><td>26.5869493687</td><td>19647</td><td>1</td><td>-1.0</td><td>-1.0</td><td>-1</td><td>NSA</td><td>sdss</td><td>4</td><td></td><td></td><td>SDSS+NSA</td><td>-99.0</td><td>0.0</td><td>0.0</td></tr>\n",
       "<tr><td>1237665566078402826</td><td>233.787037531</td><td>16.8704375988</td><td>3</td><td>GALAXY</td><td>35255507619856</td><td>1</td><td>0</td><td>0</td><td>268435456</td><td>0</td><td>17.0431</td><td>15.957</td><td>15.531</td><td>15.3251</td><td>15.2011</td><td>0.0523063</td><td>0.00369042</td><td>0.00387899</td><td>0.00559496</td><td>0.0152938</td><td>0.0245222</td><td>0.032043</td><td>0.0117344</td><td>0.0174938</td><td>0.0631772</td><td>0.2423</td><td>0.178282</td><td>0.129305</td><td>0.0980482</td><td>0.0695174</td><td>17.0067</td><td>16.0834</td><td>15.6201</td><td>15.5189</td><td>15.5281</td><td>17.97</td><td>19.171</td><td>18.8152</td><td>17.9914</td><td>16.3511</td><td>0.861229</td><td>0.657451</td><td>0.610941</td><td>0.464012</td><td>0.572605</td><td>29.6659</td><td>3.83181</td><td>19.1207</td><td>1.63408</td><td>29.6635</td><td>1.26729</td><td>29.5521</td><td>2.07357</td><td>29.5319</td><td>8.06556</td><td>0.814723</td><td>0.498891</td><td>0.522315</td><td>0.449782</td><td>0.38877</td><td>17.1638</td><td>0.0244375</td><td>16.2299</td><td>0.0313349</td><td>15.7494</td><td>0.0117344</td><td>15.6486</td><td>0.0173854</td><td>15.6222</td><td>0.0616617</td><td>21.0277</td><td>0.0762207</td><td>20.6851</td><td>0.0273775</td><td>20.5808</td><td>0.0329151</td><td>20.359</td><td>0.0406918</td><td>20.3094</td><td>0.0995726</td><td>20.8808</td><td>0.0687915</td><td>20.1612</td><td>0.0171456</td><td>19.792</td><td>0.018344</td><td>19.6193</td><td>0.0251379</td><td>19.5235</td><td>0.0716609</td><td>0.0</td><td>0.0</td><td>0.0</td><td>0.0</td><td>0.0</td><td>-0.000846283</td><td>0.00930696</td><td>-0.038169</td><td>-0.000383598</td><td>-0.0540185</td><td>-0.00157497</td><td>-0.0603573</td><td>-0.00171284</td><td>-0.0774855</td><td>-0.00411408</td><td>0.599599</td><td>12.5904</td><td>147.871</td><td>0.599976</td><td>10.2795</td><td>144.707</td><td>0.549999</td><td>12.0037</td><td>143.908</td><td>0.599964</td><td>10.4472</td><td>143.947</td><td>0.589558</td><td>10.233</td><td>141.954</td><td>20.6351</td><td>0.0264381</td><td>15.7494</td><td>0.0117344</td><td>11.3908</td><td>29.2844</td><td>15.7627</td><td>22.8092172171</td><td>22.5113834966</td><td>9999.0</td><td>9999.0</td><td>9999.0</td><td>9999.0</td><td>9999.0</td><td>9999.0</td><td>sdss</td><td>0.006671</td><td>7.46778e-06</td><td>0</td><td>0.007259</td><td>0.007794</td><td>-1.0</td><td>-1.0</td><td>-1.0</td><td>-1.0</td><td>234.132011282</td><td>16.6077737961</td><td>28.020401001</td><td>1967.37255859</td><td>-23.7079536397</td><td>-21.1887440467</td><td>-20.5059088315</td><td>166313</td><td>166313</td><td>5962</td><td>25.3602169142</td><td>206.70428907</td><td>124222</td><td>1</td><td>0.770648809036</td><td>-1.0</td><td>-1</td><td>MMT</td><td>/Spectra/Final/MMT/spHect-2014.0530_1.zlog</td><td>4</td><td></td><td>135.0</td><td>AAT+MMT+SDSS+NSA</td><td>-99.0</td><td>0.0</td><td>0.0</td></tr>\n",
       "<tr><td>1237665565541728490</td><td>234.132926177</td><td>16.4404552908</td><td>3</td><td>GALAXY</td><td>105589892059224</td><td>0</td><td>0</td><td>0</td><td>268435456</td><td>0</td><td>16.1647</td><td>14.9855</td><td>14.4259</td><td>14.1387</td><td>13.9433</td><td>0.0158673</td><td>0.00259635</td><td>0.00209654</td><td>0.00186889</td><td>0.00660086</td><td>0.0225006</td><td>0.00533662</td><td>0.00365586</td><td>0.00515775</td><td>0.0165636</td><td>0.265727</td><td>0.19552</td><td>0.141807</td><td>0.107528</td><td>0.0762387</td><td>16.1973</td><td>14.9169</td><td>14.3988</td><td>14.165</td><td>14.0913</td><td>22.802</td><td>26.5905</td><td>26.6271</td><td>25.7355</td><td>24.102</td><td>0.922541</td><td>0.993555</td><td>1.08189</td><td>0.981544</td><td>0.73939</td><td>29.6735</td><td>1.06105</td><td>29.6712</td><td>0.344343</td><td>29.6666</td><td>0.649634</td><td>29.6739</td><td>0.269091</td><td>29.6667</td><td>2.45438</td><td>0.72939</td><td>0.628225</td><td>0.726929</td><td>0.617838</td><td>0.544187</td><td>16.5156</td><td>0.0224544</td><td>15.1144</td><td>0.00533579</td><td>14.5406</td><td>0.00365586</td><td>14.299</td><td>0.00515002</td><td>14.221</td><td>0.0163856</td><td>21.2198</td><td>0.0895723</td><td>20.184</td><td>0.0213354</td><td>19.6587</td><td>0.023881</td><td>19.3987</td><td>0.022902</td><td>19.0766</td><td>0.0414875</td><td>20.9411</td><td>0.0918039</td><td>19.6351</td><td>0.0120631</td><td>19.0204</td><td>0.0106331</td><td>18.7119</td><td>0.0116012</td><td>18.519</td><td>0.0291054</td><td>0.0</td><td>0.0</td><td>0.0</td><td>0.0</td><td>0.0</td><td>0.277716</td><td>-0.0105282</td><td>0.241218</td><td>-0.00404015</td><td>0.237909</td><td>-0.0061111</td><td>0.233472</td><td>-0.00943407</td><td>0.257519</td><td>-0.00772755</td><td>0.449939</td><td>17.3926</td><td>188.744</td><td>0.449997</td><td>18.5222</td><td>186.685</td><td>0.461628</td><td>18.3583</td><td>186.446</td><td>0.46783</td><td>17.2205</td><td>186.139</td><td>0.449999</td><td>16.2165</td><td>187.286</td><td>19.8695</td><td>0.0154952</td><td>14.5406</td><td>0.00365586</td><td>14.2391</td><td>33.0239</td><td>14.6318</td><td>22.1887278239</td><td>22.1073501623</td><td>9999.0</td><td>9999.0</td><td>9999.0</td><td>9999.0</td><td>9999.0</td><td>9999.0</td><td>sdss</td><td>0.0063225</td><td>2.50655e-05</td><td>0</td><td>0.017646</td><td>0.008486</td><td>-1.0</td><td>-1.0</td><td>-1.0</td><td>-1.0</td><td>234.132011282</td><td>16.6077737961</td><td>28.020401001</td><td>1967.37255859</td><td>-23.7079536397</td><td>-21.1887440467</td><td>-20.5059088315</td><td>166313</td><td>166313</td><td>5962</td><td>10.0435758826</td><td>81.8631045647</td><td>166312</td><td>1</td><td>0.754674971471</td><td>-1.0</td><td>-1</td><td>NSA</td><td>sdss</td><td>4</td><td></td><td>1.23766556554e+18</td><td>SDSS+NSA</td><td>-99.0</td><td>4.2713060379</td><td>0.541258990765</td></tr>\n",
       "</table>"
      ],
      "text/plain": [
       "<Table masked=True length=167>\n",
       "       OBJID              RA      ...   SPEC_HA_EW  SPEC_HA_EWERR \n",
       "       int64           float64    ...    float64       float64    \n",
       "------------------- ------------- ... ------------- --------------\n",
       "1237648722289295527 145.320962664 ... 26.0362949371  0.72926735878\n",
       "1237653612647678107  139.49713703 ... 9.95044326782 0.490148693323\n",
       "1237653613184680084  139.44430792 ...           0.0            0.0\n",
       "1237654382515388427 139.189595559 ...  80.882850647  1.08989155293\n",
       "1237654381982777375 154.231241268 ...           0.0            0.0\n",
       "1237655368744632621  155.66592215 ...  43.444606781  1.84664130211\n",
       "1237654381982777687 154.300660995 ...           0.0            0.0\n",
       "1237657607497318756 123.243173206 ... 16.3851947784 0.566546261311\n",
       "1237657607497515484 123.649897556 ... 36.2241401672  2.03956627846\n",
       "1237658310795591687 193.681402422 ...           0.0            0.0\n",
       "                ...           ... ...           ...            ...\n",
       "1237654879127666883 217.818940474 ...  6.0990562439 0.716566503048\n",
       "1237655369832267945  217.94533575 ... 8.07443714142 0.690588712692\n",
       "1237661386533175309 219.969004509 ... 14.6017227173 0.802008509636\n",
       "1237661416603975998 219.422236629 ... 19.5342693329  2.58787894249\n",
       "1237661385996304558 219.746469375 ... 4.18224000931 0.397005200386\n",
       "1237661416603910425 219.190054522 ...           0.0            0.0\n",
       "1237648721248845970 221.316115836 ... 6.01830720901  0.51613008976\n",
       "1237654399164219640 222.900268358 ...           0.0            0.0\n",
       "1237665566078402826 233.787037531 ...           0.0            0.0\n",
       "1237665565541728490 234.132926177 ...  4.2713060379 0.541258990765"
      ]
     },
     "execution_count": 3,
     "metadata": {},
     "output_type": "execute_result"
    }
   ],
   "source": [
    "#remember to compare to spec_data_all and then check against sdss...compare overall matches against\n",
    "#both spec_data tables\n",
    "\n",
    "#making cuts so only SAGA + sdss id'ed satallite galaxies appear-eriks suggestion\n",
    "spec_data = spec_data_all[(spec_data_all['SATS']==1)&(spec_data_all['REMOVE']==-1)]\n",
    "spec_data"
   ]
  },
  {
   "cell_type": "markdown",
   "metadata": {},
   "source": [
    "# Palomar Data\n",
    "## Opening data WITH coords \n",
    "#### May17 w/coords"
   ]
  },
  {
   "cell_type": "code",
   "execution_count": 4,
   "metadata": {},
   "outputs": [
    {
     "name": "stdout",
     "output_type": "stream",
     "text": [
      "<class 'list'>\n"
     ]
    }
   ],
   "source": [
    "with open('targs_may17.csv', newline='') as f: #file for matching to palomar links data\n",
    "    ID=[];RA=[];DEC=[];EPOCH=[];idk1=[];idk2=[];idk3=[]\n",
    "    reader = csv.reader(f)\n",
    "    for row in reader:\n",
    "        list1 = row[0];ID.append(list1)\n",
    "        list2 = row[1];RA.append(list2)\n",
    "        list3 = row[2];DEC.append(list3)\n",
    "        list4 = row[3];EPOCH.append(list4)\n",
    "        list5 = row[4];idk1.append(list5)\n",
    "        list6 = row[5];idk2.append(list6)\n",
    "        list7 = row[6];idk3.append(list7)\n",
    "print (type (idk3))"
   ]
  },
  {
   "cell_type": "code",
   "execution_count": 5,
   "metadata": {
    "collapsed": true
   },
   "outputs": [],
   "source": [
    "#this will convert all those above lists into table columns\n",
    "coord_data_may17=Table([ID,RA,DEC,EPOCH,idk1,idk2,idk3], names=('ID','RA','DEC','EPOCH','idk1','idk2','idk3'))\n",
    "#coord_data_may17 #Palomar link coords table"
   ]
  },
  {
   "cell_type": "markdown",
   "metadata": {},
   "source": [
    "#### May15 w/ coords"
   ]
  },
  {
   "cell_type": "code",
   "execution_count": 6,
   "metadata": {
    "collapsed": true
   },
   "outputs": [],
   "source": [
    "with open('targs_may15.csv', newline='') as f:\n",
    "#f = open('targs_may15.csv')\n",
    "    ID=[];RA=[];DEC=[];EPOCH=[];idk1=[];idk2=[];idk3=[];idk4=[]\n",
    "#try:\n",
    "    reader = csv.reader(f)\n",
    "    for row in reader:\n",
    "        list1 = row[0];ID.append(list1)\n",
    "        list2 = row[1];RA.append(list2)\n",
    "        list3 = row[2];DEC.append(list3)\n",
    "        list4 = row[3];EPOCH.append(list4)\n",
    "        list5 = row[4];idk1.append(list5)\n",
    "        list6 = row[5];idk2.append(list6)\n",
    "        list7 = row[6];idk3.append(list7)\n",
    "        #list8 = row[7];idk4.append(list8)\n",
    "#ommitted list 8 b/c having index range bugs b/c comments arent in every column and dont *think* theyre needed\n",
    "#print (type (idk3))\n",
    "#print (len(idk2))-------------------------------------\n",
    "\n",
    "#this will convert all those above lists into table columns\n",
    "\n",
    "coord_data_may15=Table([ID,RA,DEC,EPOCH,idk1,idk2,idk3], names=('ID','RA','DEC','EPOCH','idk1','idk2','idk3'))\n",
    "#this is the table name of data Im getting coords from to match to handlog\n",
    "#coord_data_may15"
   ]
  },
  {
   "cell_type": "markdown",
   "metadata": {},
   "source": [
    "#### Nov15 w/ coords"
   ]
  },
  {
   "cell_type": "code",
   "execution_count": 7,
   "metadata": {
    "collapsed": true
   },
   "outputs": [],
   "source": [
    "with open('targs_nov15.csv', newline='') as f:\n",
    "    ID=[];RA=[];DEC=[];EPOCH=[];idk1=[];idk2=[];idk3=[];idk4=[]\n",
    "    reader = csv.reader(f)\n",
    "    for row in reader:\n",
    "        list1 = row[0];ID.append(list1)\n",
    "        list2 = row[1];RA.append(list2)\n",
    "        list3 = row[2];DEC.append(list3)\n",
    "        list4 = row[3];EPOCH.append(list4)\n",
    "        list5 = row[4];idk1.append(list5) #idk b/c idk what to call those columns\n",
    "        list6 = row[5];idk2.append(list6)\n",
    "        list7 = row[6];idk3.append(list7)\n",
    "        #list8 = row[7];idk4.append(list8) #still cant include b/c \"list index out of range\" error\n",
    "#ommitted list 8 b/c having index range bugs b/c comments arent in every column and dont *think* theyre needed\n",
    "#print (type (idk3))\n",
    "#print (len(idk2))\n",
    "\n",
    "#this will convert all those above lists into table columns\n",
    "\n",
    "coord_data_nov15=Table([ID,RA,DEC,EPOCH,idk1,idk2,idk3], names=('ID','RA','DEC','EPOCH','idk1','idk2','idk3'))\n",
    "#this is the table name of data Im getting coords from to match to handlog\n",
    "#coord_data_nov15"
   ]
  },
  {
   "cell_type": "markdown",
   "metadata": {},
   "source": [
    "## Opening Palomar data W/O coords\n",
    "#### LINK-may17 w/o coords"
   ]
  },
  {
   "cell_type": "code",
   "execution_count": 8,
   "metadata": {
    "collapsed": true
   },
   "outputs": [],
   "source": [
    "#opening the palomar link data AFTER saved into ONE SHEET\n",
    "import pandas as pd\n",
    "link_data_all = pd.read_excel('Palomar_Run_May_2017_onesheet.xlsx')\n",
    "\n",
    "Table.from_pandas(link_data_all) #this is a table of all data from palomar link\n",
    "#note that date transferred in with time...amend this\n",
    "\n",
    "\n",
    "#extracting only the columns I'll need\n",
    "date = link_data_all['Date']\n",
    "target = link_data_all['ID']\n",
    "instrument = link_data_all['Instrument']\n",
    "exp_time = link_data_all['exp time']\n",
    "\n",
    "link_data_names_may17 = Table([date, target, instrument, exp_time], names=('Date', 'ID', 'Instrument', 'exp_time'))\n",
    "#link_data_names_may17"
   ]
  },
  {
   "cell_type": "code",
   "execution_count": 9,
   "metadata": {
    "collapsed": true
   },
   "outputs": [],
   "source": [
    "#this fixes dtypes for id to enable matching by names later\n",
    "#tried to also fix date but cant for now...try again later\n",
    "col1 = Column(link_data_names_may17['Date'], name='Date', dtype=str)\n",
    "col2 = Column(link_data_names_may17['ID'], name='ID', dtype=str)\n",
    "link_data_names_may17['ID'] = col2\n",
    "link_data_names_may17['Date'] = col1\n",
    "#link_data_names_may17"
   ]
  },
  {
   "cell_type": "markdown",
   "metadata": {},
   "source": [
    "#### May15 handlog data w/o coords "
   ]
  },
  {
   "cell_type": "code",
   "execution_count": 10,
   "metadata": {
    "collapsed": true
   },
   "outputs": [],
   "source": [
    "may15_data = ascii.read('handlogs_May15_MYCOPYfinal.txt') "
   ]
  },
  {
   "cell_type": "markdown",
   "metadata": {},
   "source": [
    "#### Nov15 handlog data w/o coords"
   ]
  },
  {
   "cell_type": "code",
   "execution_count": 11,
   "metadata": {
    "collapsed": true
   },
   "outputs": [],
   "source": [
    "nov15_data = ascii.read('handlogs_Nov15.txt') "
   ]
  },
  {
   "cell_type": "markdown",
   "metadata": {},
   "source": [
    "## Matching Palomar data w/ & w/o coords via Names\n",
    "#### May15-name matched"
   ]
  },
  {
   "cell_type": "code",
   "execution_count": 12,
   "metadata": {},
   "outputs": [
    {
     "data": {
      "text/html": [
       "&lt;Table masked=True length=66&gt;\n",
       "<table id=\"table5093467696\" class=\"table-striped table-bordered table-condensed\">\n",
       "<thead><tr><th>ID</th><th>RA</th><th>DEC</th><th>Date</th><th>exp_time</th><th>Instrument</th></tr></thead>\n",
       "<thead><tr><th>str40</th><th>str13</th><th>str14</th><th>str7</th><th>float64</th><th>str19</th></tr></thead>\n",
       "<tr><td>BD+28 4211</td><td>21 51 11.02</td><td>28 51 50.4</td><td>5/10/15</td><td>60.0</td><td>Palomar_Double_Spec</td></tr>\n",
       "<tr><td>BD+28 4211</td><td>21 51 11.02</td><td>28 51 50.4</td><td>5-12-15</td><td>60.0</td><td>Palomar_Double_Spec</td></tr>\n",
       "<tr><td>BD+28 4211</td><td>21 51 11.02</td><td>28 51 50.4</td><td>5-12-15</td><td>60.0</td><td>Palomar_Double_Spec</td></tr>\n",
       "<tr><td>BD+28 4211</td><td>21 51 11.02</td><td>28 51 50.4</td><td>5-11-15</td><td>60.0</td><td>Palomar_Double_Spec</td></tr>\n",
       "<tr><td>BD+28 4211</td><td>21 51 11.02</td><td>28 51 50.4</td><td>5-13-15</td><td>60.0</td><td>Palomar_Double_Spec</td></tr>\n",
       "<tr><td>BD+33 2642</td><td>15 51 59.89</td><td>+32 56 54.3</td><td>5-13-15</td><td>45.0</td><td>Palomar_Double_Spec</td></tr>\n",
       "<tr><td>BD+33 2642</td><td>15 51 59.89</td><td>+32 56 54.3</td><td>5-11-15</td><td>60.0</td><td>Palomar_Double_Spec</td></tr>\n",
       "<tr><td>BD+33 2642</td><td>15 51 59.89</td><td>+32 56 54.3</td><td>5/10/15</td><td>60.0</td><td>Palomar_Double_Spec</td></tr>\n",
       "<tr><td>Feige 34</td><td>10 39 36.74</td><td>+43 06 09.3</td><td>5/10/15</td><td>60.0</td><td>Palomar_Double_Spec</td></tr>\n",
       "<tr><td>Feige 34</td><td>10 39 36.74</td><td>+43 06 09.3</td><td>5-11-15</td><td>60.0</td><td>Palomar_Double_Spec</td></tr>\n",
       "<tr><td>...</td><td>...</td><td>...</td><td>...</td><td>...</td><td>...</td></tr>\n",
       "<tr><td>y1606</td><td>13 12 29.0674</td><td>-3 23 22.1416</td><td>5-12-15</td><td>600.0</td><td>Palomar_Double_Spec</td></tr>\n",
       "<tr><td>y1635</td><td>13 23 04.0285</td><td>+39 09 32.5493</td><td>5-11-15</td><td>600.0</td><td>Palomar_Double_Spec</td></tr>\n",
       "<tr><td>y2367</td><td>16 23 26.8091</td><td>+41 54 02.5559</td><td>5-12-15</td><td>600.0</td><td>Palomar_Double_Spec</td></tr>\n",
       "<tr><td>y2457</td><td>16 43 27.3865</td><td>-8 02 57.6332</td><td>5-12-15</td><td>600.0</td><td>Palomar_Double_Spec</td></tr>\n",
       "<tr><td>y2483</td><td>16 45 48.8346</td><td>+46 47 25.5353</td><td>5/10/15</td><td>600.0</td><td>Palomar_Double_Spec</td></tr>\n",
       "<tr><td>y2483</td><td>16 45 48.8346</td><td>+46 47 25.5353</td><td>5-11-15</td><td>600.0</td><td>Palomar_Double_Spec</td></tr>\n",
       "<tr><td>y2483</td><td>16 45 48.8346</td><td>+46 47 25.5353</td><td>5-13-15</td><td>600.0</td><td>Palomar_Double_Spec</td></tr>\n",
       "<tr><td>y2483</td><td>16 45 48.8346</td><td>+46 47 25.5353</td><td>5-12-15</td><td>400.0</td><td>Palomar_Double_Spec</td></tr>\n",
       "<tr><td>y802</td><td>8 46 15.0982</td><td>+2 15 53.4443</td><td>5/10/15</td><td>600.0</td><td>Palomar_Double_Spec</td></tr>\n",
       "<tr><td>y877</td><td>9 08 37.1194</td><td>+5 17 37.4082</td><td>5-12-15</td><td>600.0</td><td>Palomar_Double_Spec</td></tr>\n",
       "</table>"
      ],
      "text/plain": [
       "<Table masked=True length=66>\n",
       "    ID           RA           DEC         Date  exp_time      Instrument    \n",
       "  str40        str13         str14        str7  float64         str19       \n",
       "---------- ------------- -------------- ------- -------- -------------------\n",
       "BD+28 4211   21 51 11.02     28 51 50.4 5/10/15     60.0 Palomar_Double_Spec\n",
       "BD+28 4211   21 51 11.02     28 51 50.4 5-12-15     60.0 Palomar_Double_Spec\n",
       "BD+28 4211   21 51 11.02     28 51 50.4 5-12-15     60.0 Palomar_Double_Spec\n",
       "BD+28 4211   21 51 11.02     28 51 50.4 5-11-15     60.0 Palomar_Double_Spec\n",
       "BD+28 4211   21 51 11.02     28 51 50.4 5-13-15     60.0 Palomar_Double_Spec\n",
       "BD+33 2642   15 51 59.89    +32 56 54.3 5-13-15     45.0 Palomar_Double_Spec\n",
       "BD+33 2642   15 51 59.89    +32 56 54.3 5-11-15     60.0 Palomar_Double_Spec\n",
       "BD+33 2642   15 51 59.89    +32 56 54.3 5/10/15     60.0 Palomar_Double_Spec\n",
       "  Feige 34   10 39 36.74    +43 06 09.3 5/10/15     60.0 Palomar_Double_Spec\n",
       "  Feige 34   10 39 36.74    +43 06 09.3 5-11-15     60.0 Palomar_Double_Spec\n",
       "       ...           ...            ...     ...      ...                 ...\n",
       "     y1606 13 12 29.0674  -3 23 22.1416 5-12-15    600.0 Palomar_Double_Spec\n",
       "     y1635 13 23 04.0285 +39 09 32.5493 5-11-15    600.0 Palomar_Double_Spec\n",
       "     y2367 16 23 26.8091 +41 54 02.5559 5-12-15    600.0 Palomar_Double_Spec\n",
       "     y2457 16 43 27.3865  -8 02 57.6332 5-12-15    600.0 Palomar_Double_Spec\n",
       "     y2483 16 45 48.8346 +46 47 25.5353 5/10/15    600.0 Palomar_Double_Spec\n",
       "     y2483 16 45 48.8346 +46 47 25.5353 5-11-15    600.0 Palomar_Double_Spec\n",
       "     y2483 16 45 48.8346 +46 47 25.5353 5-13-15    600.0 Palomar_Double_Spec\n",
       "     y2483 16 45 48.8346 +46 47 25.5353 5-12-15    400.0 Palomar_Double_Spec\n",
       "      y802  8 46 15.0982  +2 15 53.4443 5/10/15    600.0 Palomar_Double_Spec\n",
       "      y877  9 08 37.1194  +5 17 37.4082 5-12-15    600.0 Palomar_Double_Spec"
      ]
     },
     "execution_count": 12,
     "metadata": {},
     "output_type": "execute_result"
    }
   ],
   "source": [
    "#first lets match the names between these two tables to get the coords\n",
    "mergedata=(join(coord_data_may15, may15_data, keys=['ID']))\n",
    "names_may15_palomar = mergedata['ID','RA','DEC','Date','exp_time']\n",
    "\n",
    "#second adding a column so we know what instrument was used\n",
    "names_may15_palomar['Instrument'] = 'Palomar_Double_Spec'\n",
    "\n",
    "names_may15_palomar #this is the table of final info i need to match by coords to the spec data"
   ]
  },
  {
   "cell_type": "markdown",
   "metadata": {},
   "source": [
    "#### LINK-may17-name matched"
   ]
  },
  {
   "cell_type": "code",
   "execution_count": 13,
   "metadata": {},
   "outputs": [
    {
     "data": {
      "text/html": [
       "&lt;Table length=67&gt;\n",
       "<table id=\"table4681896792\" class=\"table-striped table-bordered table-condensed\">\n",
       "<thead><tr><th>ID</th><th>RA</th><th>DEC</th><th>Date</th><th>Instrument</th><th>exp_time</th></tr></thead>\n",
       "<thead><tr><th>str100</th><th>str13</th><th>str13</th><th>str48</th><th>object</th><th>float64</th></tr></thead>\n",
       "<tr><td>48721248845970-Dune</td><td>14:45:15.8678</td><td>-0:09:35.7735</td><td>2017-05-17T00:00:00.000000000</td><td>Palomar_Double_Spec</td><td>600.0</td></tr>\n",
       "<tr><td>50372092690464-Alice</td><td>12:01:10.9061</td><td>-1:17:51.6618</td><td>2017-05-19T00:00:00.000000000</td><td>Palomar_CWI</td><td>1200.0</td></tr>\n",
       "<tr><td>50372092690464-Alice</td><td>12:01:10.9061</td><td>-1:17:51.6618</td><td>2017-05-20T00:00:00.000000000</td><td>Palomar_CWI</td><td>960.0</td></tr>\n",
       "<tr><td>50372092690464-Alice</td><td>12:01:10.9061</td><td>-1:17:51.6618</td><td>2017-05-19T00:00:00.000000000</td><td>Palomar_CWI</td><td>90.0</td></tr>\n",
       "<tr><td>50372092690464-Alice</td><td>12:01:10.9061</td><td>-1:17:51.6618</td><td>2017-05-20T00:00:00.000000000</td><td>Palomar_CWI</td><td>90.0</td></tr>\n",
       "<tr><td>57607497318756-StarTrek</td><td>8:12:58.3616</td><td>36:11:54.0959</td><td>2017-05-18T00:00:00.000000000</td><td>Palomar_Double_Spec</td><td>600.0</td></tr>\n",
       "<tr><td>57607497515484-StarTrek</td><td>8:14:35.9754</td><td>36:26:03.6794</td><td>2017-05-18T00:00:00.000000000</td><td>Palomar_Double_Spec</td><td>600.0</td></tr>\n",
       "<tr><td>62224092496776-Odyssey</td><td>16:32:46.8885</td><td>19:52:01.2456</td><td>2017-05-18T00:00:00.000000000</td><td>Palomar_Double_Spec</td><td>900.0</td></tr>\n",
       "<tr><td>62662147310256-Odyssey</td><td>16:31:18.2141</td><td>20:12:39.1636</td><td>2017-05-20T00:00:00.000000000</td><td>Palomar_CWI</td><td>90.0</td></tr>\n",
       "<tr><td>62662147310256-Odyssey</td><td>16:31:18.2141</td><td>20:12:39.1636</td><td>2017-05-19T00:00:00.000000000</td><td>Palomar_CWI</td><td>90.0</td></tr>\n",
       "<tr><td>...</td><td>...</td><td>...</td><td>...</td><td>...</td><td>...</td></tr>\n",
       "<tr><td>HZ 43</td><td>13 16 21.85</td><td>+29 05 55.4</td><td>2017-05-17T00:00:00.000000000</td><td>Palomar_Double_Spec</td><td>90.0</td></tr>\n",
       "<tr><td>M-01-01</td><td>18:07:20.483</td><td>-30:10:38.80</td><td>2017-05-18T00:00:00.000000000</td><td>Palomar_Double_Spec</td><td>200.0</td></tr>\n",
       "<tr><td>M-01-01</td><td>18:07:20.483</td><td>-30:10:38.80</td><td>2017-05-18T00:00:00.000000000</td><td>Palomar_Double_Spec</td><td>200.0</td></tr>\n",
       "<tr><td>M-01-04</td><td>18:13:19.064</td><td>-27:32:59.18</td><td>2017-05-18T00:00:00.000000000</td><td>Palomar_Double_Spec</td><td>200.0</td></tr>\n",
       "<tr><td>M-01-04</td><td>18:13:19.064</td><td>-27:32:59.18</td><td>2017-05-18T00:00:00.000000000</td><td>Palomar_Double_Spec</td><td>200.0</td></tr>\n",
       "<tr><td>M-01-04</td><td>18:13:19.064</td><td>-27:32:59.18</td><td>2017-05-18T00:00:00.000000000</td><td>Palomar_Double_Spec</td><td>100.0</td></tr>\n",
       "<tr><td>M-01-04</td><td>18:13:19.064</td><td>-27:32:59.18</td><td>2017-05-17T00:00:00.000000000</td><td>Palomar_Double_Spec</td><td>200.0</td></tr>\n",
       "<tr><td>M-01-04</td><td>18:13:19.064</td><td>-27:32:59.18</td><td>2017-05-17T00:00:00.000000000</td><td>Palomar_Double_Spec</td><td>200.0</td></tr>\n",
       "<tr><td>OBrother_nospec</td><td>22:22:47.1508</td><td>-3:18:41.4586</td><td>2017-05-17T00:00:00.000000000</td><td>Palomar_Double_Spec</td><td>500.0</td></tr>\n",
       "<tr><td>Ody_nospec</td><td>16:32:11.7432</td><td>19:54:09.45</td><td>2017-05-17T00:00:00.000000000</td><td>Palomar_Double_Spec</td><td>600.0</td></tr>\n",
       "</table>"
      ],
      "text/plain": [
       "<Table length=67>\n",
       "           ID                 RA      ...      Instrument     exp_time\n",
       "         str100             str13     ...        object       float64 \n",
       "----------------------- ------------- ... ------------------- --------\n",
       "    48721248845970-Dune 14:45:15.8678 ... Palomar_Double_Spec    600.0\n",
       "   50372092690464-Alice 12:01:10.9061 ...         Palomar_CWI   1200.0\n",
       "   50372092690464-Alice 12:01:10.9061 ...         Palomar_CWI    960.0\n",
       "   50372092690464-Alice 12:01:10.9061 ...         Palomar_CWI     90.0\n",
       "   50372092690464-Alice 12:01:10.9061 ...         Palomar_CWI     90.0\n",
       "57607497318756-StarTrek  8:12:58.3616 ... Palomar_Double_Spec    600.0\n",
       "57607497515484-StarTrek  8:14:35.9754 ... Palomar_Double_Spec    600.0\n",
       " 62224092496776-Odyssey 16:32:46.8885 ... Palomar_Double_Spec    900.0\n",
       " 62662147310256-Odyssey 16:31:18.2141 ...         Palomar_CWI     90.0\n",
       " 62662147310256-Odyssey 16:31:18.2141 ...         Palomar_CWI     90.0\n",
       "                    ...           ... ...                 ...      ...\n",
       "                  HZ 43   13 16 21.85 ... Palomar_Double_Spec     90.0\n",
       "                M-01-01  18:07:20.483 ... Palomar_Double_Spec    200.0\n",
       "                M-01-01  18:07:20.483 ... Palomar_Double_Spec    200.0\n",
       "                M-01-04  18:13:19.064 ... Palomar_Double_Spec    200.0\n",
       "                M-01-04  18:13:19.064 ... Palomar_Double_Spec    200.0\n",
       "                M-01-04  18:13:19.064 ... Palomar_Double_Spec    100.0\n",
       "                M-01-04  18:13:19.064 ... Palomar_Double_Spec    200.0\n",
       "                M-01-04  18:13:19.064 ... Palomar_Double_Spec    200.0\n",
       "        OBrother_nospec 22:22:47.1508 ... Palomar_Double_Spec    500.0\n",
       "             Ody_nospec 16:32:11.7432 ... Palomar_Double_Spec    600.0"
      ]
     },
     "execution_count": 13,
     "metadata": {},
     "output_type": "execute_result"
    }
   ],
   "source": [
    "#fixing instrument column\n",
    "link_data_names_may17['ID'][157] #this returns 'ContFlat' so its the right area..literally counted rows\n",
    "#making instrument distinction beginning after ID = contflat / contbar area\n",
    "link_data_names_may17['Instrument'][0:157] = 'Palomar_Double_Spec'\n",
    "link_data_names_may17['Instrument'][157::] = 'Palomar_CWI'\n",
    "#link_data_names_may17\n",
    "\n",
    "#first lets match the names between these two tables to get the coords\n",
    "mergedata2=(join(coord_data_may17, link_data_names_may17, keys=['ID']))\n",
    "names_may17_palomar = mergedata2['ID','RA','DEC','Date','Instrument','exp_time']\n",
    "\n",
    "#second adding a column so we know what instrument was used\n",
    "#names_may17_palomar['Instrument'] = 'Palomar_Double_Spec'\n",
    "names_may17_palomar"
   ]
  },
  {
   "cell_type": "markdown",
   "metadata": {},
   "source": [
    "#### Nov15-name matched"
   ]
  },
  {
   "cell_type": "code",
   "execution_count": 14,
   "metadata": {},
   "outputs": [
    {
     "data": {
      "text/html": [
       "&lt;Table masked=True length=15&gt;\n",
       "<table id=\"table5093467640\" class=\"table-striped table-bordered table-condensed\">\n",
       "<thead><tr><th>ID</th><th>RA</th><th>DEC</th><th>Date</th><th>Instrument</th><th>exp_time</th></tr></thead>\n",
       "<thead><tr><th>str44</th><th>str13</th><th>str14</th><th>str7</th><th>str19</th><th>str14</th></tr></thead>\n",
       "<tr><td>AnaK_1</td><td>23 37 24.14</td><td>+00 23 26.89</td><td>11/6/15</td><td>Palomar_Double_Spec</td><td>600</td></tr>\n",
       "<tr><td>AnaK_1</td><td>23 37 24.14</td><td>+00 23 26.89</td><td>11/6/15</td><td>Palomar_Double_Spec</td><td>600</td></tr>\n",
       "<tr><td>AnaK_2</td><td>23 36 46.86</td><td>+00 37 24.33</td><td>11/6/15</td><td>Palomar_Double_Spec</td><td>900</td></tr>\n",
       "<tr><td>Beowulf_1</td><td>09 06 00.93</td><td>+25 28 11.70</td><td>11/8/15</td><td>Palomar_Double_Spec</td><td>900</td></tr>\n",
       "<tr><td>Beowulf_2</td><td>09 07 08.29</td><td>+25 20 33.27</td><td>11/8/15</td><td>Palomar_Double_Spec</td><td>300</td></tr>\n",
       "<tr><td>Beowulf_3</td><td>09 06 00.94</td><td>+25 22 33.58</td><td>11/8/15</td><td>Palomar_Double_Spec</td><td>600</td></tr>\n",
       "<tr><td>Beowulf_4</td><td>09 06 12.49</td><td>+25 47 01.04</td><td>11/8/15</td><td>Palomar_Double_Spec</td><td>600(420oflost)</td></tr>\n",
       "<tr><td>Catch22_1</td><td>23 14 47.20</td><td>+04 38 23.84</td><td>11/8/15</td><td>Palomar_Double_Spec</td><td>600</td></tr>\n",
       "<tr><td>Catch22_2</td><td>23 15 06.46</td><td>+04 22 23.51</td><td>11/8/15</td><td>Palomar_Double_Spec</td><td>600</td></tr>\n",
       "<tr><td>Catch22_3</td><td>23 15 29.81</td><td>+04 36 47.74</td><td>11/8/15</td><td>Palomar_Double_Spec</td><td>600</td></tr>\n",
       "<tr><td>G191-B2B</td><td>05 05 30.6</td><td>+52 49 54</td><td>11/5/15</td><td>Palomar_Double_Spec</td><td>60</td></tr>\n",
       "<tr><td>G191-B2B</td><td>05 05 30.6</td><td>+52 49 54</td><td>11/5/15</td><td>Palomar_Double_Spec</td><td>60</td></tr>\n",
       "<tr><td>HD65583</td><td>08 00 32.13</td><td>+29 12 44.48</td><td>11/5/15</td><td>Palomar_Double_Spec</td><td>999</td></tr>\n",
       "<tr><td>Iliad_1</td><td>22 52 21.12</td><td>-05 44 40.22</td><td>11/8/15</td><td>Palomar_Double_Spec</td><td>660</td></tr>\n",
       "<tr><td>MobyDick_1</td><td>09 58 44.92</td><td>+32 43 12.96</td><td>11/6/15</td><td>Palomar_Double_Spec</td><td>900</td></tr>\n",
       "</table>"
      ],
      "text/plain": [
       "<Table masked=True length=15>\n",
       "    ID          RA         DEC        Date       Instrument        exp_time   \n",
       "  str44       str13       str14       str7         str19            str14     \n",
       "---------- ----------- ------------ ------- ------------------- --------------\n",
       "    AnaK_1 23 37 24.14 +00 23 26.89 11/6/15 Palomar_Double_Spec            600\n",
       "    AnaK_1 23 37 24.14 +00 23 26.89 11/6/15 Palomar_Double_Spec            600\n",
       "    AnaK_2 23 36 46.86 +00 37 24.33 11/6/15 Palomar_Double_Spec            900\n",
       " Beowulf_1 09 06 00.93 +25 28 11.70 11/8/15 Palomar_Double_Spec            900\n",
       " Beowulf_2 09 07 08.29 +25 20 33.27 11/8/15 Palomar_Double_Spec            300\n",
       " Beowulf_3 09 06 00.94 +25 22 33.58 11/8/15 Palomar_Double_Spec            600\n",
       " Beowulf_4 09 06 12.49 +25 47 01.04 11/8/15 Palomar_Double_Spec 600(420oflost)\n",
       " Catch22_1 23 14 47.20 +04 38 23.84 11/8/15 Palomar_Double_Spec            600\n",
       " Catch22_2 23 15 06.46 +04 22 23.51 11/8/15 Palomar_Double_Spec            600\n",
       " Catch22_3 23 15 29.81 +04 36 47.74 11/8/15 Palomar_Double_Spec            600\n",
       "  G191-B2B  05 05 30.6    +52 49 54 11/5/15 Palomar_Double_Spec             60\n",
       "  G191-B2B  05 05 30.6    +52 49 54 11/5/15 Palomar_Double_Spec             60\n",
       "   HD65583 08 00 32.13 +29 12 44.48 11/5/15 Palomar_Double_Spec            999\n",
       "   Iliad_1 22 52 21.12 -05 44 40.22 11/8/15 Palomar_Double_Spec            660\n",
       "MobyDick_1 09 58 44.92 +32 43 12.96 11/6/15 Palomar_Double_Spec            900"
      ]
     },
     "execution_count": 14,
     "metadata": {},
     "output_type": "execute_result"
    }
   ],
   "source": [
    "#first lets match the names between these two tables to get the coords\n",
    "mergedata_nov15=(join(coord_data_nov15, nov15_data, keys=['ID']))\n",
    "names_nov15_palomar = mergedata_nov15['ID','RA','DEC','Date','Instrument','exp_time']\n",
    "names_nov15_palomar"
   ]
  },
  {
   "cell_type": "markdown",
   "metadata": {},
   "source": [
    "# Keck Deimos Data\n",
    "#### Sept 23,2014 deimos data w/coords"
   ]
  },
  {
   "cell_type": "code",
   "execution_count": 15,
   "metadata": {
    "collapsed": true
   },
   "outputs": [],
   "source": [
    "#opens & splits via new lines & blank spaces---outputs a list\n",
    "#NOTE: had to edit original data fixing spaces inside columns in excel as csv \n",
    "def generate_values_for_filename(filename):\n",
    "    with open(filename) as f:\n",
    "        for line in f:\n",
    "            for row in line.split('\\n'): #this splits by line\n",
    "                #print(row)\n",
    "                for word in row.split(' '): #this splits by blank space\n",
    "                    #print(word)\n",
    "                    yield word"
   ]
  },
  {
   "cell_type": "code",
   "execution_count": 16,
   "metadata": {},
   "outputs": [
    {
     "data": {
      "text/html": [
       "&lt;Table length=115&gt;\n",
       "<table id=\"table5093474432\" class=\"table-striped table-bordered table-condensed\">\n",
       "<thead><tr><th>ID</th><th>RA</th><th>DEC</th><th>Exp_time</th><th>Instrument</th><th>Date</th></tr></thead>\n",
       "<thead><tr><th>str29</th><th>str11</th><th>str11</th><th>str4</th><th>str11</th><th>str9</th></tr></thead>\n",
       "<tr><td>&quot;&quot;g191b2b_driftscan_6&quot;&quot;</td><td>03:52:00.00</td><td>+45:00:00.0</td><td>1</td><td>Keck_deimos</td><td>9-23-2014</td></tr>\n",
       "<tr><td>&quot;&quot;Direct_image_mask_And9m2&quot;&quot;</td><td>03:52:00.00</td><td>+45:00:00.0</td><td>2</td><td>Keck_deimos</td><td>9-23-2014</td></tr>\n",
       "<tr><td>&quot;&quot;Direct_image_mask_A19r2&quot;&quot;</td><td>03:52:00.00</td><td>+45:00:00.0</td><td>2</td><td>Keck_deimos</td><td>9-23-2014</td></tr>\n",
       "<tr><td>&quot;&quot;Direct_image_mask_19str2&quot;&quot;</td><td>03:52:00.00</td><td>+45:00:00.0</td><td>2</td><td>Keck_deimos</td><td>9-23-2014</td></tr>\n",
       "<tr><td>&quot;&quot;Direct_image_mask_A19r1&quot;&quot;</td><td>03:52:00.00</td><td>+45:00:00.0</td><td>2</td><td>Keck_deimos</td><td>9-23-2014</td></tr>\n",
       "<tr><td>&quot;&quot;Direct_image_mask_19str1&quot;&quot;</td><td>03:52:00.00</td><td>+45:00:00.0</td><td>2</td><td>Keck_deimos</td><td>9-23-2014</td></tr>\n",
       "<tr><td>&quot;&quot;Direct_image_mask_And9m1&quot;&quot;</td><td>03:52:00.00</td><td>+45:00:00.0</td><td>2</td><td>Keck_deimos</td><td>9-23-2014</td></tr>\n",
       "<tr><td>&quot;&quot;Direct_imag_mask_a29_2&quot;&quot;</td><td>03:52:00.00</td><td>+45:00:00.0</td><td>2</td><td>Keck_deimos</td><td>9-23-2014</td></tr>\n",
       "<tr><td>&quot;&quot;Focus_loop_R_dome&quot;&quot;</td><td>03:52:00.00</td><td>+45:00:00.0</td><td>1</td><td>Keck_deimos</td><td>9-23-2014</td></tr>\n",
       "<tr><td>&quot;&quot;Focus_loop_R_dome&quot;&quot;</td><td>03:52:00.00</td><td>+45:00:00.0</td><td>1</td><td>Keck_deimos</td><td>9-23-2014</td></tr>\n",
       "<tr><td>...</td><td>...</td><td>...</td><td>...</td><td>...</td><td>...</td></tr>\n",
       "<tr><td>&quot;&quot;A19r1_align&quot;&quot;</td><td>00:19:39.57</td><td>+35:11:19.3</td><td>1200</td><td>Keck_deimos</td><td>9-23-2014</td></tr>\n",
       "<tr><td>&quot;&quot;And9m2_align&quot;&quot;</td><td>00:52:57.16</td><td>+43:11:49.9</td><td>20</td><td>Keck_deimos</td><td>9-23-2014</td></tr>\n",
       "<tr><td>&quot;&quot;And9m2_align&quot;&quot;</td><td>00:52:57.19</td><td>+43:11:48.7</td><td>20</td><td>Keck_deimos</td><td>9-23-2014</td></tr>\n",
       "<tr><td>And9m2</td><td>00:52:57.20</td><td>+43:11:48.7</td><td>1200</td><td>Keck_deimos</td><td>9-23-2014</td></tr>\n",
       "<tr><td>And9m2</td><td>00:52:57.20</td><td>+43:11:48.7</td><td>1200</td><td>Keck_deimos</td><td>9-23-2014</td></tr>\n",
       "<tr><td>n132339_satcand2</td><td>02:37:46.03</td><td>-00:23:23.5</td><td>300</td><td>Keck_deimos</td><td>9-23-2014</td></tr>\n",
       "<tr><td>n132339_satcand2</td><td>02:37:46.03</td><td>-00:23:23.5</td><td>300</td><td>Keck_deimos</td><td>9-23-2014</td></tr>\n",
       "<tr><td>n132339_satcand1</td><td>02:36:28.59</td><td>-00:58:28.9</td><td>200</td><td>Keck_deimos</td><td>9-23-2014</td></tr>\n",
       "<tr><td>n132339_satcand1</td><td>02:36:28.59</td><td>-00:58:28.9</td><td>200</td><td>Keck_deimos</td><td>9-23-2014</td></tr>\n",
       "<tr><td>m283_ghost</td><td>02:21:04.40</td><td>+29:23:50.7</td><td>180</td><td>Keck_deimos</td><td>9-23-2014</td></tr>\n",
       "</table>"
      ],
      "text/plain": [
       "<Table length=115>\n",
       "             ID                   RA         DEC     ...  Instrument    Date  \n",
       "           str29                str11       str11    ...    str11       str9  \n",
       "---------------------------- ----------- ----------- ... ----------- ---------\n",
       "     \"\"g191b2b_driftscan_6\"\" 03:52:00.00 +45:00:00.0 ... Keck_deimos 9-23-2014\n",
       "\"\"Direct_image_mask_And9m2\"\" 03:52:00.00 +45:00:00.0 ... Keck_deimos 9-23-2014\n",
       " \"\"Direct_image_mask_A19r2\"\" 03:52:00.00 +45:00:00.0 ... Keck_deimos 9-23-2014\n",
       "\"\"Direct_image_mask_19str2\"\" 03:52:00.00 +45:00:00.0 ... Keck_deimos 9-23-2014\n",
       " \"\"Direct_image_mask_A19r1\"\" 03:52:00.00 +45:00:00.0 ... Keck_deimos 9-23-2014\n",
       "\"\"Direct_image_mask_19str1\"\" 03:52:00.00 +45:00:00.0 ... Keck_deimos 9-23-2014\n",
       "\"\"Direct_image_mask_And9m1\"\" 03:52:00.00 +45:00:00.0 ... Keck_deimos 9-23-2014\n",
       "  \"\"Direct_imag_mask_a29_2\"\" 03:52:00.00 +45:00:00.0 ... Keck_deimos 9-23-2014\n",
       "       \"\"Focus_loop_R_dome\"\" 03:52:00.00 +45:00:00.0 ... Keck_deimos 9-23-2014\n",
       "       \"\"Focus_loop_R_dome\"\" 03:52:00.00 +45:00:00.0 ... Keck_deimos 9-23-2014\n",
       "                         ...         ...         ... ...         ...       ...\n",
       "             \"\"A19r1_align\"\" 00:19:39.57 +35:11:19.3 ... Keck_deimos 9-23-2014\n",
       "            \"\"And9m2_align\"\" 00:52:57.16 +43:11:49.9 ... Keck_deimos 9-23-2014\n",
       "            \"\"And9m2_align\"\" 00:52:57.19 +43:11:48.7 ... Keck_deimos 9-23-2014\n",
       "                      And9m2 00:52:57.20 +43:11:48.7 ... Keck_deimos 9-23-2014\n",
       "                      And9m2 00:52:57.20 +43:11:48.7 ... Keck_deimos 9-23-2014\n",
       "            n132339_satcand2 02:37:46.03 -00:23:23.5 ... Keck_deimos 9-23-2014\n",
       "            n132339_satcand2 02:37:46.03 -00:23:23.5 ... Keck_deimos 9-23-2014\n",
       "            n132339_satcand1 02:36:28.59 -00:58:28.9 ... Keck_deimos 9-23-2014\n",
       "            n132339_satcand1 02:36:28.59 -00:58:28.9 ... Keck_deimos 9-23-2014\n",
       "                  m283_ghost 02:21:04.40 +29:23:50.7 ... Keck_deimos 9-23-2014"
      ]
     },
     "execution_count": 16,
     "metadata": {},
     "output_type": "execute_result"
    }
   ],
   "source": [
    "#using above fcn to open & split datafile               \n",
    "sept_values = list(generate_values_for_filename('Sept2014_deimos_MYCOPY.csv'))\n",
    "#print ('start',sept_values, 'end')\n",
    "\n",
    "#naming arrays for columns I'll need\n",
    "obj_sept=np.array(sept_values[17::16])\n",
    "ra_sept=np.array(sept_values[20::16])\n",
    "dec_sept=np.array(sept_values[21::16])\n",
    "exp_time_sept=np.array(sept_values[28::16]) #figure out column/rows valueslike above\n",
    "\n",
    "\n",
    "#print (exp_time_sept)\n",
    "#print (obj)\n",
    "#print ('testing-Below is the RAs')\n",
    "#print (ra)\n",
    "#print ('testing-Below is the DECs')\n",
    "#print (type(dec[0])) #they are strings\n",
    "\n",
    "#making arrays into a table\n",
    "sept14_deimos_table = Table([obj_sept, ra_sept, dec_sept, exp_time_sept], names=('ID','RA','DEC','Exp_time'))\n",
    "sept14_deimos_table['Instrument'] ='Keck_deimos'\n",
    "sept14_deimos_table['Date'] ='9-23-2014'\n",
    "\n",
    "sept14_deimos_table"
   ]
  },
  {
   "cell_type": "markdown",
   "metadata": {},
   "source": [
    "#### May 17, 2015 deimos data w/coords"
   ]
  },
  {
   "cell_type": "code",
   "execution_count": 17,
   "metadata": {},
   "outputs": [
    {
     "data": {
      "text/html": [
       "&lt;Table length=101&gt;\n",
       "<table id=\"table5093445304\" class=\"table-striped table-bordered table-condensed\">\n",
       "<thead><tr><th>ID</th><th>RA</th><th>DEC</th><th>Exp_time</th><th>Instrument</th><th>Date</th></tr></thead>\n",
       "<thead><tr><th>str27</th><th>str11</th><th>str11</th><th>str4</th><th>str11</th><th>str9</th></tr></thead>\n",
       "<tr><td>&quot;&quot;212915A1_align&quot;&quot;</td><td>04:29:24.00</td><td>+00:03:32.4</td><td>1</td><td>Keck_deimos</td><td>5-17-2015</td></tr>\n",
       "<tr><td>&quot;&quot;Direct_image_mask_Herc1&quot;&quot;</td><td>04:29:24.00</td><td>+00:03:32.4</td><td>2</td><td>Keck_deimos</td><td>5-17-2015</td></tr>\n",
       "<tr><td>&quot;&quot;Direct_image_mask_Herc2&quot;&quot;</td><td>04:29:24.00</td><td>+00:03:32.4</td><td>2</td><td>Keck_deimos</td><td>5-17-2015</td></tr>\n",
       "<tr><td>&quot;&quot;Direct_image_mask_Herc3&quot;&quot;</td><td>04:29:24.00</td><td>+00:03:32.4</td><td>2</td><td>Keck_deimos</td><td>5-17-2015</td></tr>\n",
       "<tr><td>&quot;&quot;Direct_image_mask_LeoV1&quot;&quot;</td><td>04:29:24.00</td><td>+00:03:32.4</td><td>2</td><td>Keck_deimos</td><td>5-17-2015</td></tr>\n",
       "<tr><td>&quot;&quot;Direct_image_mask_LeoV2&quot;&quot;</td><td>!KeyError!</td><td>!KeyError!</td><td>2</td><td>Keck_deimos</td><td>5-17-2015</td></tr>\n",
       "<tr><td>&quot;&quot;Direct_image_mask_LeoV3&quot;&quot;</td><td>00:00:00.00</td><td>+00:00:00.0</td><td>2</td><td>Keck_deimos</td><td>5-17-2015</td></tr>\n",
       "<tr><td>&quot;&quot;Focus_loop_R_dome&quot;&quot;</td><td>03:52:00.00</td><td>+45:00:00.0</td><td>1</td><td>Keck_deimos</td><td>5-17-2015</td></tr>\n",
       "<tr><td>&quot;&quot;Focus_loop_R_dome&quot;&quot;</td><td>03:52:00.00</td><td>+45:00:00.0</td><td>1</td><td>Keck_deimos</td><td>5-17-2015</td></tr>\n",
       "<tr><td>&quot;&quot;Focus_loop_R_dome&quot;&quot;</td><td>03:52:00.00</td><td>+45:00:00.0</td><td>1</td><td>Keck_deimos</td><td>5-17-2015</td></tr>\n",
       "<tr><td>...</td><td>...</td><td>...</td><td>...</td><td>...</td><td>...</td></tr>\n",
       "<tr><td>&quot;&quot;Herc3_align&quot;&quot;</td><td>16:30:40.93</td><td>+12:49:36.5</td><td>1200</td><td>Keck_deimos</td><td>5-17-2015</td></tr>\n",
       "<tr><td>&quot;&quot;Herc3_align&quot;&quot;</td><td>16:30:40.93</td><td>+12:49:36.5</td><td>1200</td><td>Keck_deimos</td><td>5-17-2015</td></tr>\n",
       "<tr><td>&quot;&quot;Odyssey_4&quot;&quot;</td><td>16:32:36.50</td><td>+19:48:34.2</td><td>200</td><td>Keck_deimos</td><td>5-17-2015</td></tr>\n",
       "<tr><td>&quot;&quot;Odyssey_4&quot;&quot;</td><td>16:32:36.50</td><td>+19:48:34.2</td><td>200</td><td>Keck_deimos</td><td>5-17-2015</td></tr>\n",
       "<tr><td>&quot;&quot;Odyssey_4&quot;&quot;</td><td>16:32:36.50</td><td>+19:48:34.2</td><td>200</td><td>Keck_deimos</td><td>5-17-2015</td></tr>\n",
       "<tr><td>&quot;&quot;AnaK_1&quot;&quot;</td><td>23:37:24.17</td><td>+00:23:24.1</td><td>200</td><td>Keck_deimos</td><td>5-17-2015</td></tr>\n",
       "<tr><td>&quot;&quot;AnaK_1&quot;&quot;</td><td>23:37:24.17</td><td>+00:23:24.1</td><td>200</td><td>Keck_deimos</td><td>5-17-2015</td></tr>\n",
       "<tr><td>&quot;&quot;AnaK_2&quot;&quot;</td><td>23:36:47.34</td><td>+00:37:33.1</td><td>200</td><td>Keck_deimos</td><td>5-17-2015</td></tr>\n",
       "<tr><td>&quot;&quot;BD+284211&quot;&quot;</td><td>21:51:10.94</td><td>+28:52:05.0</td><td>30</td><td>Keck_deimos</td><td>5-17-2015</td></tr>\n",
       "<tr><td>&quot;&quot;BD+284211&quot;&quot;</td><td>21:51:10.94</td><td>+28:52:04.9</td><td>30</td><td>Keck_deimos</td><td>5-17-2015</td></tr>\n",
       "</table>"
      ],
      "text/plain": [
       "<Table length=101>\n",
       "             ID                  RA         DEC     ...  Instrument    Date  \n",
       "           str27               str11       str11    ...    str11       str9  \n",
       "--------------------------- ----------- ----------- ... ----------- ---------\n",
       "         \"\"212915A1_align\"\" 04:29:24.00 +00:03:32.4 ... Keck_deimos 5-17-2015\n",
       "\"\"Direct_image_mask_Herc1\"\" 04:29:24.00 +00:03:32.4 ... Keck_deimos 5-17-2015\n",
       "\"\"Direct_image_mask_Herc2\"\" 04:29:24.00 +00:03:32.4 ... Keck_deimos 5-17-2015\n",
       "\"\"Direct_image_mask_Herc3\"\" 04:29:24.00 +00:03:32.4 ... Keck_deimos 5-17-2015\n",
       "\"\"Direct_image_mask_LeoV1\"\" 04:29:24.00 +00:03:32.4 ... Keck_deimos 5-17-2015\n",
       "\"\"Direct_image_mask_LeoV2\"\"  !KeyError!  !KeyError! ... Keck_deimos 5-17-2015\n",
       "\"\"Direct_image_mask_LeoV3\"\" 00:00:00.00 +00:00:00.0 ... Keck_deimos 5-17-2015\n",
       "      \"\"Focus_loop_R_dome\"\" 03:52:00.00 +45:00:00.0 ... Keck_deimos 5-17-2015\n",
       "      \"\"Focus_loop_R_dome\"\" 03:52:00.00 +45:00:00.0 ... Keck_deimos 5-17-2015\n",
       "      \"\"Focus_loop_R_dome\"\" 03:52:00.00 +45:00:00.0 ... Keck_deimos 5-17-2015\n",
       "                        ...         ...         ... ...         ...       ...\n",
       "            \"\"Herc3_align\"\" 16:30:40.93 +12:49:36.5 ... Keck_deimos 5-17-2015\n",
       "            \"\"Herc3_align\"\" 16:30:40.93 +12:49:36.5 ... Keck_deimos 5-17-2015\n",
       "              \"\"Odyssey_4\"\" 16:32:36.50 +19:48:34.2 ... Keck_deimos 5-17-2015\n",
       "              \"\"Odyssey_4\"\" 16:32:36.50 +19:48:34.2 ... Keck_deimos 5-17-2015\n",
       "              \"\"Odyssey_4\"\" 16:32:36.50 +19:48:34.2 ... Keck_deimos 5-17-2015\n",
       "                 \"\"AnaK_1\"\" 23:37:24.17 +00:23:24.1 ... Keck_deimos 5-17-2015\n",
       "                 \"\"AnaK_1\"\" 23:37:24.17 +00:23:24.1 ... Keck_deimos 5-17-2015\n",
       "                 \"\"AnaK_2\"\" 23:36:47.34 +00:37:33.1 ... Keck_deimos 5-17-2015\n",
       "              \"\"BD+284211\"\" 21:51:10.94 +28:52:05.0 ... Keck_deimos 5-17-2015\n",
       "              \"\"BD+284211\"\" 21:51:10.94 +28:52:04.9 ... Keck_deimos 5-17-2015"
      ]
     },
     "execution_count": 17,
     "metadata": {},
     "output_type": "execute_result"
    }
   ],
   "source": [
    "#using above fcn to open & split datafile               \n",
    "may_values = list(generate_values_for_filename('May2015_deimos_MYCOPY.csv'))\n",
    "\n",
    "#naming arrays for columns I'll need\n",
    "obj_may=np.array(may_values[18::17]) #numbers mean start there then repeat every 17th item creating column structure\n",
    "ra_may=np.array(may_values[22::17])\n",
    "dec_may=np.array(may_values[23::17])\n",
    "exp_time_may=np.array(may_values[30::17]) #figure out column/rows valueslike above\n",
    "\n",
    "#print (exp_time_may)\n",
    "#making arrays into a table\n",
    "may15_deimos_table = Table([obj_may, ra_may, dec_may, exp_time_may], names=('ID','RA','DEC','Exp_time'))\n",
    "may15_deimos_table['Instrument'] ='Keck_deimos'\n",
    "may15_deimos_table['Date'] ='5-17-2015'\n",
    "\n",
    "may15_deimos_table"
   ]
  },
  {
   "cell_type": "markdown",
   "metadata": {},
   "source": [
    "#### Mar/Apr 2016 deimos data w/coords ---- had NO EXP_TIMES"
   ]
  },
  {
   "cell_type": "code",
   "execution_count": 18,
   "metadata": {},
   "outputs": [
    {
     "data": {
      "text/html": [
       "&lt;Table length=55&gt;\n",
       "<table id=\"table5070753688\" class=\"table-striped table-bordered table-condensed\">\n",
       "<thead><tr><th>ID</th><th>RA</th><th>DEC</th><th>Instrument</th></tr></thead>\n",
       "<thead><tr><th>str4</th><th>str11</th><th>str11</th><th>str11</th></tr></thead>\n",
       "<tr><td>ST3</td><td>08:11:38.85</td><td>+36:12:02.5</td><td>Keck_deimos</td></tr>\n",
       "<tr><td>ST3</td><td>08:11:38.85</td><td>+36:12:02.5</td><td>Keck_deimos</td></tr>\n",
       "<tr><td>ST3</td><td>08:11:38.85</td><td>+36:12:02.5</td><td>Keck_deimos</td></tr>\n",
       "<tr><td>MD1</td><td>10:00:35.00</td><td>+32:34:00.9</td><td>Keck_deimos</td></tr>\n",
       "<tr><td>MD1</td><td>10:00:35.00</td><td>+32:34:00.9</td><td>Keck_deimos</td></tr>\n",
       "<tr><td>MD1</td><td>10:00:35.00</td><td>+32:34:00.9</td><td>Keck_deimos</td></tr>\n",
       "<tr><td>MD3</td><td>09:56:01.02</td><td>+32:13:44.4</td><td>Keck_deimos</td></tr>\n",
       "<tr><td>MD3</td><td>09:56:01.02</td><td>+32:13:44.4</td><td>Keck_deimos</td></tr>\n",
       "<tr><td>MD3</td><td>09:56:01.02</td><td>+32:13:44.4</td><td>Keck_deimos</td></tr>\n",
       "<tr><td>MD4</td><td>09:59:23.88</td><td>+31:47:14.2</td><td>Keck_deimos</td></tr>\n",
       "<tr><td>...</td><td>...</td><td>...</td><td>...</td></tr>\n",
       "<tr><td>ST2</td><td>08:13:09.00</td><td>+36:16:41.6</td><td>Keck_deimos</td></tr>\n",
       "<tr><td>ST1</td><td>08:14:06.20</td><td>+36:08:59.6</td><td>Keck_deimos</td></tr>\n",
       "<tr><td>ST1</td><td>08:14:06.20</td><td>+36:08:59.6</td><td>Keck_deimos</td></tr>\n",
       "<tr><td>ST1</td><td>08:14:06.20</td><td>+36:08:59.6</td><td>Keck_deimos</td></tr>\n",
       "<tr><td>AnaK</td><td>23:37:07.80</td><td>+00:12:40.6</td><td>Keck_deimos</td></tr>\n",
       "<tr><td>AnaK</td><td>23:37:07.80</td><td>+00:12:40.6</td><td>Keck_deimos</td></tr>\n",
       "<tr><td>AnaK</td><td>23:37:10.00</td><td>+00:12:15.8</td><td>Keck_deimos</td></tr>\n",
       "<tr><td>AnaK</td><td>23:37:10.00</td><td>+00:12:15.8</td><td>Keck_deimos</td></tr>\n",
       "<tr><td>Dune</td><td>14:45:36.00</td><td>-00:20:40.5</td><td>Keck_deimos</td></tr>\n",
       "<tr><td>Dune</td><td>14:45:36.00</td><td>-00:20:40.5</td><td>Keck_deimos</td></tr>\n",
       "</table>"
      ],
      "text/plain": [
       "<Table length=55>\n",
       " ID       RA         DEC      Instrument\n",
       "str4    str11       str11       str11   \n",
       "---- ----------- ----------- -----------\n",
       " ST3 08:11:38.85 +36:12:02.5 Keck_deimos\n",
       " ST3 08:11:38.85 +36:12:02.5 Keck_deimos\n",
       " ST3 08:11:38.85 +36:12:02.5 Keck_deimos\n",
       " MD1 10:00:35.00 +32:34:00.9 Keck_deimos\n",
       " MD1 10:00:35.00 +32:34:00.9 Keck_deimos\n",
       " MD1 10:00:35.00 +32:34:00.9 Keck_deimos\n",
       " MD3 09:56:01.02 +32:13:44.4 Keck_deimos\n",
       " MD3 09:56:01.02 +32:13:44.4 Keck_deimos\n",
       " MD3 09:56:01.02 +32:13:44.4 Keck_deimos\n",
       " MD4 09:59:23.88 +31:47:14.2 Keck_deimos\n",
       " ...         ...         ...         ...\n",
       " ST2 08:13:09.00 +36:16:41.6 Keck_deimos\n",
       " ST1 08:14:06.20 +36:08:59.6 Keck_deimos\n",
       " ST1 08:14:06.20 +36:08:59.6 Keck_deimos\n",
       " ST1 08:14:06.20 +36:08:59.6 Keck_deimos\n",
       "AnaK 23:37:07.80 +00:12:40.6 Keck_deimos\n",
       "AnaK 23:37:07.80 +00:12:40.6 Keck_deimos\n",
       "AnaK 23:37:10.00 +00:12:15.8 Keck_deimos\n",
       "AnaK 23:37:10.00 +00:12:15.8 Keck_deimos\n",
       "Dune 14:45:36.00 -00:20:40.5 Keck_deimos\n",
       "Dune 14:45:36.00 -00:20:40.5 Keck_deimos"
      ]
     },
     "execution_count": 18,
     "metadata": {},
     "output_type": "execute_result"
    }
   ],
   "source": [
    "#faster to just edit the data file into a txt and get rid of \"good\", \"twilight\", \"nothing\", etc comments\n",
    "marapr16_data = ascii.read('MarApr2016_deimos.txt') \n",
    "dcol_1 = np.array(marapr16_data['ID'])\n",
    "dcol_2 = np.array(marapr16_data['RA'])\n",
    "dcol_3 = np.array(marapr16_data['DEC'])\n",
    "\n",
    "#creating the table using columns above\n",
    "marapr2016_deimos = Table([dcol_1, dcol_2, dcol_3], names=('ID', 'RA', 'DEC'))\n",
    "marapr2016_deimos['Instrument'] = 'Keck_deimos'\n",
    "marapr2016_deimos"
   ]
  },
  {
   "cell_type": "markdown",
   "metadata": {},
   "source": [
    "#### Sept 2013 deimos data logs 1 & 2"
   ]
  },
  {
   "cell_type": "code",
   "execution_count": 19,
   "metadata": {},
   "outputs": [
    {
     "data": {
      "text/html": [
       "&lt;Table length=36&gt;\n",
       "<table id=\"table5078171208\" class=\"table-striped table-bordered table-condensed\">\n",
       "<thead><tr><th>Date</th><th>ID</th><th>RA</th><th>DEC</th><th>Exp_time</th><th>Instrument</th></tr></thead>\n",
       "<thead><tr><th>str8</th><th>str21</th><th>str11</th><th>str12</th><th>str21</th><th>str4</th></tr></thead>\n",
       "<tr><td>9-7-2013</td><td>Penelope</td><td>16:31:20.87</td><td>+20:08:41.0</td><td>100</td><td>Keck</td></tr>\n",
       "<tr><td>9-7-2013</td><td>Penelope</td><td>16:31:20.87</td><td>+20:08:41.0</td><td>300</td><td>Keck</td></tr>\n",
       "<tr><td>9-7-2013</td><td>Penelope</td><td>16:31:20.87</td><td>+20:08:41.0</td><td>300</td><td>Keck</td></tr>\n",
       "<tr><td>9-7-2013</td><td>Telemachus</td><td>16:33:37.48</td><td>+19:54:28.2</td><td>150</td><td>Keck</td></tr>\n",
       "<tr><td>9-7-2013</td><td>Circe</td><td>16:32:02.97</td><td>+19:42:10.8</td><td>150</td><td>Keck</td></tr>\n",
       "<tr><td>9-7-2013</td><td>Circe</td><td>16:32:02.97</td><td>+19:42:10.8</td><td>200</td><td>Keck</td></tr>\n",
       "<tr><td>9-7-2013</td><td>Polyphemus</td><td>16:33:21.81</td><td>+19:27:14.6</td><td>200</td><td>Keck</td></tr>\n",
       "<tr><td>9-7-2013</td><td>Calypso_aquire</td><td>16:32:48.81</td><td>+19:46:42.8</td><td>30</td><td>Keck</td></tr>\n",
       "<tr><td>9-7-2013</td><td>Calypso_aquire</td><td>16:32:48.81</td><td>+19:46:42.8</td><td>90</td><td>Keck</td></tr>\n",
       "<tr><td>9-7-2013</td><td>Calypso</td><td>16:32:48.69</td><td>+19:46:42.9</td><td>200</td><td>Keck</td></tr>\n",
       "<tr><td>...</td><td>...</td><td>...</td><td>...</td><td>...</td><td>...</td></tr>\n",
       "<tr><td>9-8-2013</td><td>Polyphemus</td><td>16:33:16.78</td><td>+19:31:49.4</td><td>150</td><td>Keck</td></tr>\n",
       "<tr><td>9-8-2013</td><td>Polyphemus</td><td>16:33:16.78</td><td>+19:31:49.4</td><td>200</td><td>Keck</td></tr>\n",
       "<tr><td>9-8-2013</td><td>Peg_4</td><td>23:28:49.62</td><td>+14:40:18.2</td><td>1000</td><td>Keck</td></tr>\n",
       "<tr><td>9-8-2013</td><td>Peg_4</td><td>23:28:49.62</td><td>+14:40:18.2</td><td>850</td><td>Keck</td></tr>\n",
       "<tr><td>9-8-2013</td><td>Peg_5</td><td>23:28:43.67</td><td>+14:43:04.4</td><td>400</td><td>Keck</td></tr>\n",
       "<tr><td>9-8-2013</td><td>IC10-4</td><td>00:20:37.33</td><td>+59:17:06.5</td><td>800</td><td>Keck</td></tr>\n",
       "<tr><td>9-8-2013</td><td>IC10-4</td><td>00:20:37.33</td><td>+59:17:06.5</td><td>640</td><td>Keck</td></tr>\n",
       "<tr><td>9-8-2013</td><td>LGS3_1</td><td>01:04:02.73</td><td>+21:54:08.5</td><td>600</td><td>Keck</td></tr>\n",
       "<tr><td>9-8-2013</td><td>G191-B2B</td><td>05:05:44.50</td><td>+52:50:39.3</td><td>20</td><td>Keck</td></tr>\n",
       "<tr><td>9-8-2013</td><td>G191-B2B</td><td>05:05:44.50</td><td>+52:50:39.3</td><td>60</td><td>Keck</td></tr>\n",
       "</table>"
      ],
      "text/plain": [
       "<Table length=36>\n",
       "  Date         ID            RA         DEC      Exp_time Instrument\n",
       "  str8       str21         str11       str12      str21      str4   \n",
       "-------- -------------- ----------- ------------ -------- ----------\n",
       "9-7-2013       Penelope 16:31:20.87 +20:08:41.0       100       Keck\n",
       "9-7-2013       Penelope 16:31:20.87 +20:08:41.0       300       Keck\n",
       "9-7-2013       Penelope 16:31:20.87 +20:08:41.0       300       Keck\n",
       "9-7-2013     Telemachus 16:33:37.48  +19:54:28.2      150       Keck\n",
       "9-7-2013          Circe 16:32:02.97  +19:42:10.8      150       Keck\n",
       "9-7-2013          Circe 16:32:02.97  +19:42:10.8      200       Keck\n",
       "9-7-2013     Polyphemus 16:33:21.81  +19:27:14.6      200       Keck\n",
       "9-7-2013 Calypso_aquire 16:32:48.81  +19:46:42.8       30       Keck\n",
       "9-7-2013 Calypso_aquire 16:32:48.81  +19:46:42.8       90       Keck\n",
       "9-7-2013      Calypso   16:32:48.69  +19:46:42.9      200       Keck\n",
       "     ...            ...         ...          ...      ...        ...\n",
       "9-8-2013     Polyphemus 16:33:16.78  +19:31:49.4      150       Keck\n",
       "9-8-2013     Polyphemus 16:33:16.78  +19:31:49.4      200       Keck\n",
       "9-8-2013          Peg_4 23:28:49.62  +14:40:18.2     1000       Keck\n",
       "9-8-2013          Peg_4 23:28:49.62  +14:40:18.2      850       Keck\n",
       "9-8-2013          Peg_5 23:28:43.67  +14:43:04.4      400       Keck\n",
       "9-8-2013         IC10-4 00:20:37.33  +59:17:06.5      800       Keck\n",
       "9-8-2013         IC10-4 00:20:37.33  +59:17:06.5      640       Keck\n",
       "9-8-2013         LGS3_1 01:04:02.73  +21:54:08.5      600       Keck\n",
       "9-8-2013       G191-B2B 05:05:44.50  +52:50:39.3       20       Keck\n",
       "9-8-2013       G191-B2B 05:05:44.50  +52:50:39.3       60       Keck"
      ]
     },
     "execution_count": 19,
     "metadata": {},
     "output_type": "execute_result"
    }
   ],
   "source": [
    "#these were PDFs I digitized -- combined logs 1& 2 b/c short\n",
    "deimos_log1n2_data = pd.read_excel('Sept13_Deimos_log_1and2.xlsx')\n",
    "\n",
    "Table.from_pandas(deimos_log1n2_data)\n",
    "first = deimos_log1n2_data['Date']\n",
    "second = deimos_log1n2_data['ID']\n",
    "third = deimos_log1n2_data['RA']\n",
    "fourth = deimos_log1n2_data['DEC']\n",
    "fifth = deimos_log1n2_data['Exp_time']\n",
    "sixth = deimos_log1n2_data['Instrument']\n",
    "\n",
    "sept13_deimos_table = Table([first, second, third, fourth, fifth, sixth], names=('Date','ID','RA','DEC','Exp_time','Instrument'))\n",
    "\n",
    "#this section converts all objects into strings for column data types-makes matching easier later\n",
    "col_date = Column(sept13_deimos_table['Date'], dtype=str)\n",
    "sept13_deimos_table['Date'] = col_date\n",
    "col_id = Column(sept13_deimos_table['ID'], dtype=str)\n",
    "sept13_deimos_table['ID'] = col_id\n",
    "col_ra = Column(sept13_deimos_table['RA'], dtype=str)\n",
    "sept13_deimos_table['RA'] = col_ra\n",
    "col_dec = Column(sept13_deimos_table['DEC'], dtype=str)\n",
    "sept13_deimos_table['DEC'] = col_dec\n",
    "col_exptime = Column(sept13_deimos_table['Exp_time'], dtype=str)\n",
    "sept13_deimos_table['Exp_time'] = col_exptime\n",
    "col_inst = Column(sept13_deimos_table['Instrument'], dtype=str)\n",
    "sept13_deimos_table['Instrument'] = col_inst\n",
    "\n",
    "#this is the final table\n",
    "sept13_deimos_table"
   ]
  },
  {
   "cell_type": "markdown",
   "metadata": {},
   "source": [
    "# Arecibo Radio data"
   ]
  },
  {
   "cell_type": "code",
   "execution_count": 20,
   "metadata": {},
   "outputs": [
    {
     "data": {
      "text/html": [
       "&lt;Table length=44&gt;\n",
       "<table id=\"table5078361144\" class=\"table-striped table-bordered table-condensed\">\n",
       "<thead><tr><th>ID</th><th>RA</th><th>DEC</th><th>HI_data_source</th><th>Instrument</th><th>Date</th></tr></thead>\n",
       "<thead><tr><th>str11</th><th>float64</th><th>float64</th><th>str50</th><th>str13</th><th>str7</th></tr></thead>\n",
       "<tr><td>Bandamanna</td><td>1.12966</td><td>20.718</td><td>PSS-II</td><td>Arecibo_radio</td><td>unknown</td></tr>\n",
       "<tr><td>HarryPotter</td><td>20.2853</td><td>17.6022</td><td>none</td><td>Arecibo_radio</td><td>unknown</td></tr>\n",
       "<tr><td>HarryPotter</td><td>20.3285</td><td>17.7539</td><td>none</td><td>Arecibo_radio</td><td>unknown</td></tr>\n",
       "<tr><td>HarryPotter</td><td>20.5363</td><td>17.5281</td><td>none</td><td>Arecibo_radio</td><td>unknown</td></tr>\n",
       "<tr><td>HarryPotter</td><td>20.7769</td><td>17.8914</td><td>none</td><td>Arecibo_radio</td><td>unknown</td></tr>\n",
       "<tr><td>Narnia</td><td>39.5362</td><td>-1.3967</td><td>none</td><td>Arecibo_radio</td><td>unknown</td></tr>\n",
       "<tr><td>Narnia</td><td>39.9255</td><td>-1.41874</td><td>VLA resolved cluster field and probably not usable</td><td>Arecibo_radio</td><td>unknown</td></tr>\n",
       "<tr><td>StarTrek</td><td>123.243</td><td>36.1984</td><td>a3118</td><td>Arecibo_radio</td><td>unknown</td></tr>\n",
       "<tr><td>StarTrek</td><td>123.65</td><td>36.4344</td><td>a3118</td><td>Arecibo_radio</td><td>unknown</td></tr>\n",
       "<tr><td>MobyDick</td><td>149.687</td><td>32.7203</td><td>none</td><td>Arecibo_radio</td><td>unknown</td></tr>\n",
       "<tr><td>...</td><td>...</td><td>...</td><td>...</td><td>...</td><td>...</td></tr>\n",
       "<tr><td>Odyssey</td><td>248.581</td><td>19.72</td><td>a3118</td><td>Arecibo_radio</td><td>unknown</td></tr>\n",
       "<tr><td>Catch22</td><td>348.555</td><td>4.915</td><td>none</td><td>Arecibo_radio</td><td>unknown</td></tr>\n",
       "<tr><td>Catch22</td><td>348.621</td><td>4.50717</td><td>none</td><td>Arecibo_radio</td><td>unknown</td></tr>\n",
       "<tr><td>Catch22</td><td>348.644</td><td>4.49844</td><td>Springob 05</td><td>Arecibo_radio</td><td>unknown</td></tr>\n",
       "<tr><td>Catch22</td><td>348.697</td><td>4.63995</td><td>none</td><td>Arecibo_radio</td><td>unknown</td></tr>\n",
       "<tr><td>Catch22</td><td>348.777</td><td>4.3732</td><td>none</td><td>Arecibo_radio</td><td>unknown</td></tr>\n",
       "<tr><td>Catch22</td><td>348.874</td><td>4.61326</td><td>none</td><td>Arecibo_radio</td><td>unknown</td></tr>\n",
       "<tr><td>AnaK</td><td>353.779</td><td>0.301059</td><td>none</td><td>Arecibo_radio</td><td>unknown</td></tr>\n",
       "<tr><td>AnaK</td><td>354.195</td><td>0.623424</td><td>Impey 2001 (I think)</td><td>Arecibo_radio</td><td>unknown</td></tr>\n",
       "<tr><td>AnaK</td><td>354.351</td><td>0.390803</td><td>Springob 05</td><td>Arecibo_radio</td><td>unknown</td></tr>\n",
       "</table>"
      ],
      "text/plain": [
       "<Table length=44>\n",
       "     ID        RA     DEC    ...   Instrument    Date \n",
       "   str11    float64 float64  ...     str13       str7 \n",
       "----------- ------- -------- ... ------------- -------\n",
       " Bandamanna 1.12966   20.718 ... Arecibo_radio unknown\n",
       "HarryPotter 20.2853  17.6022 ... Arecibo_radio unknown\n",
       "HarryPotter 20.3285  17.7539 ... Arecibo_radio unknown\n",
       "HarryPotter 20.5363  17.5281 ... Arecibo_radio unknown\n",
       "HarryPotter 20.7769  17.8914 ... Arecibo_radio unknown\n",
       "     Narnia 39.5362  -1.3967 ... Arecibo_radio unknown\n",
       "     Narnia 39.9255 -1.41874 ... Arecibo_radio unknown\n",
       "   StarTrek 123.243  36.1984 ... Arecibo_radio unknown\n",
       "   StarTrek  123.65  36.4344 ... Arecibo_radio unknown\n",
       "   MobyDick 149.687  32.7203 ... Arecibo_radio unknown\n",
       "        ...     ...      ... ...           ...     ...\n",
       "    Odyssey 248.581    19.72 ... Arecibo_radio unknown\n",
       "    Catch22 348.555    4.915 ... Arecibo_radio unknown\n",
       "    Catch22 348.621  4.50717 ... Arecibo_radio unknown\n",
       "    Catch22 348.644  4.49844 ... Arecibo_radio unknown\n",
       "    Catch22 348.697  4.63995 ... Arecibo_radio unknown\n",
       "    Catch22 348.777   4.3732 ... Arecibo_radio unknown\n",
       "    Catch22 348.874  4.61326 ... Arecibo_radio unknown\n",
       "       AnaK 353.779 0.301059 ... Arecibo_radio unknown\n",
       "       AnaK 354.195 0.623424 ... Arecibo_radio unknown\n",
       "       AnaK 354.351 0.390803 ... Arecibo_radio unknown"
      ]
     },
     "execution_count": 20,
     "metadata": {},
     "output_type": "execute_result"
    }
   ],
   "source": [
    "radio_data = pd.read_excel('saga_hi_search.xlsx')\n",
    "#making the excel sheet into a table so easier to work with when comparing ra & dec\n",
    "a = radio_data['name']\n",
    "b = radio_data['ra']\n",
    "c = radio_data['dec']\n",
    "d = radio_data['HI_data_source']\n",
    "\n",
    "radio_data_table = Table([a, b, c, d], names=('ID','RA','DEC', 'HI_data_source')) #, meta={'name': 'first table'})\n",
    "\n",
    "#fixing id and HI columns to be strings instead of objects to make matching easier later\n",
    "colid = Column(radio_data_table['ID'], dtype=str)\n",
    "radio_data_table['ID'] = colid\n",
    "colHI = Column(radio_data_table['HI_data_source'], dtype=str)\n",
    "radio_data_table['HI_data_source'] = colHI\n",
    "\n",
    "#adding these columns to the table\n",
    "radio_data_table['Instrument'] = ('Arecibo_radio') #probably need to change name but for now radio is generic \n",
    "radio_data_table['Date'] = ('unknown') #get from erik - cant find in file\n",
    "radio_data_table #table name of radio data\n",
    "#these should all be SAGA satellites so might not need RA & DEC"
   ]
  },
  {
   "cell_type": "markdown",
   "metadata": {},
   "source": [
    "# Matching Data files to Spec data -- USING COORDS WITHIN A RANGE \n",
    "#### This part is Palomar May2015 *now matched-names-w/coords* "
   ]
  },
  {
   "cell_type": "code",
   "execution_count": 21,
   "metadata": {
    "collapsed": true
   },
   "outputs": [],
   "source": [
    "#first need to mask name-matched-data w/coords to enable code to run\n",
    "names2_may15_palomar = names_may15_palomar.filled(fill_value=-999)\n",
    "\n",
    "#converts names2_may15_palomar table's ra&dec into degrees via skycoord\n",
    "sc_may15 = SkyCoord(ra=names2_may15_palomar['RA'], dec=names2_may15_palomar['DEC'], unit=(u.hour, u.deg))\n",
    "\n",
    "#adding skycoord coords into table to use with matching b/c skycoord is made to do this\n",
    "names2_may15_palomar['coordinates'] = sc_may15"
   ]
  },
  {
   "cell_type": "code",
   "execution_count": 22,
   "metadata": {
    "collapsed": true
   },
   "outputs": [],
   "source": [
    "#actual matching by coords code\n",
    "\n",
    "#un-masking spec_data table\n",
    "spec_data2 = spec_data.filled(fill_value=-999)\n",
    "\n",
    "#telling where coords to match are\n",
    "ra2 = spec_data2['RA']\n",
    "dec2 = spec_data2['DEC']\n",
    "\n",
    "catalog = SkyCoord(ra=ra2*u.degree, dec=dec2*u.degree) #from spectral data\n",
    "#this actualy does the matching\n",
    "names_may15_palomar_matches = names2_may15_palomar['coordinates'].match_to_catalog_sky(catalog)\n",
    "\n",
    "#print ('***********************check these in SDSS!**************************************')\n",
    "names_may15_palomar_matches #palomar matches to fiber spectra table \n",
    "\n",
    "#NOTE can call above matches for each of these arrays then [0][i] for ith item in the array\n",
    "#names_coord_matches[0] = rows for catalog of matches\n",
    "#names_coord_matches[1] = the on sky angle separation for closest matches\n",
    "#names_coord_matches[2] = the 3D distance between closest matches\n",
    "\n",
    "\n",
    "#setting up to match with all spec data,not subset \n",
    "\n",
    "spec_data_all2 = spec_data_all.filled(fill_value=-999)\n",
    "ra3 = spec_data_all2['RA']\n",
    "dec3 = spec_data_all2['DEC']\n",
    "fullcatalog = SkyCoord(ra=ra3*u.degree, dec=dec3*u.degree)\n",
    "names_may15_palomar_matches_fullcat = names2_may15_palomar['coordinates'].match_to_catalog_sky(fullcatalog)\n"
   ]
  },
  {
   "cell_type": "code",
   "execution_count": 23,
   "metadata": {},
   "outputs": [
    {
     "data": {
      "text/plain": [
       "(array([43, 44, 45]),)"
      ]
     },
     "execution_count": 23,
     "metadata": {},
     "output_type": "execute_result"
    }
   ],
   "source": [
    "#checking matches to within 1 arcsec \n",
    "d2d = names_may15_palomar_matches[1]\n",
    "subset_may15 = np.where(d2d<(1*u.arcsec))\n",
    "subset_may15 #again this is a small # of matches within 1\" NO ITS NOT THERE *SHOULD* BE ONLY 3!!!\n",
    "#these are the rows in names2_may15_palomar that matched with spec_data2!!!!"
   ]
  },
  {
   "cell_type": "code",
   "execution_count": 24,
   "metadata": {},
   "outputs": [
    {
     "data": {
      "text/html": [
       "&lt;Table length=3&gt;\n",
       "<table id=\"table5070751392\" class=\"table-striped table-bordered table-condensed\">\n",
       "<thead><tr><th>ID</th><th>RA</th><th>DEC</th><th>Date</th><th>exp_time</th><th>Instrument</th><th>coordinates</th></tr></thead>\n",
       "<thead><tr><th></th><th></th><th></th><th></th><th></th><th></th><th>deg,deg</th></tr></thead>\n",
       "<thead><tr><th>str40</th><th>str13</th><th>str14</th><th>str7</th><th>float64</th><th>str19</th><th>object</th></tr></thead>\n",
       "<tr><td>ody2</td><td>16 31 30.573</td><td>+20 05 37.0494</td><td>5-11-15</td><td>-999.0</td><td>Palomar_Double_Spec</td><td>247.87738749999994,20.093624833333333</td></tr>\n",
       "<tr><td>ody4</td><td>16 32 36.4991</td><td>+19 48 36.9329</td><td>5/10/15</td><td>600.0</td><td>Palomar_Double_Spec</td><td>248.15207958333335,19.81025913888889</td></tr>\n",
       "<tr><td>ody7</td><td>16 32 39.2224</td><td>+19 47 31.9473</td><td>5-12-15</td><td>600.0</td><td>Palomar_Double_Spec</td><td>248.16342666666665,19.792207583333337</td></tr>\n",
       "</table>"
      ],
      "text/plain": [
       "<Table length=3>\n",
       "  ID        RA      ...              coordinates             \n",
       "                    ...                deg,deg               \n",
       "str40     str13     ...                 object               \n",
       "----- ------------- ... -------------------------------------\n",
       " ody2  16 31 30.573 ... 247.87738749999994,20.093624833333333\n",
       " ody4 16 32 36.4991 ...  248.15207958333335,19.81025913888889\n",
       " ody7 16 32 39.2224 ... 248.16342666666665,19.792207583333337"
      ]
     },
     "execution_count": 24,
     "metadata": {},
     "output_type": "execute_result"
    }
   ],
   "source": [
    "#these are rows in palomar may2015 data that matched ra&decs in spec_data2 to within 1\"\n",
    "names2_may15_palomar[43:46] "
   ]
  },
  {
   "cell_type": "code",
   "execution_count": 25,
   "metadata": {},
   "outputs": [
    {
     "data": {
      "text/plain": [
       "(array([ 99, 100, 101]),)"
      ]
     },
     "execution_count": 25,
     "metadata": {},
     "output_type": "execute_result"
    }
   ],
   "source": [
    "#quick verification of matches to spec_data2\n",
    "names_may15_palomar_matches_test = catalog.match_to_catalog_sky(names2_may15_palomar['coordinates'])\n",
    "\n",
    "#names_may15_palomar_matches_test\n",
    "d2d_test = names_may15_palomar_matches_test[1]\n",
    "subset_may15_test = np.where(d2d_test<(1*u.arcsec))\n",
    "subset_may15_test"
   ]
  },
  {
   "cell_type": "code",
   "execution_count": 26,
   "metadata": {},
   "outputs": [
    {
     "name": "stdout",
     "output_type": "stream",
     "text": [
      "yup these match above coords within 1\"!\n",
      "       OBJID              RA           DEC      ... SPEC_HA_EW SPEC_HA_EWERR\n",
      "------------------- ------------- ------------- ... ---------- -------------\n",
      "1237662224092364842 247.877387573 20.0936248407 ...      -99.0         -99.0\n",
      "1237662698115433445  248.16342684  19.792207594 ...      -99.0         -99.0\n",
      "1237662698115432783 248.152079686 19.8102591366 ...      -99.0         -99.0\n"
     ]
    }
   ],
   "source": [
    "print ('yup these match above coords within 1\"!')\n",
    "print (spec_data2[99:102])"
   ]
  },
  {
   "cell_type": "markdown",
   "metadata": {},
   "source": [
    "#### This part is Palomar May2017 *now matched-names-w/coords* "
   ]
  },
  {
   "cell_type": "code",
   "execution_count": 27,
   "metadata": {},
   "outputs": [
    {
     "data": {
      "text/plain": [
       "(array([ 0,  1,  2,  3,  4,  5,  6,  7,  8,  9, 10, 11, 12, 13, 14, 15, 16,\n",
       "        17, 18, 19, 20, 21, 22, 23, 24, 25, 26, 27, 28, 29, 30, 31, 32]),)"
      ]
     },
     "execution_count": 27,
     "metadata": {},
     "output_type": "execute_result"
    }
   ],
   "source": [
    "#converts names_may17_palomar table's ra&dec into degrees via skycoord\n",
    "sc_may17 = SkyCoord(ra=names_may17_palomar['RA'], dec=names_may17_palomar['DEC'], unit=(u.hour, u.deg))\n",
    "\n",
    "#adding skycoord coords into table to use with matching b/c skycoord is made to do this\n",
    "names_may17_palomar['coordinates'] = sc_may17\n",
    "\n",
    "#most setup in palomar_may17 above so can just type this line b/c defs are above\n",
    "names_may17_palomar_matches = names_may17_palomar['coordinates'].match_to_catalog_sky(catalog)\n",
    "#names_may17_palomar_matches[0]\n",
    "\n",
    "#checking matches to within 1 arcsec \n",
    "d2d_may17 = names_may17_palomar_matches[1]\n",
    "subset_may17 = np.where(d2d_may17<(1*u.arcsec))\n",
    "subset_may17 "
   ]
  },
  {
   "cell_type": "code",
   "execution_count": 28,
   "metadata": {},
   "outputs": [
    {
     "data": {
      "text/html": [
       "&lt;Table length=33&gt;\n",
       "<table id=\"table5070751672\" class=\"table-striped table-bordered table-condensed\">\n",
       "<thead><tr><th>ID</th><th>RA</th><th>DEC</th><th>Date</th><th>Instrument</th><th>exp_time</th><th>coordinates</th></tr></thead>\n",
       "<thead><tr><th></th><th></th><th></th><th></th><th></th><th></th><th>deg,deg</th></tr></thead>\n",
       "<thead><tr><th>str100</th><th>str13</th><th>str13</th><th>str48</th><th>object</th><th>float64</th><th>object</th></tr></thead>\n",
       "<tr><td>48721248845970-Dune</td><td>14:45:15.8678</td><td>-0:09:35.7735</td><td>2017-05-17T00:00:00.000000000</td><td>Palomar_Double_Spec</td><td>600.0</td><td>221.3161158333333,-0.15993708333333334</td></tr>\n",
       "<tr><td>50372092690464-Alice</td><td>12:01:10.9061</td><td>-1:17:51.6618</td><td>2017-05-19T00:00:00.000000000</td><td>Palomar_CWI</td><td>1200.0</td><td>180.2954420833333,-1.2976838333333331</td></tr>\n",
       "<tr><td>50372092690464-Alice</td><td>12:01:10.9061</td><td>-1:17:51.6618</td><td>2017-05-20T00:00:00.000000000</td><td>Palomar_CWI</td><td>960.0</td><td>180.2954420833333,-1.2976838333333331</td></tr>\n",
       "<tr><td>50372092690464-Alice</td><td>12:01:10.9061</td><td>-1:17:51.6618</td><td>2017-05-19T00:00:00.000000000</td><td>Palomar_CWI</td><td>90.0</td><td>180.2954420833333,-1.2976838333333331</td></tr>\n",
       "<tr><td>50372092690464-Alice</td><td>12:01:10.9061</td><td>-1:17:51.6618</td><td>2017-05-20T00:00:00.000000000</td><td>Palomar_CWI</td><td>90.0</td><td>180.2954420833333,-1.2976838333333331</td></tr>\n",
       "<tr><td>57607497318756-StarTrek</td><td>8:12:58.3616</td><td>36:11:54.0959</td><td>2017-05-18T00:00:00.000000000</td><td>Palomar_Double_Spec</td><td>600.0</td><td>123.2431733333333,36.19835997222222</td></tr>\n",
       "<tr><td>57607497515484-StarTrek</td><td>8:14:35.9754</td><td>36:26:03.6794</td><td>2017-05-18T00:00:00.000000000</td><td>Palomar_Double_Spec</td><td>600.0</td><td>123.64989749999997,36.43435538888888</td></tr>\n",
       "<tr><td>62224092496776-Odyssey</td><td>16:32:46.8885</td><td>19:52:01.2456</td><td>2017-05-18T00:00:00.000000000</td><td>Palomar_Double_Spec</td><td>900.0</td><td>248.19536875,19.867012666666668</td></tr>\n",
       "<tr><td>62662147310256-Odyssey</td><td>16:31:18.2141</td><td>20:12:39.1636</td><td>2017-05-20T00:00:00.000000000</td><td>Palomar_CWI</td><td>90.0</td><td>247.8258920833333,20.210878777777776</td></tr>\n",
       "<tr><td>...</td><td>...</td><td>...</td><td>...</td><td>...</td><td>...</td><td>...</td></tr>\n",
       "<tr><td>67287812735027-Oz</td><td>10:31:06.7858</td><td>28:47:47.9213</td><td>2017-05-19T00:00:00.000000000</td><td>Palomar_CWI</td><td>90.0</td><td>157.77827416666668,28.79664480555556</td></tr>\n",
       "<tr><td>67287812735027-Oz</td><td>10:31:06.7858</td><td>28:47:47.9213</td><td>2017-05-20T00:00:00.000000000</td><td>Palomar_CWI</td><td>1200.0</td><td>157.77827416666668,28.79664480555556</td></tr>\n",
       "<tr><td>68298203070473-ScoobyDoo</td><td>12:09:42.7306</td><td>20:02:48.9075</td><td>2017-05-17T00:00:00.000000000</td><td>Palomar_Double_Spec</td><td>900.0</td><td>182.42804416666664,20.046918750000003</td></tr>\n",
       "<tr><td>68298203070473-ScoobyDoo</td><td>12:09:42.7306</td><td>20:02:48.9075</td><td>2017-05-18T00:00:00.000000000</td><td>Palomar_Double_Spec</td><td>900.0</td><td>182.42804416666664,20.046918750000003</td></tr>\n",
       "<tr><td>68298203267092-ScoobyDoo</td><td>12:11:57.76</td><td>20:01:40.2553</td><td>2017-05-20T00:00:00.000000000</td><td>Palomar_CWI</td><td>90.0</td><td>182.99066666666664,20.027848694444444</td></tr>\n",
       "<tr><td>68298203267092-ScoobyDoo</td><td>12:11:57.76</td><td>20:01:40.2553</td><td>2017-05-20T00:00:00.000000000</td><td>Palomar_CWI</td><td>1200.0</td><td>182.99066666666664,20.027848694444444</td></tr>\n",
       "<tr><td>68298203267092-ScoobyDoo</td><td>12:11:57.76</td><td>20:01:40.2553</td><td>2017-05-19T00:00:00.000000000</td><td>Palomar_CWI</td><td>600.0</td><td>182.99066666666664,20.027848694444444</td></tr>\n",
       "<tr><td>79005021831220-Catch22</td><td>23:14:34.5159</td><td>4:29:54.3966</td><td>2017-05-17T00:00:00.000000000</td><td>Palomar_Double_Spec</td><td>200.0</td><td>348.64381625,4.4984435000000005</td></tr>\n",
       "<tr><td>79996084617517-OBrother</td><td>22:23:55.1943</td><td>-3:16:13.9749</td><td>2017-05-18T00:00:00.000000000</td><td>Palomar_Double_Spec</td><td>400.0</td><td>335.97997625,-3.2705485833333334</td></tr>\n",
       "<tr><td>80066954264778-OBrother</td><td>22:23:20.7133</td><td>-3:39:35.2895</td><td>2017-05-18T00:00:00.000000000</td><td>Palomar_Double_Spec</td><td>400.0</td><td>335.8363054166666,-3.659802638888889</td></tr>\n",
       "</table>"
      ],
      "text/plain": [
       "<Table length=33>\n",
       "           ID            ...              coordinates              \n",
       "                         ...                deg,deg                \n",
       "         str100          ...                 object                \n",
       "------------------------ ... --------------------------------------\n",
       "     48721248845970-Dune ... 221.3161158333333,-0.15993708333333334\n",
       "    50372092690464-Alice ...  180.2954420833333,-1.2976838333333331\n",
       "    50372092690464-Alice ...  180.2954420833333,-1.2976838333333331\n",
       "    50372092690464-Alice ...  180.2954420833333,-1.2976838333333331\n",
       "    50372092690464-Alice ...  180.2954420833333,-1.2976838333333331\n",
       " 57607497318756-StarTrek ...    123.2431733333333,36.19835997222222\n",
       " 57607497515484-StarTrek ...   123.64989749999997,36.43435538888888\n",
       "  62224092496776-Odyssey ...        248.19536875,19.867012666666668\n",
       "  62662147310256-Odyssey ...   247.8258920833333,20.210878777777776\n",
       "                     ... ...                                    ...\n",
       "       67287812735027-Oz ...   157.77827416666668,28.79664480555556\n",
       "       67287812735027-Oz ...   157.77827416666668,28.79664480555556\n",
       "68298203070473-ScoobyDoo ...  182.42804416666664,20.046918750000003\n",
       "68298203070473-ScoobyDoo ...  182.42804416666664,20.046918750000003\n",
       "68298203267092-ScoobyDoo ...  182.99066666666664,20.027848694444444\n",
       "68298203267092-ScoobyDoo ...  182.99066666666664,20.027848694444444\n",
       "68298203267092-ScoobyDoo ...  182.99066666666664,20.027848694444444\n",
       "  79005021831220-Catch22 ...        348.64381625,4.4984435000000005\n",
       " 79996084617517-OBrother ...       335.97997625,-3.2705485833333334\n",
       " 80066954264778-OBrother ...   335.8363054166666,-3.659802638888889"
      ]
     },
     "execution_count": 28,
     "metadata": {},
     "output_type": "execute_result"
    }
   ],
   "source": [
    "names_may17_palomar[0:33] #these are the names rows that matched in spec_data2 to within 1\""
   ]
  },
  {
   "cell_type": "markdown",
   "metadata": {},
   "source": [
    "#### This part is Palomar Nov2015 *now matched-names-w/coords* "
   ]
  },
  {
   "cell_type": "code",
   "execution_count": 29,
   "metadata": {},
   "outputs": [
    {
     "data": {
      "text/plain": [
       "(array([ 0,  1,  2,  7,  8,  9, 14]),)"
      ]
     },
     "execution_count": 29,
     "metadata": {},
     "output_type": "execute_result"
    }
   ],
   "source": [
    "#un-masking table\n",
    "names_nov15_palomar_fixed = names_nov15_palomar.filled(fill_value=999)\n",
    "\n",
    "#converts names_nov15_palomar table's ra&dec into degrees via skycoord\n",
    "sc_nov15 = SkyCoord(ra=names_nov15_palomar_fixed['RA'], dec=names_nov15_palomar_fixed['DEC'], unit=(u.hour, u.deg))\n",
    "\n",
    "#adding skycoord coords into table to use with matching b/c skycoord is made to do this\n",
    "names_nov15_palomar_fixed['coordinates'] = sc_nov15\n",
    "\n",
    "\n",
    "#this actualy does the matching\n",
    "names_nov15_palomar_matches = names_nov15_palomar_fixed['coordinates'].match_to_catalog_sky(catalog)\n",
    "\n",
    "#checking matches to within 1 arcsec \n",
    "d2d_nov15 = names_nov15_palomar_matches[1]\n",
    "subset_nov15 = np.where(d2d_nov15<(1*u.arcsec))\n",
    "subset_nov15"
   ]
  },
  {
   "cell_type": "code",
   "execution_count": 30,
   "metadata": {},
   "outputs": [
    {
     "data": {
      "text/html": [
       "&lt;Table length=4&gt;\n",
       "<table id=\"table4700813016\" class=\"table-striped table-bordered table-condensed\">\n",
       "<thead><tr><th>ID</th><th>RA</th><th>DEC</th><th>Date</th><th>Instrument</th><th>exp_time</th><th>coordinates</th></tr></thead>\n",
       "<thead><tr><th></th><th></th><th></th><th></th><th></th><th></th><th>deg,deg</th></tr></thead>\n",
       "<thead><tr><th>str44</th><th>str13</th><th>str14</th><th>str7</th><th>str19</th><th>str14</th><th>object</th></tr></thead>\n",
       "<tr><td>Beowulf_1</td><td>09 06 00.93</td><td>+25 28 11.70</td><td>11/8/15</td><td>Palomar_Double_Spec</td><td>900</td><td>136.50387499999997,25.469916666666666</td></tr>\n",
       "<tr><td>Beowulf_2</td><td>09 07 08.29</td><td>+25 20 33.27</td><td>11/8/15</td><td>Palomar_Double_Spec</td><td>300</td><td>136.78454166666666,25.342575</td></tr>\n",
       "<tr><td>Beowulf_3</td><td>09 06 00.94</td><td>+25 22 33.58</td><td>11/8/15</td><td>Palomar_Double_Spec</td><td>600</td><td>136.50391666666664,25.375994444444444</td></tr>\n",
       "<tr><td>Beowulf_4</td><td>09 06 12.49</td><td>+25 47 01.04</td><td>11/8/15</td><td>Palomar_Double_Spec</td><td>600(420oflost)</td><td>136.55204166666664,25.783622222222224</td></tr>\n",
       "</table>"
      ],
      "text/plain": [
       "<Table length=4>\n",
       "    ID         RA     ...    exp_time                 coordinates             \n",
       "                      ...                               deg,deg               \n",
       "  str44      str13    ...     str14                      object               \n",
       "--------- ----------- ... -------------- -------------------------------------\n",
       "Beowulf_1 09 06 00.93 ...            900 136.50387499999997,25.469916666666666\n",
       "Beowulf_2 09 07 08.29 ...            300          136.78454166666666,25.342575\n",
       "Beowulf_3 09 06 00.94 ...            600 136.50391666666664,25.375994444444444\n",
       "Beowulf_4 09 06 12.49 ... 600(420oflost) 136.55204166666664,25.783622222222224"
      ]
     },
     "execution_count": 30,
     "metadata": {},
     "output_type": "execute_result"
    }
   ],
   "source": [
    "#is this a saga satellite tho? - its def a satellite, but host coords dont appear in saga paper so ok not include\n",
    "names_nov15_palomar_fixed[3:7] \n"
   ]
  },
  {
   "cell_type": "code",
   "execution_count": 31,
   "metadata": {
    "collapsed": true
   },
   "outputs": [],
   "source": [
    "#all matched rows\n",
    "t1_nov15_palomar = names_nov15_palomar_fixed[0:3]\n",
    "t2_nov15_palomar = names_nov15_palomar_fixed[7:10]\n",
    "t3_nov15_palomar = names_nov15_palomar_fixed[14:15]\n",
    "\n",
    "#cant make all rows into one table - mixin column problems??\n",
    "#table_nov15 = vstack([t1_nov15_palomar, t2_nov15_palomar, t3_nov15_palomar])\n",
    "#table_nov15"
   ]
  },
  {
   "cell_type": "markdown",
   "metadata": {},
   "source": [
    "#### This part is Keck Deimos --sept13 & sept14 & may15-- "
   ]
  },
  {
   "cell_type": "code",
   "execution_count": 32,
   "metadata": {
    "collapsed": true
   },
   "outputs": [],
   "source": [
    "#gonna join all deimos tables\n",
    "from astropy.table import Table, vstack\n",
    "obs1 = sept13_deimos_table\n",
    "obs2 = sept14_deimos_table\n",
    "obs3 = may15_deimos_table\n",
    "#obs4 = marapr2016_deimos #couldnt add, will do separately later\n",
    "deimos_most = vstack([obs1, obs2, obs3])\n",
    "#deimos_all = vstack([obs1, obs2, obs3, obs4]) #this gives mixin column problems wtf?\n",
    "\n",
    "#removing an error value that was in RA column preventing matching - just an alignment neway\n",
    "check = np.where(deimos_most['RA'] != '!KeyError!')\n",
    "deimos_most_fixed = deimos_most[check]\n",
    "\n",
    "#first insert skycoords to do ra&dec conversions\n",
    "sc_deimos = SkyCoord(ra=deimos_most_fixed['RA'], dec=deimos_most_fixed['DEC'], unit=(u.hour, u.deg))\n",
    "#adding skycoord coords into table to use with matching b/c skycoord is made to do this\n",
    "deimos_most_fixed['coordinates'] = sc_deimos\n",
    "#deimos_most_fixed"
   ]
  },
  {
   "cell_type": "code",
   "execution_count": 33,
   "metadata": {},
   "outputs": [
    {
     "data": {
      "text/plain": [
       "array([105, 105, 105, 106, 104, 104, 103, 100, 100, 100, 118, 118, 118,\n",
       "       118,  22,  23,  23,  23,   3,   3, 104, 104, 104, 104, 104, 104,\n",
       "       100, 100, 118, 118,  22,  22,  22,  23,   3,   3,  25,  25,  25,\n",
       "        25,  25,  25,  25,  25,  25,  25,  25,  25,  25,  25,  25,  25,\n",
       "        25,  25,  25,  25,  25,  25,  25,  25,  25,  25,  25,  25,  25,\n",
       "        25,  25,  25,  25,  25,  25,  25,  25,  25,  25,  25,  25,  25,\n",
       "        25,  25,  25,  25,  25,  25,  25,  25,  25,  25,  25,  25,  25,\n",
       "        98,  98,  98,  98,  98,  98,  99, 166, 166, 103, 103, 103, 103,\n",
       "       102, 102, 102,  22,  22,  22,  22,  22,  22,  22,  22,  22,  22,\n",
       "        22,  22,  22,  22,  22,  22,  22,  22,  22,  22,  22,  22,  22,\n",
       "        22,  22,  22,  22,  22,  22,  22,  22,  22,  22,  22,  22,  22,\n",
       "        22,  22,  22,  31,  31,  31,  31,  25,  30,  30,  30,  30,  30,\n",
       "        11,  25,  25,  25,  25,  25,  25,  25,  25,  25,  25,  25,  25,\n",
       "        25,  25,  25,  25,  25,  25,  25,  25,  25,  25,  25,  25,  25,\n",
       "        25,  25,  25,  25,  25,  25,  25,  25,  25,  25,  25,  25,  25,\n",
       "        25,  25,  25,  25,  25,  83,  83,  83,  83,   8,   8,   8,   7,\n",
       "         7,   7,  85,  85,  80,  80,  80,  80,  80,  80,  80,  80,  80,\n",
       "       104, 104, 104, 104, 104, 104, 104, 104, 104, 104, 104, 104, 104,\n",
       "       104, 104, 104, 104, 104, 104, 104, 104, 104, 101, 101, 101,  11,\n",
       "        11,  12, 118, 118])"
      ]
     },
     "execution_count": 33,
     "metadata": {},
     "output_type": "execute_result"
    }
   ],
   "source": [
    "#most setup in palomar_may17 above so can just type this line b/c defs are above\n",
    "deimos_most_fixed_matches = deimos_most_fixed['coordinates'].match_to_catalog_sky(catalog)\n",
    "deimos_most_fixed_matches[0]"
   ]
  },
  {
   "cell_type": "code",
   "execution_count": 34,
   "metadata": {},
   "outputs": [
    {
     "data": {
      "text/plain": [
       "(array([104, 105, 106, 200, 201, 202, 203, 204, 205, 206, 243, 244, 245,\n",
       "        246, 247]),)"
      ]
     },
     "execution_count": 34,
     "metadata": {},
     "output_type": "execute_result"
    }
   ],
   "source": [
    "#checking matches to within a certain radius #min radius of 2\" to get 3 matches\n",
    "d2d_deimos = deimos_most_fixed_matches[1]\n",
    "subset_deimos = np.where(d2d_deimos<(3*u.arcsec)) #sticking with 3\" to give 15 matches, 9\" gives 18 matches tho,10\"=22 matches\n",
    "subset_deimos #this is def missing some targets (ex 97) - approx 95 should be saga tho"
   ]
  },
  {
   "cell_type": "code",
   "execution_count": 35,
   "metadata": {
    "collapsed": true
   },
   "outputs": [],
   "source": [
    "#104, 105, 106, 200, 201, 202, 203, 204, 205, 206, 243, 244, 245,\n",
    "#        246, 247\n",
    "#deimos_1 = deimos_most_fixed[104:107]\n",
    "#deimos_2 = deimos_most_fixed[200:207]\n",
    "#deimos_3 = deimos_most_fixed[243:248]"
   ]
  },
  {
   "cell_type": "code",
   "execution_count": 36,
   "metadata": {},
   "outputs": [
    {
     "data": {
      "text/html": [
       "&lt;Row index=209&gt;\n",
       "<table id=\"table5070751280\">\n",
       "<thead><tr><th>Date</th><th>ID</th><th>RA</th><th>DEC</th><th>Exp_time</th><th>Instrument</th><th>coordinates</th></tr></thead>\n",
       "<thead><tr><th></th><th></th><th></th><th></th><th></th><th></th><th>deg,deg</th></tr></thead>\n",
       "<thead><tr><th>str36</th><th>str116</th><th>str44</th><th>str48</th><th>str84</th><th>str44</th><th>object</th></tr></thead>\n",
       "<tr><td>5-17-2015</td><td>&quot;&quot;Star_Trek_2&quot;&quot;</td><td>08:12:59.00</td><td>+36:11:52.6</td><td>200</td><td>Keck_deimos</td><td>123.24583333333331,36.19794444444444</td></tr>\n",
       "</table>"
      ],
      "text/plain": [
       "<Row index=209>\n",
       "   Date          ID            RA         DEC     Exp_time  Instrument             coordinates             \n",
       "                                                                                     deg,deg               \n",
       "  str36        str116        str44       str48     str84      str44                   object               \n",
       "--------- --------------- ----------- ----------- -------- ----------- ------------------------------------\n",
       "5-17-2015 \"\"Star_Trek_2\"\" 08:12:59.00 +36:11:52.6      200 Keck_deimos 123.24583333333331,36.19794444444444"
      ]
     },
     "execution_count": 36,
     "metadata": {},
     "output_type": "execute_result"
    }
   ],
   "source": [
    "deimos_most_fixed[209]"
   ]
  },
  {
   "cell_type": "code",
   "execution_count": 37,
   "metadata": {},
   "outputs": [
    {
     "data": {
      "text/plain": [
       "(array([ 97, 104, 105, 106, 148, 149, 200, 201, 202, 203, 204, 205, 206,\n",
       "        243, 244, 245, 246, 247]),)"
      ]
     },
     "execution_count": 37,
     "metadata": {},
     "output_type": "execute_result"
    }
   ],
   "source": [
    "#testing matching with fullcatalog to see if same result\n",
    "deimos_most_fixed_matches_fullcat = deimos_most_fixed['coordinates'].match_to_catalog_sky(fullcatalog)\n",
    "#print (len(deimos_most_fixed_matches_fullcat[0])) #251 same as deimos_most_fixed\n",
    "d2d_deimos_test = deimos_most_fixed_matches_fullcat[1]\n",
    "subset_deimos_fullcat = np.where(d2d_deimos_test<(3*u.arcsec)) \n",
    "subset_deimos_fullcat\n",
    "#this isnt good theres 3 more matches than with the subset BUT it includes 97\n",
    "#deimos_most_fixed[97]"
   ]
  },
  {
   "cell_type": "code",
   "execution_count": 38,
   "metadata": {},
   "outputs": [
    {
     "name": "stdout",
     "output_type": "stream",
     "text": [
      "these are the spec_all rows that should match deimos rows in cell below: [42254 42254 42254 42344 41425 41425 41993]\n",
      "this is 42254:       RA           DEC      SATS REMOVE\n",
      "------------- ------------- ---- ------\n",
      "247.855690028 20.1434809452    0     -1\n",
      "this is 42344:       RA           DEC      SATS REMOVE\n",
      "------------- ------------- ---- ------\n",
      "248.407789245 19.9097245973    0     -1\n",
      "this is 41425:      RA           DEC      SATS REMOVE\n",
      "------------ ------------- ---- ------\n",
      "248.02863847 19.6926603699    0     -1\n",
      "this is 41993:       RA           DEC      SATS REMOVE\n",
      "------------- ------------- ---- ------\n",
      "248.342933442 19.4571322728    0     -1\n",
      "these are the spec_all rows that should match deimos rows in cell below: 41427\n",
      "this is 41427:      RA           DEC      SATS REMOVE\n",
      "------------ ------------- ---- ------\n",
      "248.19457473 19.7825594351    0     -1\n",
      "these are the spec_all rows that should match deimos rows in cell below: [41425 42300 42300 40939 42145 42145]\n",
      "this is 41425:      RA           DEC      SATS REMOVE\n",
      "------------ ------------- ---- ------\n",
      "248.02863847 19.6926603699    0     -1\n",
      "this is 42300:       RA           DEC      SATS REMOVE\n",
      "------------- ------------- ---- ------\n",
      "248.294838957 19.4932354849    0     -1\n",
      "this is 40939:       RA           DEC      SATS REMOVE\n",
      "------------- ------------- ---- ------\n",
      "248.307496806 19.4835868758    0     -1\n",
      "this is 42145:      RA           DEC      SATS REMOVE\n",
      "------------ ------------- ---- ------\n",
      "248.32293694 19.5276011837    0     -1\n",
      "these are the spec_all rows that should match deimos rows in cell below: [65746 65746 41334 41334 41334 41334]\n",
      "this is 65746:       RA           DEC      SATS REMOVE\n",
      "------------- ------------- ---- ------\n",
      "234.531493815 17.0144291096    0     -1\n",
      "this is 41334:       RA           DEC      SATS REMOVE\n",
      "------------- ------------- ---- ------\n",
      "248.580638518 19.7208013394    1     -1\n",
      "these are the spec_all rows that should match deimos rows in cell below: [3700 3700 3700]\n",
      "this is 3700:       RA          DEC      SATS REMOVE\n",
      "------------- ------------ ---- ------\n",
      "123.243173206 36.198359966    1     -1\n",
      "these are the spec_all rows that should match deimos rows in cell below: 7758\n",
      "this is 7758:       RA           DEC      SATS REMOVE\n",
      "------------- ------------- ---- ------\n",
      "354.195229736 0.62342377148    1     -1\n"
     ]
    }
   ],
   "source": [
    "#testing non matches that shouldve\n",
    "print ('these are the spec_all rows that should match deimos rows in cell below:', deimos_most_fixed_matches_fullcat[0][0:7])\n",
    "print ('this is 42254:',spec_data_all2['RA','DEC','SATS','REMOVE'][42254])\n",
    "print ('this is 42344:',spec_data_all2['RA','DEC','SATS','REMOVE'][42344])\n",
    "print ('this is 41425:',spec_data_all2['RA','DEC','SATS','REMOVE'][41425])\n",
    "print ('this is 41993:',spec_data_all2['RA','DEC','SATS','REMOVE'][41993])\n",
    "print ('these are the spec_all rows that should match deimos rows in cell below:', deimos_most_fixed_matches_fullcat[0][9])\n",
    "print ('this is 41427:',spec_data_all2['RA','DEC','SATS','REMOVE'][41427])\n",
    "print ('these are the spec_all rows that should match deimos rows in cell below:', deimos_most_fixed_matches_fullcat[0][22:28])\n",
    "print ('this is 41425:',spec_data_all2['RA','DEC','SATS','REMOVE'][41425])\n",
    "print ('this is 42300:',spec_data_all2['RA','DEC','SATS','REMOVE'][42300])\n",
    "print ('this is 40939:',spec_data_all2['RA','DEC','SATS','REMOVE'][40939])\n",
    "print ('this is 42145:',spec_data_all2['RA','DEC','SATS','REMOVE'][42145])\n",
    "print ('these are the spec_all rows that should match deimos rows in cell below:', deimos_most_fixed_matches_fullcat[0][98:104])\n",
    "print ('this is 65746:',spec_data_all2['RA','DEC','SATS','REMOVE'][65746])\n",
    "print ('this is 41334:',spec_data_all2['RA','DEC','SATS','REMOVE'][41334])\n",
    "print ('these are the spec_all rows that should match deimos rows in cell below:', deimos_most_fixed_matches_fullcat[0][207:210])\n",
    "print ('this is 3700:',spec_data_all2['RA','DEC','SATS','REMOVE'][3700])\n",
    "print ('these are the spec_all rows that should match deimos rows in cell below:', deimos_most_fixed_matches_fullcat[0][248])\n",
    "print ('this is 7758:',spec_data_all2['RA','DEC','SATS','REMOVE'][7758])"
   ]
  },
  {
   "cell_type": "code",
   "execution_count": 39,
   "metadata": {},
   "outputs": [
    {
     "data": {
      "text/html": [
       "&lt;Row index=248&gt;\n",
       "<table id=\"table5070751280\">\n",
       "<thead><tr><th>Date</th><th>ID</th><th>RA</th><th>DEC</th><th>Exp_time</th><th>Instrument</th><th>coordinates</th></tr></thead>\n",
       "<thead><tr><th></th><th></th><th></th><th></th><th></th><th></th><th>deg,deg</th></tr></thead>\n",
       "<thead><tr><th>str36</th><th>str116</th><th>str44</th><th>str48</th><th>str84</th><th>str44</th><th>object</th></tr></thead>\n",
       "<tr><td>5-17-2015</td><td>&quot;&quot;AnaK_2&quot;&quot;</td><td>23:36:47.34</td><td>+00:37:33.1</td><td>200</td><td>Keck_deimos</td><td>354.19725,0.6258611111111111</td></tr>\n",
       "</table>"
      ],
      "text/plain": [
       "<Row index=248>\n",
       "   Date       ID          RA         DEC     Exp_time  Instrument         coordinates         \n",
       "                                                                            deg,deg           \n",
       "  str36     str116      str44       str48     str84      str44               object           \n",
       "--------- ---------- ----------- ----------- -------- ----------- ----------------------------\n",
       "5-17-2015 \"\"AnaK_2\"\" 23:36:47.34 +00:37:33.1      200 Keck_deimos 354.19725,0.6258611111111111"
      ]
     },
     "execution_count": 39,
     "metadata": {},
     "output_type": "execute_result"
    }
   ],
   "source": [
    "#print (deimos_most_fixed[0:7])\n",
    "#print (deimos_most_fixed[9])\n",
    "#print (deimos_most_fixed[22:28])\n",
    "#print (deimos_most_fixed[98:104])\n",
    "#print (deimos_most_fixed[207:210])\n",
    "deimos_most_fixed[248]"
   ]
  },
  {
   "cell_type": "code",
   "execution_count": 40,
   "metadata": {},
   "outputs": [
    {
     "name": "stdout",
     "output_type": "stream",
     "text": [
      "this is row number of full cat data that will match deimos data row: 42648\n",
      "      RA           DEC      HOST_SAGA_NAME SATS REMOVE\n",
      "------------- ------------- -------------- ---- ------\n",
      "247.306083596 19.8387073369         147100    2     -1\n",
      "this is deimos row 97 that should match above   ID     Date           coordinates         \n",
      "                          deg,deg           \n",
      "----- --------- ----------------------------\n",
      "ody_6 9-23-2014 247.30675,19.838638888888887\n",
      "ask erik b/c i think 97 should be a sat but its sats value is 2 not 1...mistake? - this is why fullcat/selected cat differs too\n",
      "below has same problem but are DEF NOT saga even tho it is a galaxy\n",
      "this is row number of full cat data that will match deimos data row: 19766\n",
      "this is 19766:       RA            DEC       HOST_SAGA_NAME SATS REMOVE\n",
      "------------- --------------- -------------- ---- ------\n",
      "39.1199202588 -0.974926414101         132339    2     -1\n",
      "this is row number of full cat data that will match deimos data row: 19766\n",
      "this is deimos rows that should match 19766:        ID                 coordinates         \n",
      "                            deg,deg           \n",
      "---------------- -----------------------------\n",
      "n132339_satcand1 39.119125,-0.9746944444444444\n",
      "n132339_satcand1 39.119125,-0.9746944444444444\n"
     ]
    }
   ],
   "source": [
    "print (\"this is row number of full cat data that will match deimos data row:\", deimos_most_fixed_matches_fullcat[0][97])\n",
    "print (spec_data_all2['RA', 'DEC','HOST_SAGA_NAME','SATS', 'REMOVE'][42648])\n",
    "print ('this is deimos row 97 that should match above', deimos_most_fixed['ID','Date','coordinates'][97])\n",
    "print ('ask erik b/c i think 97 should be a sat but its sats value is 2 not 1...mistake? - this is why fullcat/selected cat differs too')\n",
    "print ('below has same problem but are DEF NOT saga even tho it is a galaxy')\n",
    "print (\"this is row number of full cat data that will match deimos data row:\", deimos_most_fixed_matches_fullcat[0][148])\n",
    "print ('this is 19766:', spec_data_all2['RA', 'DEC','HOST_SAGA_NAME','SATS', 'REMOVE'][19766])\n",
    "print (\"this is row number of full cat data that will match deimos data row:\", deimos_most_fixed_matches_fullcat[0][149])\n",
    "print (\"this is deimos rows that should match 19766:\", deimos_most_fixed['ID', 'coordinates'][148:150])"
   ]
  },
  {
   "cell_type": "code",
   "execution_count": 41,
   "metadata": {},
   "outputs": [
    {
     "name": "stdout",
     "output_type": "stream",
     "text": [
      "(array([ 3884,  5949, 19766, 31819, 41108, 41249, 42648]),)\n",
      "this is row number of deimos data that will match full catalog row: 204\n",
      "this is that deimos row (204):\n",
      "       ID                   coordinates             \n",
      "                              deg,deg               \n",
      "--------------- ------------------------------------\n",
      "\"\"Star_Trek_1\"\" 123.65066666666664,36.43402777777777\n",
      "this is full catalog row 3884:\n",
      "      RA           DEC     \n",
      "------------- -------------\n",
      "123.649897556 36.4343553979\n",
      "great the matching works b/c above do match...but still not enough overall matches\n"
     ]
    }
   ],
   "source": [
    "#testing still to get matching row numbers in full catalog\n",
    "deimos_most_fixed_reverse_test = fullcatalog.match_to_catalog_sky(deimos_most_fixed['coordinates'])\n",
    "#for i in deimos_most_fixed_reverse_test[0]:\n",
    "#    print (i)\n",
    "d2d_deimos_full = deimos_most_fixed_reverse_test[1]\n",
    "subset_deimos_full = np.where(d2d_deimos_full<(3*u.arcsec))\n",
    "print (subset_deimos_full)\n",
    "print (\"this is row number of deimos data that will match full catalog row:\", deimos_most_fixed_reverse_test[0][3884])\n",
    "print('this is that deimos row (204):')\n",
    "print (deimos_most_fixed['ID', 'coordinates'][204])\n",
    "print ('this is full catalog row 3884:')\n",
    "print (spec_data_all['RA','DEC'][3884])\n",
    "print ('great the matching works b/c above do match...but still not enough overall matches')"
   ]
  },
  {
   "cell_type": "code",
   "execution_count": 42,
   "metadata": {
    "collapsed": true
   },
   "outputs": [],
   "source": [
    "#could delete b/c did in print stmts above\n",
    "#examples of some targets that should have matched to catalog but didnt\n",
    "#deimos_most_fixed[97:99]"
   ]
  },
  {
   "cell_type": "code",
   "execution_count": 43,
   "metadata": {
    "collapsed": true
   },
   "outputs": [],
   "source": [
    "#plt.hist(d2d_deimos.arcsec, range=(0,20), bins=25)"
   ]
  },
  {
   "cell_type": "code",
   "execution_count": 44,
   "metadata": {},
   "outputs": [
    {
     "name": "stdout",
     "output_type": "stream",
     "text": [
      "great these are all galaxies!\n"
     ]
    }
   ],
   "source": [
    "#gonna test these in sdss\n",
    "\n",
    "#commented out b/c dont really need these popping up every time i run the NB\n",
    "#import webbrowser\n",
    "#urltempl = 'http://skyserver.sdss.org/dr13/en/tools/chart/navi.aspx?ra={}&dec={}'\n",
    "#for sc0 in sc_deimos[104:107]:\n",
    "#    webbrowser.open_new_tab(urltempl.format(sc0.ra.deg, sc0.dec.deg))\n",
    "print ('great these are all galaxies!')"
   ]
  },
  {
   "cell_type": "code",
   "execution_count": 45,
   "metadata": {
    "collapsed": true
   },
   "outputs": [],
   "source": [
    "#collecting table rows that did match within 3\"\n",
    "deimos_1 = deimos_most_fixed[104:107]\n",
    "deimos_2 = deimos_most_fixed[200:207]\n",
    "deimos_3 = deimos_most_fixed[243:248]\n",
    "#deimos_some_matches = vstack([deimos_1, deimos_2, deimos_3]) #still cant b/c mixin columns\n"
   ]
  },
  {
   "cell_type": "code",
   "execution_count": 46,
   "metadata": {
    "collapsed": true
   },
   "outputs": [],
   "source": [
    "#could delete b/c idk what this was, think its repeated in print stmts above neways\n",
    "#find the new deimos_most_fixed row number\n",
    "#testing what SHOULD be a match to see how far the RA&DECs are\n",
    "#print (spec_data2['RA', 'DEC'][98])\n",
    "#print (deimos_most_fixed[97]) #sdss confirmed galaxy...but still SAGA? theyre pretty far apart\n",
    "#print ('possibly just really bad pointing??')"
   ]
  },
  {
   "cell_type": "code",
   "execution_count": 47,
   "metadata": {
    "collapsed": true
   },
   "outputs": [],
   "source": [
    "#can delete, did in print stmts above\n",
    "#example of what should be a match but didnt match \n",
    "#deimos_most_fixed[0] #sdss confirmed galaxy...saga tho?"
   ]
  },
  {
   "cell_type": "code",
   "execution_count": 48,
   "metadata": {},
   "outputs": [
    {
     "name": "stdout",
     "output_type": "stream",
     "text": [
      "(array([49, 50, 51, 52, 53, 54, 55, 92, 93, 94, 95, 96]),)\n",
      "good! 95 showed up\n"
     ]
    }
   ],
   "source": [
    "#trying another SHOULD be match for one of the deimos datafiles\n",
    "\n",
    "#removing an error value that was in RA column preventing matching (for a leo mask aka non saga anyway)\n",
    "checking = np.where(obs3['RA'] != '!KeyError!')\n",
    "obs3 = obs3[checking]\n",
    "\n",
    "#adding coords\n",
    "sc_obs3_test = SkyCoord(ra=obs3['RA'], dec=obs3['DEC'], unit=(u.hour, u.deg))\n",
    "obs3['coordinates'] = sc_obs3_test\n",
    "\n",
    "#gonna match against full fiber spec file jic\n",
    "#ra3 = spec_data_all['RA']\n",
    "#dec3 = spec_data_all['DEC']\n",
    "\n",
    "#fullcatalog = SkyCoord(ra=ra3*u.degree, dec=dec3*u.degree) #from full spectral data\n",
    "\n",
    "obs3_matches = obs3['coordinates'].match_to_catalog_sky(fullcatalog)\n",
    "\n",
    "#checking matches to within a certain radius \n",
    "d2d_obs3 = obs3_matches[1]\n",
    "subset_obs3 = np.where(d2d_obs3<(3*u.arcsec))\n",
    "print (subset_obs3)\n",
    "print ('good! 95 showed up')"
   ]
  },
  {
   "cell_type": "code",
   "execution_count": 49,
   "metadata": {},
   "outputs": [
    {
     "name": "stdout",
     "output_type": "stream",
     "text": [
      "(array([ 3884,  5949, 31819, 41108]),)\n",
      "why arent there the same number of matches as above cell?\n"
     ]
    }
   ],
   "source": [
    "#testing reverse matching of above cell\n",
    "obs3_matches2 = fullcatalog.match_to_catalog_sky(obs3['coordinates'])\n",
    "d2d_obs3_2 = obs3_matches2[1]\n",
    "subset_obs3_2 = np.where(d2d_obs3_2<(3*u.arcsec))\n",
    "print (subset_obs3_2)\n",
    "print ('why arent there the same number of matches as above cell?')"
   ]
  },
  {
   "cell_type": "markdown",
   "metadata": {},
   "source": [
    "#### This part is Keck Deimos --marapr16--"
   ]
  },
  {
   "cell_type": "code",
   "execution_count": 50,
   "metadata": {},
   "outputs": [
    {
     "data": {
      "text/plain": [
       "array([  7,   7,   7,  18,  18,  18,  18,  18,  18,  18,  18,  18,  18,\n",
       "        18,  18, 131, 131, 131, 163, 163, 163, 163, 163, 163, 166, 166,\n",
       "       166, 166, 166, 166, 103, 103, 103,  18,  18,  18,   7,   7,   7,\n",
       "         7,   7,   7,   7,   7,   7,   7,   7,   7,   7,  11,  11,  11,\n",
       "        11, 163, 163])"
      ]
     },
     "execution_count": 50,
     "metadata": {},
     "output_type": "execute_result"
    }
   ],
   "source": [
    "#first insert skycoords to do ra&dec conversions\n",
    "sc_deimos_marapr = SkyCoord(ra=marapr2016_deimos['RA'], dec=marapr2016_deimos['DEC'], unit=(u.hour, u.deg))\n",
    "#adding skycoord coords into table to use with matching b/c skycoord is made to do this\n",
    "marapr2016_deimos['coordinates'] = sc_deimos_marapr\n",
    "\n",
    "#most setup in palomar_may17 above so can just type this line b/c defs are above\n",
    "deimos_marapr_matches = marapr2016_deimos['coordinates'].match_to_catalog_sky(catalog)\n",
    "deimos_marapr_matches[0]\n",
    "\n"
   ]
  },
  {
   "cell_type": "code",
   "execution_count": 51,
   "metadata": {},
   "outputs": [
    {
     "data": {
      "text/plain": [
       "array([ 3555,  3555,  3555, 11024, 11024, 11024, 11539, 11539, 11539,\n",
       "       11340, 11340, 11340, 11322, 11322, 11322, 52121, 52121, 52121,\n",
       "       60460, 60460, 60460, 60653, 60653, 60653, 66475, 66475, 66475,\n",
       "       66596, 66596, 66596, 41577, 41577, 41577, 11739, 11739, 11739,\n",
       "        4349,  4349,  4349,  4349,  4349,  3736,  3736,  3736,  3736,\n",
       "        3736,  3550,  3550,  3550,  7497,  7497,  7497,  7497, 60862, 60862])"
      ]
     },
     "execution_count": 51,
     "metadata": {},
     "output_type": "execute_result"
    }
   ],
   "source": [
    "#checking against full catalog\n",
    "deimos_marapr_matches_fullcat = marapr2016_deimos['coordinates'].match_to_catalog_sky(fullcatalog)\n",
    "deimos_marapr_matches_fullcat[0]"
   ]
  },
  {
   "cell_type": "code",
   "execution_count": 52,
   "metadata": {},
   "outputs": [
    {
     "data": {
      "text/html": [
       "&lt;Row index=60862&gt;\n",
       "<table id=\"table4700808416\">\n",
       "<thead><tr><th>RA</th><th>DEC</th><th>HOST_SAGA_NAME</th><th>SATS</th><th>REMOVE</th></tr></thead>\n",
       "<thead><tr><th>float64</th><th>float64</th><th>str48</th><th>int64</th><th>int64</th></tr></thead>\n",
       "<tr><td>221.402849914</td><td>-0.344594406822</td><td>165536</td><td>0</td><td>-1</td></tr>\n",
       "</table>"
      ],
      "text/plain": [
       "<Row index=60862>\n",
       "      RA            DEC       HOST_SAGA_NAME  SATS REMOVE\n",
       "   float64        float64         str48      int64 int64 \n",
       "------------- --------------- -------------- ----- ------\n",
       "221.402849914 -0.344594406822         165536     0     -1"
      ]
     },
     "execution_count": 52,
     "metadata": {},
     "output_type": "execute_result"
    }
   ],
   "source": [
    "#checking for problems with rows in full catalog that deimos matched to \n",
    "#spec_data_all2['RA', 'DEC','HOST_SAGA_NAME','SATS', 'REMOVE'][3555] #sats=0\n",
    "#spec_data_all2['RA', 'DEC','HOST_SAGA_NAME','SATS', 'REMOVE'][11024] #sats=0\n",
    "#spec_data_all2['RA', 'DEC','HOST_SAGA_NAME','SATS', 'REMOVE'][11539] #sats=0\n",
    "spec_data_all2['RA', 'DEC','HOST_SAGA_NAME','SATS', 'REMOVE'][60862] #sats=0\n",
    "\n",
    "\n"
   ]
  },
  {
   "cell_type": "code",
   "execution_count": 53,
   "metadata": {
    "collapsed": true
   },
   "outputs": [],
   "source": [
    "#checking results w/ sdss\n",
    "#spec_data2['RA','DEC','SATS','REMOVE'][7] #this is a star trek satellite"
   ]
  },
  {
   "cell_type": "code",
   "execution_count": 54,
   "metadata": {
    "collapsed": true
   },
   "outputs": [],
   "source": [
    "#checking results w/ sdss\n",
    "#marapr2016_deimos[0:4] #sdss says ST3 is a star so why labeled ST3????\n",
    "#sdss says MD1 is a star so why labeled MD1 (thought moby_dick_1)?"
   ]
  },
  {
   "cell_type": "code",
   "execution_count": 55,
   "metadata": {
    "collapsed": true
   },
   "outputs": [],
   "source": [
    "#checking results w/ sdss\n",
    "#spec_data2['RA','DEC','SATS','REMOVE'][18] #this is also a galaxy but pretty far from MD1"
   ]
  },
  {
   "cell_type": "code",
   "execution_count": 56,
   "metadata": {
    "collapsed": true
   },
   "outputs": [],
   "source": [
    "#marapr2016_deimos"
   ]
  },
  {
   "cell_type": "code",
   "execution_count": 57,
   "metadata": {},
   "outputs": [
    {
     "name": "stdout",
     "output_type": "stream",
     "text": [
      "(array([ 0,  1,  2,  3,  4,  5, 12, 13, 14, 15, 16, 17, 18, 19, 20, 21, 22,\n",
      "       23, 24, 25, 26, 27, 28, 29, 30, 31, 32, 36, 37, 38, 39, 40, 41, 42,\n",
      "       43, 44, 45, 46, 47, 48, 49, 50, 51, 52, 53, 54]),)\n",
      "this isnt that bad except every row in fullcat that matches contains SATS = 0 and thats why these are still all bad\n"
     ]
    }
   ],
   "source": [
    "#checking fullcat matches to within a certain radius (11\" is the min radius to get any hits)\n",
    "d2d_deimos_marapr_fullcat = deimos_marapr_matches_fullcat[1]\n",
    "subset_deimos_marapr_fullcat = np.where(d2d_deimos_marapr_fullcat<(59*u.arcsec)) # 46 matches at 59\"\n",
    "print (subset_deimos_marapr_fullcat) #ideally 46 matches\n",
    "print ('this isnt that bad except every row in fullcat that matches contains SATS = 0 and thats why these are still all bad')"
   ]
  },
  {
   "cell_type": "code",
   "execution_count": 58,
   "metadata": {},
   "outputs": [
    {
     "data": {
      "text/plain": [
       "(array([15, 16, 17]),)"
      ]
     },
     "execution_count": 58,
     "metadata": {},
     "output_type": "execute_result"
    }
   ],
   "source": [
    "#checking selected-catalog matches to within a certain radius (58\" is the min radius to get any hits)\n",
    "d2d_deimos_marapr = deimos_marapr_matches[1]\n",
    "subset_deimos_marapr = np.where(d2d_deimos_marapr<(1*u.arcmin)) #34 hits at 20', 31 at 15'\n",
    "subset_deimos_marapr #also very bad...marapr16 should ALL be saga"
   ]
  },
  {
   "cell_type": "code",
   "execution_count": 59,
   "metadata": {},
   "outputs": [
    {
     "name": "stdout",
     "output_type": "stream",
     "text": [
      " ID      RA         DEC      Instrument              coordinates             \n",
      "                                                       deg,deg               \n",
      "--- ----------- ----------- ----------- -------------------------------------\n",
      "MMT 12:11:27.40 +20:03:26.5 Keck_deimos 182.86416666666665,20.057361111111113\n",
      "MMT 12:11:27.40 +20:03:26.5 Keck_deimos 182.86416666666665,20.057361111111113\n",
      "MMT 12:11:27.40 +20:03:26.5 Keck_deimos 182.86416666666665,20.057361111111113\n",
      "above deimos should match below fiber spec but its a star not galaxy ==========> ZERO deimos matches??!!???\n",
      "      RA           DEC     \n",
      "------------- -------------\n",
      "182.848206846 20.0632227672\n"
     ]
    }
   ],
   "source": [
    "#checking selected match results w/ sdss\n",
    "marapr_deimos_1arcmin = marapr2016_deimos[15:18] #no!  sdss says this is a star (3 matches within 1')\n",
    "print (marapr_deimos_1arcmin)\n",
    "print (\"above deimos should match below fiber spec but its a star not galaxy ==========> ZERO deimos matches??!!???\")\n",
    "print (spec_data2['RA','DEC'][131])"
   ]
  },
  {
   "cell_type": "code",
   "execution_count": 60,
   "metadata": {
    "collapsed": true
   },
   "outputs": [],
   "source": [
    "#print ('these are the spec_all rows that should match deimos rows in cell below:', deimos_marapr_matches_fullcat[0][248])\n",
    "#print ('this is 7758:',spec_data_all2['RA','DEC','SATS','REMOVE'][7758])"
   ]
  },
  {
   "cell_type": "code",
   "execution_count": 61,
   "metadata": {},
   "outputs": [
    {
     "name": "stdout",
     "output_type": "stream",
     "text": [
      "CONCLUSION: after many tests, deimos-MarApr really has no satellite matches.?\n"
     ]
    }
   ],
   "source": [
    "print ('CONCLUSION: after many tests, deimos-MarApr really has no satellite matches.?')"
   ]
  },
  {
   "cell_type": "markdown",
   "metadata": {},
   "source": [
    "#### This part is Arecibo radio data"
   ]
  },
  {
   "cell_type": "code",
   "execution_count": 62,
   "metadata": {},
   "outputs": [
    {
     "data": {
      "text/plain": [
       "array([ 22,  24,  23,  26,  25,  31,  30,   7,   8,  18,  49,  51,  53,\n",
       "        52,  50,  82,  83,  83,  83, 129, 132, 131, 130, 163, 165, 166,\n",
       "        98, 105,  99, 104, 101, 100, 102, 106, 103, 118, 121, 120, 119,\n",
       "       116, 117,  13,  12,  11])"
      ]
     },
     "execution_count": 62,
     "metadata": {},
     "output_type": "execute_result"
    }
   ],
   "source": [
    "#didnt need to do this ALREADY IN DEGREES!!!!!!! \n",
    "\n",
    "\n",
    "#first convert ra & dec into degrees & add to table\n",
    "#sc_radio = SkyCoord(ra=radio_data_table['RA'], dec=radio_data_table['DEC'], unit=(u.hour, u.deg))\n",
    "#radio_data_table['coordinates'] = sc_radio\n",
    "\n",
    "ra1 = radio_data_table['RA']\n",
    "dec1 = radio_data_table['DEC']\n",
    "c = SkyCoord(ra=ra1*u.degree, dec=dec1*u.degree)\n",
    "\n",
    "#most setup in palomar_may17 above so can just type this line b/c defs are above\n",
    "radio_data_table_matches = c.match_to_catalog_sky(catalog)\n",
    "\n",
    "radio_data_table_matches[0]\n"
   ]
  },
  {
   "cell_type": "code",
   "execution_count": 63,
   "metadata": {},
   "outputs": [
    {
     "data": {
      "text/html": [
       "&lt;Row index=83&gt;\n",
       "<table id=\"table4837221376\">\n",
       "<thead><tr><th>RA</th><th>DEC</th><th>SATS</th><th>REMOVE</th></tr></thead>\n",
       "<thead><tr><th>float64</th><th>float64</th><th>int64</th><th>int64</th></tr></thead>\n",
       "<tr><td>180.29544216</td><td>-1.2976838319</td><td>1</td><td>-1</td></tr>\n",
       "</table>"
      ],
      "text/plain": [
       "<Row index=83>\n",
       "     RA           DEC       SATS REMOVE\n",
       "  float64       float64    int64 int64 \n",
       "------------ ------------- ----- ------\n",
       "180.29544216 -1.2976838319     1     -1"
      ]
     },
     "execution_count": 63,
     "metadata": {},
     "output_type": "execute_result"
    }
   ],
   "source": [
    "#checking what Alice, Soprano matched to in selected-catalog b/c in fullcatalog they matched SATS=0\n",
    "radio_data_table_matches[0][17]\n",
    "\n",
    "\n",
    "spec_data2['RA','DEC','SATS','REMOVE'][83] "
   ]
  },
  {
   "cell_type": "code",
   "execution_count": 64,
   "metadata": {},
   "outputs": [
    {
     "name": "stdout",
     "output_type": "stream",
     "text": [
      "[ 0  1  2  3  4  5  6  7  8  9 10 11 12 13 14 15 16 19 20 21 22 23 24 25 26\n",
      " 27 28 29 30 31 32 33 34 35 36 37 38 39 40 41 42 43]\n"
     ]
    }
   ],
   "source": [
    "#checking matches to within specific radius\n",
    "#for selected-catalog matches(30 hits within 1\", 42 hits within 4\", 43 hits at 10', need all 44 to match this happens at 197')\n",
    "d2d_radio = radio_data_table_matches[1]\n",
    "subset_radio = np.where(d2d_radio<(4*u.arcsec))\n",
    "print (subset_radio[0])"
   ]
  },
  {
   "cell_type": "code",
   "execution_count": 65,
   "metadata": {},
   "outputs": [
    {
     "data": {
      "text/html": [
       "&lt;Table length=2&gt;\n",
       "<table id=\"table4700793936\" class=\"table-striped table-bordered table-condensed\">\n",
       "<thead><tr><th>ID</th><th>RA</th><th>DEC</th><th>HI_data_source</th><th>Instrument</th><th>Date</th></tr></thead>\n",
       "<thead><tr><th>str11</th><th>float64</th><th>float64</th><th>str50</th><th>str13</th><th>str7</th></tr></thead>\n",
       "<tr><td>Alice</td><td>180.419</td><td>-1.20277</td><td>none</td><td>Arecibo_radio</td><td>unknown</td></tr>\n",
       "<tr><td>Sopranos</td><td>180.636</td><td>1.95803</td><td>none</td><td>Arecibo_radio</td><td>unknown</td></tr>\n",
       "</table>"
      ],
      "text/plain": [
       "<Table length=2>\n",
       "   ID       RA     DEC    HI_data_source   Instrument    Date \n",
       " str11   float64 float64      str50          str13       str7 \n",
       "-------- ------- -------- -------------- ------------- -------\n",
       "   Alice 180.419 -1.20277           none Arecibo_radio unknown\n",
       "Sopranos 180.636  1.95803           none Arecibo_radio unknown"
      ]
     },
     "execution_count": 65,
     "metadata": {},
     "output_type": "execute_result"
    }
   ],
   "source": [
    "#checking non-matches\n",
    "radio_data_table[17:19] #why didnt these match- def SAGA, Alice sdss-galaxy, \n",
    "#Sopranos sdss-galaxy BUT i dont see anything at those coords except can see sopranos(host) nearby at coords given in paper"
   ]
  },
  {
   "cell_type": "code",
   "execution_count": 66,
   "metadata": {},
   "outputs": [
    {
     "data": {
      "text/plain": [
       "array([14444, 15144, 15115, 15525, 15498, 18415, 17870,  3700,  3884,\n",
       "       11624, 24211, 24629, 24700, 24635, 24484, 31275, 31819, 32533,\n",
       "        1373, 51735, 52154, 52120, 51755, 61125, 65599, 67082, 40574,\n",
       "       41548, 40876, 41428, 41108, 41083, 41249, 42350, 41334, 47233,\n",
       "       47640, 47630, 47561, 46685, 46740,  7991,  7758,  5949])"
      ]
     },
     "execution_count": 66,
     "metadata": {},
     "output_type": "execute_result"
    }
   ],
   "source": [
    "#matching to fullcatalog now\n",
    "radio_data_table_matches_fullcat = c.match_to_catalog_sky(fullcatalog)\n",
    "radio_data_table_matches_fullcat[0]\n",
    "#spec_data_all2['RA','DEC','SATS','REMOVE'][65201] #problem is SATS = 0\n"
   ]
  },
  {
   "cell_type": "code",
   "execution_count": 67,
   "metadata": {},
   "outputs": [
    {
     "data": {
      "text/html": [
       "&lt;Row index=5949&gt;\n",
       "<table id=\"table4837314456\">\n",
       "<thead><tr><th>RA</th><th>DEC</th><th>SATS</th><th>REMOVE</th></tr></thead>\n",
       "<thead><tr><th>float64</th><th>float64</th><th>int64</th><th>int64</th></tr></thead>\n",
       "<tr><td>354.350599991</td><td>0.390802769345</td><td>1</td><td>-1</td></tr>\n",
       "</table>"
      ],
      "text/plain": [
       "<Row index=5949>\n",
       "      RA           DEC        SATS REMOVE\n",
       "   float64       float64     int64 int64 \n",
       "------------- -------------- ----- ------\n",
       "354.350599991 0.390802769345     1     -1"
      ]
     },
     "execution_count": 67,
     "metadata": {},
     "output_type": "execute_result"
    }
   ],
   "source": [
    "#checking what columns values are for matched to fullcatalog rows\n",
    "#spec_data_all2['RA','DEC','SATS','REMOVE'][14444] #ok\n",
    "#spec_data_all2['RA','DEC','SATS','REMOVE'][15144] #ok\n",
    "#spec_data_all2['RA','DEC','SATS','REMOVE'][15525] #ok\n",
    "#spec_data_all2['RA','DEC','SATS','REMOVE'][31819] #ok\n",
    "#spec_data_all2['RA','DEC','SATS','REMOVE'][32533] #SATS = 0, this is Alice that didnt match until 10'\n",
    "#spec_data_all2['RA','DEC','SATS','REMOVE'][1373] #SATS = 0, this is Sopranos above which idk if real anyway\n",
    "spec_data_all2['RA','DEC','SATS','REMOVE'][5949] #ok"
   ]
  },
  {
   "cell_type": "code",
   "execution_count": 68,
   "metadata": {},
   "outputs": [
    {
     "name": "stdout",
     "output_type": "stream",
     "text": [
      "(array([ 0,  1,  2,  3,  4,  5,  6,  7,  8,  9, 10, 11, 12, 13, 14, 15, 16,\n",
      "       19, 20, 21, 22, 23, 24, 25, 26, 27, 28, 29, 30, 31, 32, 33, 34, 35,\n",
      "       36, 37, 38, 39, 40, 41, 42, 43]),)\n",
      "these are the same\n"
     ]
    }
   ],
   "source": [
    "#checking how close are the matches with fullcatalog\n",
    "#row 17(alice) matches at 66\" & row 18(sopranos) matches at 100\"\n",
    "d2d_radio_fullcat = radio_data_table_matches_fullcat[1]\n",
    "subset_radio_fullcat = np.where(d2d_radio_fullcat<(4*u.arcsec))\n",
    "print (subset_radio_fullcat)\n",
    "print ('these are the same')"
   ]
  },
  {
   "cell_type": "code",
   "execution_count": 69,
   "metadata": {
    "collapsed": true
   },
   "outputs": [],
   "source": [
    "#collecting all those matches to fullcat (except the 2 that have sats=0) within 4\"\n",
    "radio_1 = radio_data_table[0:17]\n",
    "radio_2 = radio_data_table[19:44]"
   ]
  },
  {
   "cell_type": "code",
   "execution_count": 70,
   "metadata": {},
   "outputs": [
    {
     "name": "stdout",
     "output_type": "stream",
     "text": [
      " ID    RA     DEC   HI_data_source   Instrument    Date \n",
      "--- ------- ------- -------------- ------------- -------\n",
      " Oz 158.043 28.4831          a3118 Arecibo_radio unknown\n",
      " Oz 158.089 28.4199          a3118 Arecibo_radio unknown\n",
      "------------------------above should match with below fiber spec----------------------\n",
      "      RA           DEC     \n",
      "------------- -------------\n",
      "209.375005785 29.0581355972\n",
      " ************************************************************************************ \n",
      "  ID     RA     DEC    HI_data_source   Instrument    Date \n",
      "----- ------- -------- -------------- ------------- -------\n",
      "Alice 180.419 -1.20277           none Arecibo_radio unknown\n",
      "-------------------------above should match with below fiber spec---------------------\n",
      "      RA           DEC      \n",
      "------------- --------------\n",
      "187.241509345 -1.60302487082\n"
     ]
    }
   ],
   "source": [
    "#RECHECK THESE COORDS AFTER FIXED HMS TO DEGREES idk what this cell is about\n",
    "\n",
    "#checking against sdss\n",
    "print (radio_data_table[11:13]) #11 is a galaxy, no object detected here w/ sdss(bad pointing?)\n",
    "print ('------------------------above should match with below fiber spec----------------------')\n",
    "print (spec_data2['RA', 'DEC'][20]) #def a galaxy but not same as 11 above\n",
    "print (' ************************************************************************************ ')\n",
    "print (radio_data_table[17]) #sdss labeled galaxy but idk\n",
    "print ('-------------------------above should match with below fiber spec---------------------')\n",
    "print (spec_data2['RA', 'DEC'][85]) #def a galaxy but not same as 17 above"
   ]
  },
  {
   "cell_type": "markdown",
   "metadata": {},
   "source": [
    "# These are the final tables of saga observations from each log"
   ]
  },
  {
   "cell_type": "code",
   "execution_count": 88,
   "metadata": {},
   "outputs": [
    {
     "name": "stdout",
     "output_type": "stream",
     "text": [
      "arecibo & palomar & deimos tables saved in google sheets:\n",
      "https://docs.google.com/spreadsheets/d/1jBr_25t8rd7jW2mmRmouOempmlA5PMNhgDs00xx1ic0/edit?usp=sharing\n"
     ]
    }
   ],
   "source": [
    "#palomar tables to within 1\"\n",
    "FT_1 = t1_nov15_palomar\n",
    "FT_2 = t2_nov15_palomar\n",
    "FT_3 = t3_nov15_palomar\n",
    "FT_4 = names2_may15_palomar[43:46]\n",
    "FT_5 = names_may17_palomar[0:33] \n",
    "\n",
    "#deimos tables to within 3\"\n",
    "#no matches until go out to within 10 arcmins, unsure of where to make cut; still result multiple table selections\n",
    "#not sure why above comment is no longer valid....jupyter nb too long problems?\n",
    "FT_6 = deimos_1\n",
    "FT_7 = deimos_2\n",
    "FT_8 = deimos_3\n",
    "# closest matches (marapr_deimos_1arcmin) are all stars! MarApr_deimos really has no matches??..verify names w/erik\n",
    "\n",
    "\n",
    "#arecibo radio table to within 4\"\n",
    "FT_9 = radio_1\n",
    "FT_10 = radio_2\n",
    "\n",
    "print ('arecibo & palomar & deimos tables saved in google sheets:')\n",
    "print ('https://docs.google.com/spreadsheets/d/1jBr_25t8rd7jW2mmRmouOempmlA5PMNhgDs00xx1ic0/edit?usp=sharing')\n",
    "\n"
   ]
  },
  {
   "cell_type": "code",
   "execution_count": 72,
   "metadata": {
    "collapsed": true
   },
   "outputs": [],
   "source": [
    "#didnt need b/c this didnt help like i thought it would\n",
    "#np.savetxt('FT_1.txt', t1_nov15_palomar, fmt='%s', header=\"ID, RA, DEC, Date, Instrument, coordinates\")\n",
    "#np.savetxt('FT_2.txt', t2_nov15_palomar, fmt='%s', header=\"ID, RA, DEC, Date, Instrument, coordinates\")\n",
    "#np.savetxt('FT_3.txt', t3_nov15_palomar, fmt='%s', header=\"ID, RA, DEC, Date, Instrument, coordinates\")\n",
    "#np.savetxt('FT_4.txt', names2_may15_palomar[43:46], fmt='%s', header=\"ID, RA, DEC, Date, Instrument, coordinates\")\n",
    "#np.savetxt('FT_5.txt', names_may17_palomar[0:33], fmt='%s', header=\"ID, RA, DEC, Date, Instrument, coordinates\")\n"
   ]
  },
  {
   "cell_type": "markdown",
   "metadata": {},
   "source": [
    "#### Writing all tables to a file to upload on google doc for team---tables 1-4 had problems tho"
   ]
  },
  {
   "cell_type": "code",
   "execution_count": 73,
   "metadata": {},
   "outputs": [],
   "source": [
    "#this will write a single table to file...but i have multiple and cant vstack\n",
    "table_to_write = FT_8['ID', 'Date', 'Exp_time','Instrument']\n",
    "table_to_write['RA'] = FT_8['coordinates'].ra.deg\n",
    "table_to_write['DEC'] = FT_8['coordinates'].dec.deg\n",
    "table_to_write.write('FT_8_for_google_drive.csv')\n"
   ]
  },
  {
   "cell_type": "code",
   "execution_count": 74,
   "metadata": {
    "collapsed": true
   },
   "outputs": [],
   "source": [
    "#this has unsupported operand type(s) for +:'NoneType' and 'str' problems\n",
    "table_to_write = FT_1['ID', 'Date', 'exp_time','Instrument']\n",
    "table_to_write['RA'] = FT_1['coordinates'].ra.deg\n",
    "table_to_write['DEC'] = FT_1['coordinates'].dec.deg\n",
    "#table_to_write.write('FT_1_for_google_drive.csv')"
   ]
  },
  {
   "cell_type": "code",
   "execution_count": 75,
   "metadata": {
    "collapsed": true
   },
   "outputs": [],
   "source": [
    "#this has unsupported operand type(s) for +:'NoneType' and 'str' problems\n",
    "table_to_write = FT_2['ID', 'Date', 'exp_time','Instrument']\n",
    "table_to_write['RA'] = FT_2['coordinates'].ra.deg\n",
    "table_to_write['DEC'] = FT_2['coordinates'].dec.deg\n",
    "#table_to_write.write('FT_2_for_google_drive.csv')"
   ]
  },
  {
   "cell_type": "code",
   "execution_count": 76,
   "metadata": {
    "collapsed": true
   },
   "outputs": [],
   "source": [
    "##this has 'NoneType' and 'str' problems\n",
    "table_to_write = FT_3['ID', 'Date', 'exp_time','Instrument']\n",
    "table_to_write['RA'] = FT_3['coordinates'].ra.deg\n",
    "table_to_write['DEC'] = FT_3['coordinates'].dec.deg\n",
    "#table_to_write.write('FT_3_for_google_drive.csv')"
   ]
  },
  {
   "cell_type": "code",
   "execution_count": 77,
   "metadata": {
    "collapsed": true
   },
   "outputs": [],
   "source": [
    "#this has 'NoneType' and 'str' problems\n",
    "table_to_write = FT_4['ID', 'Date', 'exp_time','Instrument']\n",
    "table_to_write['RA'] = FT_4['coordinates'].ra.deg\n",
    "table_to_write['DEC'] = FT_4['coordinates'].dec.deg\n",
    "#table_to_write.write('FT_4_for_google_drive.csv')"
   ]
  },
  {
   "cell_type": "code",
   "execution_count": 78,
   "metadata": {},
   "outputs": [],
   "source": [
    "table_to_write = FT_5['ID', 'Date', 'exp_time','Instrument']\n",
    "table_to_write['RA'] = FT_5['coordinates'].ra.deg\n",
    "table_to_write['DEC'] = FT_5['coordinates'].dec.deg\n",
    "table_to_write.write('FT_5_for_google_drive.csv')"
   ]
  },
  {
   "cell_type": "code",
   "execution_count": 79,
   "metadata": {},
   "outputs": [],
   "source": [
    "table_to_write = FT_6['ID', 'Date', 'Exp_time','Instrument']\n",
    "table_to_write['RA'] = FT_6['coordinates'].ra.deg\n",
    "table_to_write['DEC'] = FT_6['coordinates'].dec.deg\n",
    "table_to_write.write('FT_6_for_google_drive.csv')"
   ]
  },
  {
   "cell_type": "code",
   "execution_count": 80,
   "metadata": {},
   "outputs": [],
   "source": [
    "table_to_write = FT_7['ID', 'Date', 'Exp_time','Instrument']\n",
    "table_to_write['RA'] = FT_7['coordinates'].ra.deg\n",
    "table_to_write['DEC'] = FT_7['coordinates'].dec.deg\n",
    "table_to_write.write('FT_7_for_google_drive.csv')"
   ]
  },
  {
   "cell_type": "code",
   "execution_count": 81,
   "metadata": {},
   "outputs": [
    {
     "data": {
      "text/plain": [
       "3"
      ]
     },
     "execution_count": 81,
     "metadata": {},
     "output_type": "execute_result"
    }
   ],
   "source": [
    "len(FT_4)"
   ]
  },
  {
   "cell_type": "code",
   "execution_count": 82,
   "metadata": {},
   "outputs": [
    {
     "data": {
      "text/plain": [
       "48"
      ]
     },
     "execution_count": 82,
     "metadata": {},
     "output_type": "execute_result"
    }
   ],
   "source": [
    "33 + 3 + 7 + 5 #all tables that printed to file"
   ]
  },
  {
   "cell_type": "code",
   "execution_count": 83,
   "metadata": {},
   "outputs": [
    {
     "data": {
      "text/plain": [
       "10"
      ]
     },
     "execution_count": 83,
     "metadata": {},
     "output_type": "execute_result"
    }
   ],
   "source": [
    "3 + 3 + 1 + 3 #all tables that didnt print to file"
   ]
  },
  {
   "cell_type": "code",
   "execution_count": 84,
   "metadata": {},
   "outputs": [
    {
     "data": {
      "text/html": [
       "&lt;Table length=3&gt;\n",
       "<table id=\"table4837310592\" class=\"table-striped table-bordered table-condensed\">\n",
       "<thead><tr><th>ID</th><th>RA</th><th>DEC</th><th>Date</th><th>exp_time</th><th>Instrument</th><th>coordinates</th></tr></thead>\n",
       "<thead><tr><th></th><th></th><th></th><th></th><th></th><th></th><th>deg,deg</th></tr></thead>\n",
       "<thead><tr><th>str40</th><th>str13</th><th>str14</th><th>str7</th><th>float64</th><th>str19</th><th>object</th></tr></thead>\n",
       "<tr><td>ody2</td><td>16 31 30.573</td><td>+20 05 37.0494</td><td>5-11-15</td><td>-999.0</td><td>Palomar_Double_Spec</td><td>247.87738749999994,20.093624833333333</td></tr>\n",
       "<tr><td>ody4</td><td>16 32 36.4991</td><td>+19 48 36.9329</td><td>5/10/15</td><td>600.0</td><td>Palomar_Double_Spec</td><td>248.15207958333335,19.81025913888889</td></tr>\n",
       "<tr><td>ody7</td><td>16 32 39.2224</td><td>+19 47 31.9473</td><td>5-12-15</td><td>600.0</td><td>Palomar_Double_Spec</td><td>248.16342666666665,19.792207583333337</td></tr>\n",
       "</table>"
      ],
      "text/plain": [
       "<Table length=3>\n",
       "  ID        RA      ...              coordinates             \n",
       "                    ...                deg,deg               \n",
       "str40     str13     ...                 object               \n",
       "----- ------------- ... -------------------------------------\n",
       " ody2  16 31 30.573 ... 247.87738749999994,20.093624833333333\n",
       " ody4 16 32 36.4991 ...  248.15207958333335,19.81025913888889\n",
       " ody7 16 32 39.2224 ... 248.16342666666665,19.792207583333337"
      ]
     },
     "execution_count": 84,
     "metadata": {},
     "output_type": "execute_result"
    }
   ],
   "source": [
    "#JUST COPIED OVER TABLES INSTEAD OF WRITING TO FILE FOR FT_(1-4) ie THE ONES THAT HAD UNSUPPORTED OPERAND PROBLEMS\n",
    "FT_4"
   ]
  },
  {
   "cell_type": "code",
   "execution_count": 85,
   "metadata": {},
   "outputs": [],
   "source": [
    "table_to_write = FT_9['ID', 'Date','HI_data_source','Instrument', 'RA','DEC']\n",
    "#table_to_write['RA'] = FT_9['RA'].ra.deg\n",
    "#table_to_write['DEC'] = FT_9['DEC'].dec.deg\n",
    "table_to_write.write('FT_9_for_google_drive.csv')"
   ]
  },
  {
   "cell_type": "code",
   "execution_count": 86,
   "metadata": {},
   "outputs": [],
   "source": [
    "table_to_write = FT_10['ID', 'Date','HI_data_source','Instrument', 'RA','DEC']\n",
    "#table_to_write['RA'] = FT_9['RA'].ra.deg\n",
    "#table_to_write['DEC'] = FT_9['DEC'].dec.deg\n",
    "table_to_write.write('FT_10_for_google_drive.csv')"
   ]
  },
  {
   "cell_type": "code",
   "execution_count": 87,
   "metadata": {},
   "outputs": [
    {
     "data": {
      "text/html": [
       "&lt;Table length=1&gt;\n",
       "<table id=\"table4700822048\" class=\"table-striped table-bordered table-condensed\">\n",
       "<thead><tr><th>ID</th><th>RA</th><th>DEC</th><th>Date</th><th>Instrument</th><th>exp_time</th><th>coordinates</th></tr></thead>\n",
       "<thead><tr><th></th><th></th><th></th><th></th><th></th><th></th><th>deg,deg</th></tr></thead>\n",
       "<thead><tr><th>str44</th><th>str13</th><th>str14</th><th>str7</th><th>str19</th><th>str14</th><th>object</th></tr></thead>\n",
       "<tr><td>MobyDick_1</td><td>09 58 44.92</td><td>+32 43 12.96</td><td>11/6/15</td><td>Palomar_Double_Spec</td><td>900</td><td>149.68716666666663,32.72026666666667</td></tr>\n",
       "</table>"
      ],
      "text/plain": [
       "<Table length=1>\n",
       "    ID          RA     ... exp_time             coordinates             \n",
       "                       ...                        deg,deg               \n",
       "  str44       str13    ...  str14                  object               \n",
       "---------- ----------- ... -------- ------------------------------------\n",
       "MobyDick_1 09 58 44.92 ...      900 149.68716666666663,32.72026666666667"
      ]
     },
     "execution_count": 87,
     "metadata": {},
     "output_type": "execute_result"
    }
   ],
   "source": [
    "FT_3"
   ]
  },
  {
   "cell_type": "code",
   "execution_count": null,
   "metadata": {
    "collapsed": true
   },
   "outputs": [],
   "source": []
  }
 ],
 "metadata": {
  "kernelspec": {
   "display_name": "Python 3",
   "language": "python",
   "name": "python3"
  },
  "language_info": {
   "codemirror_mode": {
    "name": "ipython",
    "version": 3
   },
   "file_extension": ".py",
   "mimetype": "text/x-python",
   "name": "python",
   "nbconvert_exporter": "python",
   "pygments_lexer": "ipython3",
   "version": "3.6.1"
  }
 },
 "nbformat": 4,
 "nbformat_minor": 2
}
